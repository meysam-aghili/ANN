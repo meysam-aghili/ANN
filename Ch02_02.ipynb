{
 "cells": [
  {
   "cell_type": "code",
   "execution_count": 50,
   "id": "865f56f2-9332-4c96-a473-74aeb631290f",
   "metadata": {},
   "outputs": [],
   "source": [
    "import tensorflow as tf\n",
    "from tensorflow import keras\n",
    "from sklearn.datasets import fetch_california_housing\n",
    "from sklearn.model_selection import train_test_split\n",
    "from sklearn.preprocessing import StandardScaler\n",
    "from sklearn.model_selection import GridSearchCV"
   ]
  },
  {
   "cell_type": "code",
   "execution_count": 51,
   "id": "b800f14d-c1a1-478b-898f-fb6762f0ca75",
   "metadata": {},
   "outputs": [],
   "source": [
    "import matplotlib.pyplot as plt\n",
    "import numpy as np"
   ]
  },
  {
   "cell_type": "code",
   "execution_count": 3,
   "id": "fd9a1bd1-c65b-4c81-9a17-75b2cc4bc1b9",
   "metadata": {},
   "outputs": [
    {
     "data": {
      "text/plain": [
       "'2.0.0'"
      ]
     },
     "execution_count": 3,
     "metadata": {},
     "output_type": "execute_result"
    }
   ],
   "source": [
    "tf.__version__"
   ]
  },
  {
   "cell_type": "markdown",
   "id": "6c987b3a-61a0-4639-9cf7-2c14b7b39649",
   "metadata": {},
   "source": [
    "# Classification"
   ]
  },
  {
   "cell_type": "code",
   "execution_count": 4,
   "id": "b1c9edfb-326c-4ebd-bab4-ad14487cc3bf",
   "metadata": {},
   "outputs": [],
   "source": [
    "fmnist_data = keras.datasets.fashion_mnist"
   ]
  },
  {
   "cell_type": "code",
   "execution_count": 5,
   "id": "86c3ab9f-aa8b-4a39-9cf3-29b346e398cc",
   "metadata": {},
   "outputs": [],
   "source": [
    "(x_train, y_train), (x_test, y_test) = fmnist_data.load_data()"
   ]
  },
  {
   "cell_type": "code",
   "execution_count": 6,
   "id": "b88c74a9-c846-4f5c-89a4-f32846a6bc25",
   "metadata": {},
   "outputs": [
    {
     "data": {
      "text/plain": [
       "(60000, 28, 28)"
      ]
     },
     "execution_count": 6,
     "metadata": {},
     "output_type": "execute_result"
    }
   ],
   "source": [
    "x_train.shape"
   ]
  },
  {
   "cell_type": "code",
   "execution_count": 7,
   "id": "ff821769-4bea-4c01-b876-61f75a939922",
   "metadata": {},
   "outputs": [
    {
     "data": {
      "text/plain": [
       "(10000, 28, 28)"
      ]
     },
     "execution_count": 7,
     "metadata": {},
     "output_type": "execute_result"
    }
   ],
   "source": [
    "x_test.shape"
   ]
  },
  {
   "cell_type": "code",
   "execution_count": 8,
   "id": "fe57a9c6-d427-4b10-b5e3-cf56d9d683c0",
   "metadata": {},
   "outputs": [
    {
     "data": {
      "text/plain": [
       "(60000,)"
      ]
     },
     "execution_count": 8,
     "metadata": {},
     "output_type": "execute_result"
    }
   ],
   "source": [
    "y_train.shape"
   ]
  },
  {
   "cell_type": "code",
   "execution_count": 9,
   "id": "db835ff6-472f-40e2-a279-0aa53c385c10",
   "metadata": {},
   "outputs": [
    {
     "data": {
      "text/plain": [
       "array([9, 0, 0, 3, 0, 2, 7, 2, 5, 5], dtype=uint8)"
      ]
     },
     "execution_count": 9,
     "metadata": {},
     "output_type": "execute_result"
    }
   ],
   "source": [
    "y_train[:10]"
   ]
  },
  {
   "cell_type": "code",
   "execution_count": 10,
   "id": "a4dd6dd1-d4bd-4c5e-93a4-20f534ee0fcb",
   "metadata": {},
   "outputs": [
    {
     "data": {
      "text/plain": [
       "<matplotlib.image.AxesImage at 0x7fa1be859690>"
      ]
     },
     "execution_count": 10,
     "metadata": {},
     "output_type": "execute_result"
    },
    {
     "data": {
      "image/png": "[encoded data removed]",
      "text/plain": [
       "<Figure size 432x288 with 1 Axes>"
      ]
     },
     "metadata": {
      "needs_background": "light"
     },
     "output_type": "display_data"
    }
   ],
   "source": [
    "plt.imshow(x_train[0,], cmap=\"gray\")"
   ]
  },
  {
   "cell_type": "code",
   "execution_count": 11,
   "id": "187dc581-5c27-486c-be8c-e77925d1948b",
   "metadata": {},
   "outputs": [],
   "source": [
    "x_train, x_test = x_train/255.0, x_test/255.0"
   ]
  },
  {
   "cell_type": "code",
   "execution_count": 12,
   "id": "fc4cf3af-02e9-4e29-aede-71c3bf638b4f",
   "metadata": {},
   "outputs": [
    {
     "data": {
      "text/plain": [
       "(60000, 28, 28)"
      ]
     },
     "execution_count": 12,
     "metadata": {},
     "output_type": "execute_result"
    }
   ],
   "source": [
    "x_train.shape"
   ]
  },
  {
   "cell_type": "code",
   "execution_count": 13,
   "id": "0dd36b28-340d-4e2d-a73d-2746e411daae",
   "metadata": {},
   "outputs": [
    {
     "name": "stderr",
     "output_type": "stream",
     "text": [
      "2021-11-22 16:33:09.796955: I tensorflow/core/platform/cpu_feature_guard.cc:145] This TensorFlow binary is optimized with Intel(R) MKL-DNN to use the following CPU instructions in performance critical operations:  SSE4.1 SSE4.2\n",
      "To enable them in non-MKL-DNN operations, rebuild TensorFlow with the appropriate compiler flags.\n",
      "2021-11-22 16:33:09.797363: I tensorflow/core/common_runtime/process_util.cc:115] Creating new thread pool with default inter op setting: 8. Tune using inter_op_parallelism_threads for best performance.\n"
     ]
    }
   ],
   "source": [
    "model = keras.models.Sequential()\n",
    "model.add(keras.layers.Flatten(input_shape=[28, 28]))\n",
    "model.add(keras.layers.Dense(100, activation=\"relu\"))\n",
    "model.add(keras.layers.Dense(75, activation=\"relu\"))\n",
    "model.add(keras.layers.Dense(10, activation=\"softmax\"))"
   ]
  },
  {
   "cell_type": "markdown",
   "id": "f5ac2135-d9ca-4e45-a2b8-585891173466",
   "metadata": {},
   "source": [
    "# Define Model "
   ]
  },
  {
   "cell_type": "code",
   "execution_count": 14,
   "id": "256c9c7a-c7d7-4cb4-890e-245649c0c1d2",
   "metadata": {},
   "outputs": [],
   "source": [
    "model = keras.models.Sequential([\n",
    "    keras.layers.Flatten(input_shape=[28, 28]),\n",
    "    keras.layers.Dense(100, activation=\"relu\"),\n",
    "    keras.layers.Dense(75, activation=\"relu\"),\n",
    "    keras.layers.Dense(10, activation=\"softmax\")\n",
    "])"
   ]
  },
  {
   "cell_type": "code",
   "execution_count": 15,
   "id": "e739c031-8f84-4c60-98b4-e9aaf6eb78e4",
   "metadata": {},
   "outputs": [
    {
     "name": "stdout",
     "output_type": "stream",
     "text": [
      "Model: \"sequential_1\"\n",
      "_________________________________________________________________\n",
      "Layer (type)                 Output Shape              Param #   \n",
      "=================================================================\n",
      "flatten_1 (Flatten)          (None, 784)               0         \n",
      "_________________________________________________________________\n",
      "dense_3 (Dense)              (None, 100)               78500     \n",
      "_________________________________________________________________\n",
      "dense_4 (Dense)              (None, 75)                7575      \n",
      "_________________________________________________________________\n",
      "dense_5 (Dense)              (None, 10)                760       \n",
      "=================================================================\n",
      "Total params: 86,835\n",
      "Trainable params: 86,835\n",
      "Non-trainable params: 0\n",
      "_________________________________________________________________\n"
     ]
    }
   ],
   "source": [
    "model.summary()"
   ]
  },
  {
   "cell_type": "code",
   "execution_count": 16,
   "id": "8c3e1892-388f-4dd3-bfc0-6c02b8285c16",
   "metadata": {},
   "outputs": [
    {
     "data": {
      "text/plain": [
       "[<tensorflow.python.keras.layers.core.Flatten at 0x7fa1c8848410>,\n",
       " <tensorflow.python.keras.layers.core.Dense at 0x7fa1c8848610>,\n",
       " <tensorflow.python.keras.layers.core.Dense at 0x7fa1c8848990>,\n",
       " <tensorflow.python.keras.layers.core.Dense at 0x7fa1b9e04dd0>]"
      ]
     },
     "execution_count": 16,
     "metadata": {},
     "output_type": "execute_result"
    }
   ],
   "source": [
    "model.layers"
   ]
  },
  {
   "cell_type": "code",
   "execution_count": 17,
   "id": "49b84731-b4d2-4be1-88f4-c4093483afd8",
   "metadata": {},
   "outputs": [],
   "source": [
    "weights, bias = model.layers[1].get_weights()"
   ]
  },
  {
   "cell_type": "code",
   "execution_count": 18,
   "id": "30b270b7-e808-406d-9e9c-260a6faf28d4",
   "metadata": {},
   "outputs": [
    {
     "data": {
      "text/plain": [
       "array([[ 7.6497182e-02,  3.4420535e-02, -6.5113991e-02, ...,\n",
       "        -9.2964247e-03,  6.3723877e-02,  1.0821559e-02],\n",
       "       [ 3.2904848e-02,  6.7349046e-02,  2.2208616e-03, ...,\n",
       "        -3.5741590e-02,  2.5399573e-02,  6.2244624e-02],\n",
       "       [ 1.0840736e-02, -5.4327488e-02, -5.0809979e-03, ...,\n",
       "         2.4432905e-02, -5.0670505e-03, -5.7763457e-02],\n",
       "       ...,\n",
       "       [ 6.5171793e-02,  3.1475253e-02, -3.5604116e-02, ...,\n",
       "         7.7820137e-02, -8.1731096e-02, -3.4723241e-02],\n",
       "       [ 7.6096728e-03,  5.1161587e-02,  1.3443105e-02, ...,\n",
       "         4.2051077e-05,  5.2542835e-02, -3.0556038e-02],\n",
       "       [-7.5235054e-02,  6.9251835e-02,  4.1194186e-03, ...,\n",
       "         2.9052235e-02, -5.3423733e-02,  5.3348169e-02]], dtype=float32)"
      ]
     },
     "execution_count": 18,
     "metadata": {},
     "output_type": "execute_result"
    }
   ],
   "source": [
    "weights"
   ]
  },
  {
   "cell_type": "code",
   "execution_count": 19,
   "id": "375acadf-cfaa-494a-a314-0b3f0c762c16",
   "metadata": {},
   "outputs": [
    {
     "data": {
      "text/plain": [
       "array([0., 0., 0., 0., 0., 0., 0., 0., 0., 0., 0., 0., 0., 0., 0., 0., 0.,\n",
       "       0., 0., 0., 0., 0., 0., 0., 0., 0., 0., 0., 0., 0., 0., 0., 0., 0.,\n",
       "       0., 0., 0., 0., 0., 0., 0., 0., 0., 0., 0., 0., 0., 0., 0., 0., 0.,\n",
       "       0., 0., 0., 0., 0., 0., 0., 0., 0., 0., 0., 0., 0., 0., 0., 0., 0.,\n",
       "       0., 0., 0., 0., 0., 0., 0., 0., 0., 0., 0., 0., 0., 0., 0., 0., 0.,\n",
       "       0., 0., 0., 0., 0., 0., 0., 0., 0., 0., 0., 0., 0., 0., 0.],\n",
       "      dtype=float32)"
      ]
     },
     "execution_count": 19,
     "metadata": {},
     "output_type": "execute_result"
    }
   ],
   "source": [
    "bias"
   ]
  },
  {
   "cell_type": "markdown",
   "id": "f33d5157-bce2-4244-81f5-4eb77a0432f4",
   "metadata": {},
   "source": [
    "# Compile Model"
   ]
  },
  {
   "cell_type": "code",
   "execution_count": 20,
   "id": "df70f038-6509-4cfd-bb9e-e378ee3a5d9f",
   "metadata": {},
   "outputs": [],
   "source": [
    "model.compile(loss=\"sparse_categorical_crossentropy\",\n",
    "              optimizer=\"sgd\",\n",
    "              metrics=[\"accuracy\"])"
   ]
  },
  {
   "cell_type": "markdown",
   "id": "b216f3b6-10b2-48b2-ad38-9ae76d4843a6",
   "metadata": {},
   "source": [
    "# Fit Model"
   ]
  },
  {
   "cell_type": "code",
   "execution_count": 21,
   "id": "2dc38a75-d238-4438-b6ae-340f2dd1d44b",
   "metadata": {},
   "outputs": [
    {
     "name": "stdout",
     "output_type": "stream",
     "text": [
      "Train on 51000 samples, validate on 9000 samples\n",
      "Epoch 1/50\n",
      "51000/51000 [==============================] - 7s 130us/sample - loss: 0.8015 - accuracy: 0.7374 - val_loss: 0.5574 - val_accuracy: 0.8066\n",
      "Epoch 2/50\n",
      "51000/51000 [==============================] - 6s 118us/sample - loss: 0.5135 - accuracy: 0.8218 - val_loss: 0.5223 - val_accuracy: 0.8133\n",
      "Epoch 3/50\n",
      "51000/51000 [==============================] - 6s 117us/sample - loss: 0.4645 - accuracy: 0.8378 - val_loss: 0.4607 - val_accuracy: 0.8353\n",
      "Epoch 4/50\n",
      "51000/51000 [==============================] - 6s 122us/sample - loss: 0.4373 - accuracy: 0.8469 - val_loss: 0.4568 - val_accuracy: 0.8381\n",
      "Epoch 5/50\n",
      "51000/51000 [==============================] - 6s 116us/sample - loss: 0.4169 - accuracy: 0.8533 - val_loss: 0.4343 - val_accuracy: 0.8481\n",
      "Epoch 6/50\n",
      "51000/51000 [==============================] - 6s 116us/sample - loss: 0.3990 - accuracy: 0.8594 - val_loss: 0.4040 - val_accuracy: 0.8598\n",
      "Epoch 7/50\n",
      "51000/51000 [==============================] - 6s 116us/sample - loss: 0.3874 - accuracy: 0.8634 - val_loss: 0.4018 - val_accuracy: 0.8556\n",
      "Epoch 8/50\n",
      "51000/51000 [==============================] - 6s 117us/sample - loss: 0.3746 - accuracy: 0.8679 - val_loss: 0.3921 - val_accuracy: 0.8629\n",
      "Epoch 9/50\n",
      "51000/51000 [==============================] - 6s 118us/sample - loss: 0.3633 - accuracy: 0.8708 - val_loss: 0.4638 - val_accuracy: 0.8306\n",
      "Epoch 10/50\n",
      "51000/51000 [==============================] - 6s 116us/sample - loss: 0.3548 - accuracy: 0.8738 - val_loss: 0.3805 - val_accuracy: 0.8633\n",
      "Epoch 11/50\n",
      "51000/51000 [==============================] - 6s 117us/sample - loss: 0.3463 - accuracy: 0.8759 - val_loss: 0.3786 - val_accuracy: 0.8666\n",
      "Epoch 12/50\n",
      "51000/51000 [==============================] - 6s 116us/sample - loss: 0.3379 - accuracy: 0.8800 - val_loss: 0.3604 - val_accuracy: 0.8703\n",
      "Epoch 13/50\n",
      "51000/51000 [==============================] - 6s 117us/sample - loss: 0.3304 - accuracy: 0.8815 - val_loss: 0.3604 - val_accuracy: 0.8727\n",
      "Epoch 14/50\n",
      "51000/51000 [==============================] - 6s 117us/sample - loss: 0.3246 - accuracy: 0.8833 - val_loss: 0.3544 - val_accuracy: 0.8749\n",
      "Epoch 15/50\n",
      "51000/51000 [==============================] - 7s 133us/sample - loss: 0.3184 - accuracy: 0.8864 - val_loss: 0.3498 - val_accuracy: 0.8719\n",
      "Epoch 16/50\n",
      "51000/51000 [==============================] - 6s 117us/sample - loss: 0.3136 - accuracy: 0.8876 - val_loss: 0.3566 - val_accuracy: 0.8752\n",
      "Epoch 17/50\n",
      "51000/51000 [==============================] - 6s 118us/sample - loss: 0.3073 - accuracy: 0.8898 - val_loss: 0.3701 - val_accuracy: 0.8671\n",
      "Epoch 18/50\n",
      "51000/51000 [==============================] - 6s 118us/sample - loss: 0.3027 - accuracy: 0.8894 - val_loss: 0.3533 - val_accuracy: 0.8732\n",
      "Epoch 19/50\n",
      "51000/51000 [==============================] - 6s 117us/sample - loss: 0.2979 - accuracy: 0.8928 - val_loss: 0.3475 - val_accuracy: 0.8767\n",
      "Epoch 20/50\n",
      "51000/51000 [==============================] - 6s 117us/sample - loss: 0.2933 - accuracy: 0.8944 - val_loss: 0.3465 - val_accuracy: 0.8774\n",
      "Epoch 21/50\n",
      "51000/51000 [==============================] - 6s 119us/sample - loss: 0.2897 - accuracy: 0.8952 - val_loss: 0.3355 - val_accuracy: 0.8807\n",
      "Epoch 22/50\n",
      "51000/51000 [==============================] - 6s 117us/sample - loss: 0.2847 - accuracy: 0.8964 - val_loss: 0.3400 - val_accuracy: 0.8794\n",
      "Epoch 23/50\n",
      "51000/51000 [==============================] - 6s 116us/sample - loss: 0.2810 - accuracy: 0.8975 - val_loss: 0.3416 - val_accuracy: 0.8776\n",
      "Epoch 24/50\n",
      "51000/51000 [==============================] - 6s 118us/sample - loss: 0.2768 - accuracy: 0.8990 - val_loss: 0.3310 - val_accuracy: 0.8824\n",
      "Epoch 25/50\n",
      "51000/51000 [==============================] - 6s 119us/sample - loss: 0.2736 - accuracy: 0.9001 - val_loss: 0.3365 - val_accuracy: 0.8802\n",
      "Epoch 26/50\n",
      "51000/51000 [==============================] - 6s 117us/sample - loss: 0.2685 - accuracy: 0.9030 - val_loss: 0.3691 - val_accuracy: 0.8703\n",
      "Epoch 27/50\n",
      "51000/51000 [==============================] - 6s 117us/sample - loss: 0.2644 - accuracy: 0.9037 - val_loss: 0.3313 - val_accuracy: 0.8851\n",
      "Epoch 28/50\n",
      "51000/51000 [==============================] - 6s 118us/sample - loss: 0.2611 - accuracy: 0.9053 - val_loss: 0.3220 - val_accuracy: 0.8890\n",
      "Epoch 29/50\n",
      "51000/51000 [==============================] - 6s 117us/sample - loss: 0.2578 - accuracy: 0.9066 - val_loss: 0.3386 - val_accuracy: 0.8780\n",
      "Epoch 30/50\n",
      "51000/51000 [==============================] - 6s 119us/sample - loss: 0.2543 - accuracy: 0.9081 - val_loss: 0.3266 - val_accuracy: 0.8854\n",
      "Epoch 31/50\n",
      "51000/51000 [==============================] - 6s 118us/sample - loss: 0.2523 - accuracy: 0.9082 - val_loss: 0.3358 - val_accuracy: 0.8827\n",
      "Epoch 32/50\n",
      "51000/51000 [==============================] - 6s 117us/sample - loss: 0.2496 - accuracy: 0.9092 - val_loss: 0.3244 - val_accuracy: 0.8880\n",
      "Epoch 33/50\n",
      "51000/51000 [==============================] - 6s 118us/sample - loss: 0.2457 - accuracy: 0.9116 - val_loss: 0.3263 - val_accuracy: 0.8854\n",
      "Epoch 34/50\n",
      "51000/51000 [==============================] - 6s 117us/sample - loss: 0.2427 - accuracy: 0.9125 - val_loss: 0.3351 - val_accuracy: 0.8837\n",
      "Epoch 35/50\n",
      "51000/51000 [==============================] - 6s 116us/sample - loss: 0.2390 - accuracy: 0.9132 - val_loss: 0.3290 - val_accuracy: 0.8861\n",
      "Epoch 36/50\n",
      "51000/51000 [==============================] - 6s 117us/sample - loss: 0.2371 - accuracy: 0.9139 - val_loss: 0.3341 - val_accuracy: 0.8848\n",
      "Epoch 37/50\n",
      "51000/51000 [==============================] - 6s 117us/sample - loss: 0.2345 - accuracy: 0.9140 - val_loss: 0.3312 - val_accuracy: 0.8873\n",
      "Epoch 38/50\n",
      "51000/51000 [==============================] - 6s 117us/sample - loss: 0.2310 - accuracy: 0.9157 - val_loss: 0.3346 - val_accuracy: 0.8854\n",
      "Epoch 39/50\n",
      "51000/51000 [==============================] - 6s 117us/sample - loss: 0.2289 - accuracy: 0.9170 - val_loss: 0.3268 - val_accuracy: 0.8844\n",
      "Epoch 40/50\n",
      "51000/51000 [==============================] - 6s 117us/sample - loss: 0.2256 - accuracy: 0.9182 - val_loss: 0.3230 - val_accuracy: 0.8868\n",
      "Epoch 41/50\n",
      "51000/51000 [==============================] - 6s 116us/sample - loss: 0.2235 - accuracy: 0.9196 - val_loss: 0.3287 - val_accuracy: 0.8873\n",
      "Epoch 42/50\n",
      "51000/51000 [==============================] - 6s 119us/sample - loss: 0.2221 - accuracy: 0.9193 - val_loss: 0.3348 - val_accuracy: 0.8850\n",
      "Epoch 43/50\n",
      "51000/51000 [==============================] - 6s 126us/sample - loss: 0.2185 - accuracy: 0.9204 - val_loss: 0.3252 - val_accuracy: 0.8876\n",
      "Epoch 44/50\n",
      "51000/51000 [==============================] - 6s 119us/sample - loss: 0.2159 - accuracy: 0.9229 - val_loss: 0.3340 - val_accuracy: 0.8844\n",
      "Epoch 45/50\n",
      "51000/51000 [==============================] - 6s 118us/sample - loss: 0.2138 - accuracy: 0.9237 - val_loss: 0.3199 - val_accuracy: 0.8890\n",
      "Epoch 46/50\n",
      "51000/51000 [==============================] - 6s 118us/sample - loss: 0.2123 - accuracy: 0.9232 - val_loss: 0.3214 - val_accuracy: 0.8872\n",
      "Epoch 47/50\n",
      "51000/51000 [==============================] - 6s 118us/sample - loss: 0.2101 - accuracy: 0.9235 - val_loss: 0.3236 - val_accuracy: 0.8890\n",
      "Epoch 48/50\n",
      "51000/51000 [==============================] - 6s 118us/sample - loss: 0.2085 - accuracy: 0.9237 - val_loss: 0.3262 - val_accuracy: 0.8882\n",
      "Epoch 49/50\n",
      "51000/51000 [==============================] - 6s 120us/sample - loss: 0.2052 - accuracy: 0.9265 - val_loss: 0.3220 - val_accuracy: 0.8893\n",
      "Epoch 50/50\n",
      "51000/51000 [==============================] - 6s 117us/sample - loss: 0.2029 - accuracy: 0.9270 - val_loss: 0.3435 - val_accuracy: 0.8809\n"
     ]
    }
   ],
   "source": [
    "history = model.fit(x_train, y_train, epochs=50, validation_split=0.15)"
   ]
  },
  {
   "cell_type": "code",
   "execution_count": 22,
   "id": "6f3b0a33-04fa-4664-9159-704f631e80b4",
   "metadata": {},
   "outputs": [
    {
     "name": "stdout",
     "output_type": "stream",
     "text": [
      "{'loss': [0.8014554009297314, 0.5134725752017077, 0.4644911305343404, 0.43727127178743774, 0.41685176661902784, 0.3990297161364088, 0.3873646860403173, 0.37460409784317017, 0.36332189652031543, 0.3547961527927249, 0.3463127553836972, 0.3378796718167324, 0.3303862721218782, 0.3245593805593603, 0.31836912992888805, 0.313604064838559, 0.307276913876627, 0.30268669917536717, 0.29793708866717766, 0.29328694101408415, 0.2897497301195182, 0.28474484836353975, 0.2809650689059613, 0.2768149637708477, 0.273633916582547, 0.2684504963673797, 0.2643759535106958, 0.2610854040828406, 0.25782516686355367, 0.25428069658372915, 0.2522575623521618, 0.2495714419262082, 0.24566107602680431, 0.2427456553145951, 0.23902169691581351, 0.2371268513494847, 0.23449296935983732, 0.2309607482973267, 0.22886653620355268, 0.2256401740271671, 0.22354948408580294, 0.22209053764740627, 0.21846627037197935, 0.2158743189900529, 0.21383453563966004, 0.2122697196205457, 0.21007218057267807, 0.2084560142778883, 0.20522622377264732, 0.20293598304075353], 'accuracy': [0.7373921, 0.8217843, 0.8377843, 0.84686273, 0.8532745, 0.8594314, 0.8633922, 0.8678824, 0.87078434, 0.8737647, 0.8758823, 0.8799804, 0.88145095, 0.8832549, 0.8864118, 0.8876079, 0.8897647, 0.88943136, 0.8928431, 0.89441174, 0.89515686, 0.8964314, 0.8974706, 0.8989804, 0.9000784, 0.9029804, 0.9037451, 0.9052745, 0.90658826, 0.90811765, 0.9082353, 0.9092353, 0.91156864, 0.9124902, 0.9132157, 0.91386276, 0.91396075, 0.91570586, 0.9169608, 0.9182157, 0.9195882, 0.9192549, 0.92035294, 0.92286277, 0.9237059, 0.92317647, 0.9235098, 0.9237255, 0.9264902, 0.9270392], 'val_loss': [0.5573841075102488, 0.5222710135645336, 0.4606557021141052, 0.45680564199553597, 0.43434112107753753, 0.4040088450974888, 0.4018315083583196, 0.3920500333706538, 0.4637649918264813, 0.3804777235587438, 0.3785981155633926, 0.3603819923135969, 0.3603642049100664, 0.35437627985080083, 0.3498462297187911, 0.35659579259819457, 0.37008739591969386, 0.3533266531758838, 0.34750483080744743, 0.3465376066333718, 0.3355239772664176, 0.339960413078467, 0.3416499522924423, 0.33101863371663626, 0.3365467157959938, 0.36911768205960593, 0.33132529318001536, 0.32196883337365256, 0.33862380040685336, 0.326559207012256, 0.3357994403342406, 0.32436380290985106, 0.32628169927663275, 0.33511537354356713, 0.3290216830902629, 0.3341076780011257, 0.3312465503414472, 0.334595475220018, 0.3268129920628336, 0.32302171167400145, 0.32871116037832365, 0.33477634823653435, 0.32523754605982036, 0.33400274193286894, 0.31985108662645023, 0.3213886514008045, 0.3235895106858677, 0.3261617623501354, 0.3219840944541825, 0.34348653640018567], 'val_accuracy': [0.80655557, 0.81333333, 0.83533335, 0.8381111, 0.8481111, 0.85977775, 0.85555553, 0.8628889, 0.83055556, 0.86333334, 0.8665556, 0.8703333, 0.87266666, 0.8748889, 0.8718889, 0.8752222, 0.8671111, 0.87322223, 0.87666667, 0.87744445, 0.8806667, 0.8794444, 0.87755555, 0.88244444, 0.8802222, 0.8703333, 0.8851111, 0.889, 0.878, 0.88544446, 0.88266665, 0.888, 0.88544446, 0.8836667, 0.88611114, 0.8847778, 0.88733333, 0.88544446, 0.8844444, 0.88677776, 0.88733333, 0.885, 0.88755554, 0.8844444, 0.889, 0.88722223, 0.889, 0.8882222, 0.8893333, 0.8808889]}\n"
     ]
    }
   ],
   "source": [
    "print(history.history)"
   ]
  },
  {
   "cell_type": "code",
   "execution_count": 25,
   "id": "171f2d8b-b5d9-43da-909f-6c43e8e362d6",
   "metadata": {
    "jp-MarkdownHeadingCollapsed": true,
    "tags": []
   },
   "outputs": [
    {
     "data": {
      "text/plain": [
       "<matplotlib.legend.Legend at 0x7fa19827be50>"
      ]
     },
     "execution_count": 25,
     "metadata": {},
     "output_type": "execute_result"
    },
    {
     "data": {
      "image/png": "[encoded data removed]",
      "text/plain": [
       "<Figure size 864x360 with 1 Axes>"
      ]
     },
     "metadata": {
      "needs_background": "light"
     },
     "output_type": "display_data"
    }
   ],
   "source": [
    "fig, ax = plt.subplots(figsize=(12, 5))\n",
    "ax.plot(history.history[\"loss\"], label=\"train loss\")\n",
    "ax.plot(history.history[\"accuracy\"], label=\"train accuracy\")\n",
    "ax.plot(history.history[\"val_loss\"], label=\"validation loss\")\n",
    "ax.plot(history.history[\"val_accuracy\"], label=\"validation accuracy\")\n",
    "ax.legend()"
   ]
  },
  {
   "cell_type": "code",
   "execution_count": 26,
   "id": "16b4c921-0f86-4a97-b6f1-74e8e097f3af",
   "metadata": {},
   "outputs": [
    {
     "data": {
      "text/plain": [
       "[0.35327666696310045, 0.8744]"
      ]
     },
     "execution_count": 26,
     "metadata": {},
     "output_type": "execute_result"
    }
   ],
   "source": [
    "model.evaluate(x_test, y_test, verbose=0)"
   ]
  },
  {
   "cell_type": "code",
   "execution_count": 29,
   "id": "9f82e205-0802-4a42-8b5a-85f7c8489372",
   "metadata": {},
   "outputs": [
    {
     "data": {
      "text/plain": [
       "(2, 28, 28)"
      ]
     },
     "execution_count": 29,
     "metadata": {},
     "output_type": "execute_result"
    }
   ],
   "source": [
    "x3 = x_test[1:3,:,:]\n",
    "x3.shape"
   ]
  },
  {
   "cell_type": "code",
   "execution_count": 36,
   "id": "be7f72d5-7abf-4ae8-9088-2621f2394995",
   "metadata": {},
   "outputs": [
    {
     "data": {
      "text/plain": [
       "<matplotlib.image.AxesImage at 0x7fa1bf1b0a90>"
      ]
     },
     "execution_count": 36,
     "metadata": {},
     "output_type": "execute_result"
    },
    {
     "data": {
      "image/png": "[encoded data removed]",
      "text/plain": [
       "<Figure size 432x288 with 1 Axes>"
      ]
     },
     "metadata": {
      "needs_background": "light"
     },
     "output_type": "display_data"
    }
   ],
   "source": [
    "plt.imshow(x3[0], cmap=\"gray\")"
   ]
  },
  {
   "cell_type": "code",
   "execution_count": 35,
   "id": "8e2b070f-b55f-4f8c-ab07-b5d9b28b7d84",
   "metadata": {},
   "outputs": [
    {
     "data": {
      "text/plain": [
       "array([[0.   , 0.   , 0.997, 0.   , 0.001, 0.   , 0.001, 0.   , 0.   ,\n",
       "        0.   ],\n",
       "       [0.   , 1.   , 0.   , 0.   , 0.   , 0.   , 0.   , 0.   , 0.   ,\n",
       "        0.   ]], dtype=float32)"
      ]
     },
     "execution_count": 35,
     "metadata": {},
     "output_type": "execute_result"
    }
   ],
   "source": [
    "model.predict(x3).round(3)"
   ]
  },
  {
   "cell_type": "code",
   "execution_count": 34,
   "id": "451daf18-ba7e-477d-93aa-2ba6610384c1",
   "metadata": {},
   "outputs": [
    {
     "data": {
      "text/plain": [
       "(2, 10)"
      ]
     },
     "execution_count": 34,
     "metadata": {},
     "output_type": "execute_result"
    }
   ],
   "source": [
    "model.predict(x3).shape"
   ]
  },
  {
   "cell_type": "code",
   "execution_count": 41,
   "id": "41d2e79e-ba2c-40c7-9879-9fbfd2f82f8c",
   "metadata": {},
   "outputs": [
    {
     "data": {
      "text/plain": [
       "array([2, 1])"
      ]
     },
     "execution_count": 41,
     "metadata": {},
     "output_type": "execute_result"
    }
   ],
   "source": [
    "np.argmax(model.predict(x3).round(3), axis=1)"
   ]
  },
  {
   "cell_type": "code",
   "execution_count": 43,
   "id": "d026226f-120d-48fd-b1ba-be9d0dbd285e",
   "metadata": {},
   "outputs": [
    {
     "data": {
      "text/plain": [
       "array([2, 1], dtype=uint8)"
      ]
     },
     "execution_count": 43,
     "metadata": {},
     "output_type": "execute_result"
    }
   ],
   "source": [
    "y_test[1:3]"
   ]
  },
  {
   "cell_type": "markdown",
   "id": "867f7d09-b0c0-4884-8dcd-c8c19ef9b635",
   "metadata": {},
   "source": [
    "# Regression"
   ]
  },
  {
   "cell_type": "code",
   "execution_count": 4,
   "id": "3f0c573c-a200-4f2d-ae03-bb1596179d09",
   "metadata": {},
   "outputs": [
    {
     "data": {
      "text/plain": [
       "{'data': array([[   8.3252    ,   41.        ,    6.98412698, ...,    2.55555556,\n",
       "           37.88      , -122.23      ],\n",
       "        [   8.3014    ,   21.        ,    6.23813708, ...,    2.10984183,\n",
       "           37.86      , -122.22      ],\n",
       "        [   7.2574    ,   52.        ,    8.28813559, ...,    2.80225989,\n",
       "           37.85      , -122.24      ],\n",
       "        ...,\n",
       "        [   1.7       ,   17.        ,    5.20554273, ...,    2.3256351 ,\n",
       "           39.43      , -121.22      ],\n",
       "        [   1.8672    ,   18.        ,    5.32951289, ...,    2.12320917,\n",
       "           39.43      , -121.32      ],\n",
       "        [   2.3886    ,   16.        ,    5.25471698, ...,    2.61698113,\n",
       "           39.37      , -121.24      ]]),\n",
       " 'target': array([4.526, 3.585, 3.521, ..., 0.923, 0.847, 0.894]),\n",
       " 'frame': None,\n",
       " 'target_names': ['MedHouseVal'],\n",
       " 'feature_names': ['MedInc',\n",
       "  'HouseAge',\n",
       "  'AveRooms',\n",
       "  'AveBedrms',\n",
       "  'Population',\n",
       "  'AveOccup',\n",
       "  'Latitude',\n",
       "  'Longitude'],\n",
       " 'DESCR': '.. _california_housing_dataset:\\n\\nCalifornia Housing dataset\\n--------------------------\\n\\n**Data Set Characteristics:**\\n\\n    :Number of Instances: 20640\\n\\n    :Number of Attributes: 8 numeric, predictive attributes and the target\\n\\n    :Attribute Information:\\n        - MedInc        median income in block group\\n        - HouseAge      median house age in block group\\n        - AveRooms      average number of rooms per household\\n        - AveBedrms     average number of bedrooms per household\\n        - Population    block group population\\n        - AveOccup      average number of household members\\n        - Latitude      block group latitude\\n        - Longitude     block group longitude\\n\\n    :Missing Attribute Values: None\\n\\nThis dataset was obtained from the StatLib repository.\\nhttps://www.dcc.fc.up.pt/~ltorgo/Regression/cal_housing.html\\n\\nThe target variable is the median house value for California districts,\\nexpressed in hundreds of thousands of dollars ($100,000).\\n\\nThis dataset was derived from the 1990 U.S. census, using one row per census\\nblock group. A block group is the smallest geographical unit for which the U.S.\\nCensus Bureau publishes sample data (a block group typically has a population\\nof 600 to 3,000 people).\\n\\nAn household is a group of people residing within a home. Since the average\\nnumber of rooms and bedrooms in this dataset are provided per household, these\\ncolumns may take surpinsingly large values for block groups with few households\\nand many empty houses, such as vacation resorts.\\n\\nIt can be downloaded/loaded using the\\n:func:`sklearn.datasets.fetch_california_housing` function.\\n\\n.. topic:: References\\n\\n    - Pace, R. Kelley and Ronald Barry, Sparse Spatial Autoregressions,\\n      Statistics and Probability Letters, 33 (1997) 291-297\\n'}"
      ]
     },
     "execution_count": 4,
     "metadata": {},
     "output_type": "execute_result"
    }
   ],
   "source": [
    "california_housing = fetch_california_housing()\n",
    "california_housing"
   ]
  },
  {
   "cell_type": "code",
   "execution_count": 5,
   "id": "9d194572-dc02-4df7-9758-d79311ab5b27",
   "metadata": {},
   "outputs": [],
   "source": [
    "X_train0, X_test, y_train0, y_test = train_test_split(\n",
    "                 california_housing[\"data\"],\n",
    "                 california_housing[\"target\"])"
   ]
  },
  {
   "cell_type": "code",
   "execution_count": 6,
   "id": "984b230c-9740-47d0-a06d-35b532d4d69c",
   "metadata": {},
   "outputs": [],
   "source": [
    "X_train1, X_validation, y_train1, y_validation = train_test_split(X_train0,\n",
    "                                                                  y_train0)"
   ]
  },
  {
   "cell_type": "code",
   "execution_count": 7,
   "id": "ec3c8236-f96a-40e7-8473-6c3a0e8ea428",
   "metadata": {},
   "outputs": [
    {
     "data": {
      "text/plain": [
       "(5160, 8)"
      ]
     },
     "execution_count": 7,
     "metadata": {},
     "output_type": "execute_result"
    }
   ],
   "source": [
    "X_test.shape"
   ]
  },
  {
   "cell_type": "code",
   "execution_count": 8,
   "id": "d68f7c87-aabb-46fc-9f1c-0fdeb30b9357",
   "metadata": {},
   "outputs": [
    {
     "data": {
      "text/plain": [
       "(15480, 8)"
      ]
     },
     "execution_count": 8,
     "metadata": {},
     "output_type": "execute_result"
    }
   ],
   "source": [
    "X_train0.shape"
   ]
  },
  {
   "cell_type": "code",
   "execution_count": 9,
   "id": "e953310b-6805-4527-9a23-a0b2e7ffecbd",
   "metadata": {},
   "outputs": [
    {
     "data": {
      "text/plain": [
       "(11610, 8)"
      ]
     },
     "execution_count": 9,
     "metadata": {},
     "output_type": "execute_result"
    }
   ],
   "source": [
    "X_train1.shape"
   ]
  },
  {
   "cell_type": "code",
   "execution_count": 10,
   "id": "2d12d3ea-f071-4a0f-86a2-bf42574bf365",
   "metadata": {},
   "outputs": [
    {
     "data": {
      "text/plain": [
       "(3870, 8)"
      ]
     },
     "execution_count": 10,
     "metadata": {},
     "output_type": "execute_result"
    }
   ],
   "source": [
    "X_validation.shape"
   ]
  },
  {
   "cell_type": "code",
   "execution_count": 11,
   "id": "e1b91290-8ae9-41bf-b65e-9acc83ce5d9c",
   "metadata": {},
   "outputs": [],
   "source": [
    "sc = StandardScaler()\n",
    "X_train_s = sc.fit_transform(X_train1)\n",
    "X_validation_s = sc.transform(X_validation)\n",
    "X_test_s = sc.transform(X_test)"
   ]
  },
  {
   "cell_type": "code",
   "execution_count": 11,
   "id": "9c3d1f21-9d9f-4c09-84cf-c5003e91a458",
   "metadata": {},
   "outputs": [],
   "source": [
    "model = keras.models.Sequential([\n",
    "    keras.layers.Dense(50, activation=\"relu\"),\n",
    "    keras.layers.Dense(10, activation=\"relu\"),\n",
    "    keras.layers.Dense(1)\n",
    "])"
   ]
  },
  {
   "cell_type": "code",
   "execution_count": 17,
   "id": "6bf76b5a-12aa-493c-a5d4-70aaa39ba358",
   "metadata": {},
   "outputs": [],
   "source": [
    "model.compile(loss=\"mean_squared_error\",\n",
    "              optimizer=\"sgd\",\n",
    "              metrics=[\"mean_absolute_error\"])"
   ]
  },
  {
   "cell_type": "code",
   "execution_count": 19,
   "id": "c2e35ee1-6829-4ac9-a8cb-200a7c90271a",
   "metadata": {},
   "outputs": [
    {
     "name": "stderr",
     "output_type": "stream",
     "text": [
      "2021-11-22 18:05:52.895162: I tensorflow/core/platform/cpu_feature_guard.cc:145] This TensorFlow binary is optimized with Intel(R) MKL-DNN to use the following CPU instructions in performance critical operations:  SSE4.1 SSE4.2\n",
      "To enable them in non-MKL-DNN operations, rebuild TensorFlow with the appropriate compiler flags.\n",
      "2021-11-22 18:05:52.895823: I tensorflow/core/common_runtime/process_util.cc:115] Creating new thread pool with default inter op setting: 8. Tune using inter_op_parallelism_threads for best performance.\n"
     ]
    },
    {
     "name": "stdout",
     "output_type": "stream",
     "text": [
      "Train on 11610 samples, validate on 3870 samples\n",
      "Epoch 1/30\n",
      "11610/11610 [==============================] - 1s 81us/sample - loss: 0.8384 - mean_absolute_error: 0.6245 - val_loss: 0.4708 - val_mean_absolute_error: 0.4942\n",
      "Epoch 2/30\n",
      "11610/11610 [==============================] - 0s 34us/sample - loss: 0.4625 - mean_absolute_error: 0.4853 - val_loss: 0.4039 - val_mean_absolute_error: 0.4551\n",
      "Epoch 3/30\n",
      "11610/11610 [==============================] - 0s 37us/sample - loss: 0.4202 - mean_absolute_error: 0.4605 - val_loss: 0.3798 - val_mean_absolute_error: 0.4343\n",
      "Epoch 4/30\n",
      "11610/11610 [==============================] - 0s 34us/sample - loss: 0.4008 - mean_absolute_error: 0.4485 - val_loss: 0.3687 - val_mean_absolute_error: 0.4318\n",
      "Epoch 5/30\n",
      "11610/11610 [==============================] - 0s 35us/sample - loss: 0.3925 - mean_absolute_error: 0.4445 - val_loss: 0.3559 - val_mean_absolute_error: 0.4309\n",
      "Epoch 6/30\n",
      "11610/11610 [==============================] - ETA: 0s - loss: 0.3821 - mean_absolute_error: 0.438 - 0s 35us/sample - loss: 0.3844 - mean_absolute_error: 0.4396 - val_loss: 0.3645 - val_mean_absolute_error: 0.4289\n",
      "Epoch 7/30\n",
      "11610/11610 [==============================] - 0s 36us/sample - loss: 0.3785 - mean_absolute_error: 0.4349 - val_loss: 0.3457 - val_mean_absolute_error: 0.4207\n",
      "Epoch 8/30\n",
      "11610/11610 [==============================] - 0s 36us/sample - loss: 0.3705 - mean_absolute_error: 0.4322 - val_loss: 0.3378 - val_mean_absolute_error: 0.4200\n",
      "Epoch 9/30\n",
      "11610/11610 [==============================] - 0s 36us/sample - loss: 0.3665 - mean_absolute_error: 0.4277 - val_loss: 0.3416 - val_mean_absolute_error: 0.4123\n",
      "Epoch 10/30\n",
      "11610/11610 [==============================] - 0s 40us/sample - loss: 0.3635 - mean_absolute_error: 0.4257 - val_loss: 0.3325 - val_mean_absolute_error: 0.4120\n",
      "Epoch 11/30\n",
      "11610/11610 [==============================] - 0s 37us/sample - loss: 0.3598 - mean_absolute_error: 0.4223 - val_loss: 0.3268 - val_mean_absolute_error: 0.4133\n",
      "Epoch 12/30\n",
      "11610/11610 [==============================] - 0s 40us/sample - loss: 0.3559 - mean_absolute_error: 0.4202 - val_loss: 0.3426 - val_mean_absolute_error: 0.4348\n",
      "Epoch 13/30\n",
      "11610/11610 [==============================] - 0s 38us/sample - loss: 0.3530 - mean_absolute_error: 0.4195 - val_loss: 0.3269 - val_mean_absolute_error: 0.4098\n",
      "Epoch 14/30\n",
      "11610/11610 [==============================] - 0s 38us/sample - loss: 0.3499 - mean_absolute_error: 0.4162 - val_loss: 0.3274 - val_mean_absolute_error: 0.4153\n",
      "Epoch 15/30\n",
      "11610/11610 [==============================] - 0s 35us/sample - loss: 0.3454 - mean_absolute_error: 0.4131 - val_loss: 0.3209 - val_mean_absolute_error: 0.3969\n",
      "Epoch 16/30\n",
      "11610/11610 [==============================] - 0s 39us/sample - loss: 0.3432 - mean_absolute_error: 0.4110 - val_loss: 0.3117 - val_mean_absolute_error: 0.4015\n",
      "Epoch 17/30\n",
      "11610/11610 [==============================] - 0s 37us/sample - loss: 0.3393 - mean_absolute_error: 0.4084 - val_loss: 0.3101 - val_mean_absolute_error: 0.4020\n",
      "Epoch 18/30\n",
      "11610/11610 [==============================] - 0s 35us/sample - loss: 0.3359 - mean_absolute_error: 0.4067 - val_loss: 0.3100 - val_mean_absolute_error: 0.3907\n",
      "Epoch 19/30\n",
      "11610/11610 [==============================] - 0s 35us/sample - loss: 0.3320 - mean_absolute_error: 0.4032 - val_loss: 0.3238 - val_mean_absolute_error: 0.4168\n",
      "Epoch 20/30\n",
      "11610/11610 [==============================] - 0s 35us/sample - loss: 0.3311 - mean_absolute_error: 0.4025 - val_loss: 0.3149 - val_mean_absolute_error: 0.4097\n",
      "Epoch 21/30\n",
      "11610/11610 [==============================] - 0s 38us/sample - loss: 0.3285 - mean_absolute_error: 0.4003 - val_loss: 0.3058 - val_mean_absolute_error: 0.3916\n",
      "Epoch 22/30\n",
      "11610/11610 [==============================] - 0s 35us/sample - loss: 0.3263 - mean_absolute_error: 0.3985 - val_loss: 0.3072 - val_mean_absolute_error: 0.4013\n",
      "Epoch 23/30\n",
      "11610/11610 [==============================] - 0s 36us/sample - loss: 0.3253 - mean_absolute_error: 0.3980 - val_loss: 0.2947 - val_mean_absolute_error: 0.3784\n",
      "Epoch 24/30\n",
      "11610/11610 [==============================] - 0s 36us/sample - loss: 0.3223 - mean_absolute_error: 0.3962 - val_loss: 0.2971 - val_mean_absolute_error: 0.3835\n",
      "Epoch 25/30\n",
      "11610/11610 [==============================] - 0s 38us/sample - loss: 0.3208 - mean_absolute_error: 0.3944 - val_loss: 0.2920 - val_mean_absolute_error: 0.3817\n",
      "Epoch 26/30\n",
      "11610/11610 [==============================] - 0s 40us/sample - loss: 0.3210 - mean_absolute_error: 0.3944 - val_loss: 0.2966 - val_mean_absolute_error: 0.3819\n",
      "Epoch 27/30\n",
      "11610/11610 [==============================] - 0s 38us/sample - loss: 0.3169 - mean_absolute_error: 0.3930 - val_loss: 0.3056 - val_mean_absolute_error: 0.3861\n",
      "Epoch 28/30\n",
      "11610/11610 [==============================] - 0s 38us/sample - loss: 0.3156 - mean_absolute_error: 0.3906 - val_loss: 0.3190 - val_mean_absolute_error: 0.4167\n",
      "Epoch 29/30\n",
      "11610/11610 [==============================] - 0s 39us/sample - loss: 0.3151 - mean_absolute_error: 0.3903 - val_loss: 0.3042 - val_mean_absolute_error: 0.3875\n",
      "Epoch 30/30\n",
      "11610/11610 [==============================] - 0s 39us/sample - loss: 0.3149 - mean_absolute_error: 0.3897 - val_loss: 0.3005 - val_mean_absolute_error: 0.3855\n"
     ]
    },
    {
     "data": {
      "text/plain": [
       "<tensorflow.python.keras.callbacks.History at 0x7fd811e07090>"
      ]
     },
     "execution_count": 19,
     "metadata": {},
     "output_type": "execute_result"
    }
   ],
   "source": [
    "model.fit(X_train_s, y_train1, epochs=30,\n",
    "          validation_data=(X_validation_s, y_validation))"
   ]
  },
  {
   "cell_type": "markdown",
   "id": "84dc1b5d-3b94-4a1d-bcf9-f3da38680f1f",
   "metadata": {},
   "source": [
    "# Functional API"
   ]
  },
  {
   "cell_type": "code",
   "execution_count": 12,
   "id": "de31a64f-5c23-492b-b6d1-b3825d722e01",
   "metadata": {},
   "outputs": [
    {
     "data": {
      "text/plain": [
       "(8,)"
      ]
     },
     "execution_count": 12,
     "metadata": {},
     "output_type": "execute_result"
    }
   ],
   "source": [
    "X_train0.shape[1:]"
   ]
  },
  {
   "cell_type": "code",
   "execution_count": 13,
   "id": "bf259c70-78e8-49e1-8c53-75c13ab2411e",
   "metadata": {},
   "outputs": [
    {
     "name": "stderr",
     "output_type": "stream",
     "text": [
      "2021-12-04 23:50:07.935738: I tensorflow/core/platform/cpu_feature_guard.cc:145] This TensorFlow binary is optimized with Intel(R) MKL-DNN to use the following CPU instructions in performance critical operations:  SSE4.1 SSE4.2\n",
      "To enable them in non-MKL-DNN operations, rebuild TensorFlow with the appropriate compiler flags.\n",
      "2021-12-04 23:50:07.936263: I tensorflow/core/common_runtime/process_util.cc:115] Creating new thread pool with default inter op setting: 8. Tune using inter_op_parallelism_threads for best performance.\n"
     ]
    }
   ],
   "source": [
    "input_ = keras.layers.Input(shape=X_train1.shape[1:])\n",
    "hidden_layer1 = keras.layers.Dense(50, activation=\"relu\")(input_)\n",
    "hidden_layer2 = keras.layers.Dense(10, activation=\"relu\")(hidden_layer1)\n",
    "concatenate_layer = keras.layers.Concatenate()([input_, hidden_layer2])\n",
    "output = keras.layers.Dense(1)(concatenate_layer)\n",
    "model = keras.Model(inputs=[input_], outputs=[output])"
   ]
  },
  {
   "cell_type": "code",
   "execution_count": 14,
   "id": "ba5c2d24-129a-41fb-9b9c-6c9f9d56f60f",
   "metadata": {},
   "outputs": [],
   "source": [
    "model.compile(loss=\"mean_squared_error\",\n",
    "              optimizer=\"sgd\",\n",
    "              metrics=[\"mean_absolute_error\"])"
   ]
  },
  {
   "cell_type": "code",
   "execution_count": 15,
   "id": "a38f68c0-1d84-48a9-b762-87f8b079acb3",
   "metadata": {},
   "outputs": [
    {
     "name": "stdout",
     "output_type": "stream",
     "text": [
      "Train on 11610 samples, validate on 3870 samples\n",
      "Epoch 1/30\n",
      "11610/11610 [==============================] - 1s 92us/sample - loss: 3.6808 - mean_absolute_error: 0.6974 - val_loss: 4.1287 - val_mean_absolute_error: 1.5027\n",
      "Epoch 2/30\n",
      "11610/11610 [==============================] - 0s 40us/sample - loss: 3.3498 - mean_absolute_error: 0.6484 - val_loss: 0.7603 - val_mean_absolute_error: 0.6167\n",
      "Epoch 3/30\n",
      "11610/11610 [==============================] - 0s 40us/sample - loss: 21.5300 - mean_absolute_error: 0.7260 - val_loss: 0.9220 - val_mean_absolute_error: 0.6116\n",
      "Epoch 4/30\n",
      "11610/11610 [==============================] - 0s 40us/sample - loss: 1.7546 - mean_absolute_error: 0.5746 - val_loss: 0.5655 - val_mean_absolute_error: 0.5427\n",
      "Epoch 5/30\n",
      "11610/11610 [==============================] - 0s 42us/sample - loss: 1.9265 - mean_absolute_error: 0.5611 - val_loss: 0.5411 - val_mean_absolute_error: 0.5297\n",
      "Epoch 6/30\n",
      "11610/11610 [==============================] - 1s 50us/sample - loss: 33.9156 - mean_absolute_error: 0.7561 - val_loss: 2.5126 - val_mean_absolute_error: 1.1835\n",
      "Epoch 7/30\n",
      "11610/11610 [==============================] - 1s 51us/sample - loss: 220.3375 - mean_absolute_error: 1.3932 - val_loss: 1.6834 - val_mean_absolute_error: 0.9093\n",
      "Epoch 8/30\n",
      "11610/11610 [==============================] - 1s 56us/sample - loss: 469.8767 - mean_absolute_error: 1.6361 - val_loss: 1.2219 - val_mean_absolute_error: 0.7568\n",
      "Epoch 9/30\n",
      "11610/11610 [==============================] - 1s 49us/sample - loss: 349.4845 - mean_absolute_error: 1.3660 - val_loss: 1.8614 - val_mean_absolute_error: 0.9141\n",
      "Epoch 10/30\n",
      "11610/11610 [==============================] - 1s 44us/sample - loss: 33.2713 - mean_absolute_error: 0.8264 - val_loss: 1.1107 - val_mean_absolute_error: 0.6787\n",
      "Epoch 11/30\n",
      "11610/11610 [==============================] - 0s 42us/sample - loss: nan - mean_absolute_error: nan - val_loss: nan - val_mean_absolute_error: nan\n",
      "Epoch 12/30\n",
      "11610/11610 [==============================] - 0s 43us/sample - loss: nan - mean_absolute_error: nan - val_loss: nan - val_mean_absolute_error: nan\n",
      "Epoch 13/30\n",
      "11610/11610 [==============================] - 0s 41us/sample - loss: nan - mean_absolute_error: nan - val_loss: nan - val_mean_absolute_error: nan\n",
      "Epoch 14/30\n",
      "11610/11610 [==============================] - 1s 51us/sample - loss: nan - mean_absolute_error: nan - val_loss: nan - val_mean_absolute_error: nan\n",
      "Epoch 15/30\n",
      "11610/11610 [==============================] - 0s 43us/sample - loss: nan - mean_absolute_error: nan - val_loss: nan - val_mean_absolute_error: nan\n",
      "Epoch 16/30\n",
      "11610/11610 [==============================] - 1s 47us/sample - loss: nan - mean_absolute_error: nan - val_loss: nan - val_mean_absolute_error: nan\n",
      "Epoch 17/30\n",
      "11610/11610 [==============================] - 1s 57us/sample - loss: nan - mean_absolute_error: nan - val_loss: nan - val_mean_absolute_error: nan\n",
      "Epoch 18/30\n",
      "11610/11610 [==============================] - 1s 51us/sample - loss: nan - mean_absolute_error: nan - val_loss: nan - val_mean_absolute_error: nan\n",
      "Epoch 19/30\n",
      "11610/11610 [==============================] - 1s 49us/sample - loss: nan - mean_absolute_error: nan - val_loss: nan - val_mean_absolute_error: nan\n",
      "Epoch 20/30\n",
      "11610/11610 [==============================] - 1s 49us/sample - loss: nan - mean_absolute_error: nan - val_loss: nan - val_mean_absolute_error: nan\n",
      "Epoch 21/30\n",
      "11610/11610 [==============================] - 1s 50us/sample - loss: nan - mean_absolute_error: nan - val_loss: nan - val_mean_absolute_error: nan\n",
      "Epoch 22/30\n",
      "11610/11610 [==============================] - 0s 42us/sample - loss: nan - mean_absolute_error: nan - val_loss: nan - val_mean_absolute_error: nan\n",
      "Epoch 23/30\n",
      "11610/11610 [==============================] - 0s 42us/sample - loss: nan - mean_absolute_error: nan - val_loss: nan - val_mean_absolute_error: nan\n",
      "Epoch 24/30\n",
      "11610/11610 [==============================] - 0s 41us/sample - loss: nan - mean_absolute_error: nan - val_loss: nan - val_mean_absolute_error: nan\n",
      "Epoch 25/30\n",
      "11610/11610 [==============================] - 0s 42us/sample - loss: nan - mean_absolute_error: nan - val_loss: nan - val_mean_absolute_error: nan\n",
      "Epoch 26/30\n",
      "11610/11610 [==============================] - 0s 43us/sample - loss: nan - mean_absolute_error: nan - val_loss: nan - val_mean_absolute_error: nan\n",
      "Epoch 27/30\n",
      "11610/11610 [==============================] - 1s 47us/sample - loss: nan - mean_absolute_error: nan - val_loss: nan - val_mean_absolute_error: nan\n",
      "Epoch 28/30\n",
      "11610/11610 [==============================] - 1s 46us/sample - loss: nan - mean_absolute_error: nan - val_loss: nan - val_mean_absolute_error: nan\n",
      "Epoch 29/30\n",
      "11610/11610 [==============================] - 0s 43us/sample - loss: nan - mean_absolute_error: nan - val_loss: nan - val_mean_absolute_error: nan\n",
      "Epoch 30/30\n",
      "11610/11610 [==============================] - 1s 52us/sample - loss: nan - mean_absolute_error: nan - val_loss: nan - val_mean_absolute_error: nan\n"
     ]
    },
    {
     "data": {
      "text/plain": [
       "<tensorflow.python.keras.callbacks.History at 0x7fb31d220050>"
      ]
     },
     "execution_count": 15,
     "metadata": {},
     "output_type": "execute_result"
    }
   ],
   "source": [
    "model.fit(X_train_s, y_train1, epochs=30,\n",
    "          validation_data=(X_validation_s, y_validation))"
   ]
  },
  {
   "cell_type": "code",
   "execution_count": 12,
   "id": "5230562a-70cc-4962-b676-0c74b16d1fa9",
   "metadata": {},
   "outputs": [],
   "source": [
    "X_train_s_1, X_train_s_2 = X_train_s[:, :6], X_train_s[:, -4:]\n",
    "X_validation_s_1, X_validation_s_2 = X_validation_s[:, :6], X_validation_s[:, -4:]\n",
    "X_test_s_1, X_test_s_2 = X_test_s[:, :6], X_test_s[:, -4:]"
   ]
  },
  {
   "cell_type": "code",
   "execution_count": 23,
   "id": "42801973-d581-4027-8345-7c837d358399",
   "metadata": {},
   "outputs": [],
   "source": [
    "input_1 = keras.layers.Input(shape=[6])\n",
    "input_2 = keras.layers.Input(shape=[4])\n",
    "hidden_layer1 = keras.layers.Dense(50, activation=\"relu\")(input_1)\n",
    "hidden_layer2 = keras.layers.Dense(10, activation=\"relu\")(hidden_layer1)\n",
    "concatenate_layer = keras.layers.Concatenate()([input_2, hidden_layer2])\n",
    "output = keras.layers.Dense(1)(concatenate_layer)\n",
    "model = keras.Model(inputs=[input_1, input_2], outputs=[output])"
   ]
  },
  {
   "cell_type": "code",
   "execution_count": 24,
   "id": "3bf1b9d6-69f9-4d61-ae1b-2b0650887e63",
   "metadata": {},
   "outputs": [],
   "source": [
    "model.compile(loss=\"mean_squared_error\",\n",
    "              optimizer=\"sgd\",\n",
    "              metrics=[\"mean_absolute_error\"])"
   ]
  },
  {
   "cell_type": "code",
   "execution_count": 26,
   "id": "5abfadd5-65a0-40d7-84a8-df01109ff3e3",
   "metadata": {},
   "outputs": [
    {
     "name": "stdout",
     "output_type": "stream",
     "text": [
      "Train on 11610 samples, validate on 3870 samples\n",
      "Epoch 1/30\n",
      "11610/11610 [==============================] - 1s 74us/sample - loss: 0.7162 - mean_absolute_error: 0.5870 - val_loss: 7.5694 - val_mean_absolute_error: 0.5735\n",
      "Epoch 2/30\n",
      "11610/11610 [==============================] - 0s 39us/sample - loss: 0.4388 - mean_absolute_error: 0.4794 - val_loss: 0.6560 - val_mean_absolute_error: 0.4922\n",
      "Epoch 3/30\n",
      "11610/11610 [==============================] - 0s 39us/sample - loss: 0.4106 - mean_absolute_error: 0.4644 - val_loss: 1.9041 - val_mean_absolute_error: 0.4977\n",
      "Epoch 4/30\n",
      "11610/11610 [==============================] - 0s 42us/sample - loss: 0.4886 - mean_absolute_error: 0.4788 - val_loss: 1.3351 - val_mean_absolute_error: 0.4826\n",
      "Epoch 5/30\n",
      "11610/11610 [==============================] - 1s 47us/sample - loss: 0.4632 - mean_absolute_error: 0.4841 - val_loss: 0.5940 - val_mean_absolute_error: 0.4733\n",
      "Epoch 6/30\n",
      "11610/11610 [==============================] - 0s 43us/sample - loss: 0.3869 - mean_absolute_error: 0.4543 - val_loss: 0.7127 - val_mean_absolute_error: 0.4729\n",
      "Epoch 7/30\n",
      "11610/11610 [==============================] - 0s 42us/sample - loss: 0.3840 - mean_absolute_error: 0.4513 - val_loss: 0.4189 - val_mean_absolute_error: 0.4571\n",
      "Epoch 8/30\n",
      "11610/11610 [==============================] - 0s 39us/sample - loss: 0.3727 - mean_absolute_error: 0.4449 - val_loss: 0.9825 - val_mean_absolute_error: 0.4671\n",
      "Epoch 9/30\n",
      "11610/11610 [==============================] - 0s 39us/sample - loss: 0.3896 - mean_absolute_error: 0.4488 - val_loss: 1.6849 - val_mean_absolute_error: 0.4748\n",
      "Epoch 10/30\n",
      "11610/11610 [==============================] - 0s 39us/sample - loss: 0.3666 - mean_absolute_error: 0.4384 - val_loss: 0.4440 - val_mean_absolute_error: 0.4514\n",
      "Epoch 11/30\n",
      "11610/11610 [==============================] - 0s 39us/sample - loss: 0.3603 - mean_absolute_error: 0.4358 - val_loss: 0.7127 - val_mean_absolute_error: 0.4507\n",
      "Epoch 12/30\n",
      "11610/11610 [==============================] - 0s 39us/sample - loss: 0.3711 - mean_absolute_error: 0.4368 - val_loss: 0.7465 - val_mean_absolute_error: 0.4550\n",
      "Epoch 13/30\n",
      "11610/11610 [==============================] - 0s 39us/sample - loss: 0.3555 - mean_absolute_error: 0.4314 - val_loss: 0.4943 - val_mean_absolute_error: 0.4451\n",
      "Epoch 14/30\n",
      "11610/11610 [==============================] - 0s 39us/sample - loss: 0.3576 - mean_absolute_error: 0.4316 - val_loss: 2.5473 - val_mean_absolute_error: 0.4734\n",
      "Epoch 15/30\n",
      "11610/11610 [==============================] - 0s 40us/sample - loss: 0.3551 - mean_absolute_error: 0.4296 - val_loss: 0.8241 - val_mean_absolute_error: 0.4540\n",
      "Epoch 16/30\n",
      "11610/11610 [==============================] - 0s 39us/sample - loss: 0.3494 - mean_absolute_error: 0.4265 - val_loss: 1.7067 - val_mean_absolute_error: 0.4648\n",
      "Epoch 17/30\n",
      "11610/11610 [==============================] - 0s 39us/sample - loss: 0.3500 - mean_absolute_error: 0.4263 - val_loss: 0.4923 - val_mean_absolute_error: 0.4404\n",
      "Epoch 18/30\n",
      "11610/11610 [==============================] - 0s 39us/sample - loss: 0.3492 - mean_absolute_error: 0.4261 - val_loss: 0.4925 - val_mean_absolute_error: 0.4411\n",
      "Epoch 19/30\n",
      "11610/11610 [==============================] - 0s 39us/sample - loss: 0.3468 - mean_absolute_error: 0.4246 - val_loss: 0.7651 - val_mean_absolute_error: 0.4490\n",
      "Epoch 20/30\n",
      "11610/11610 [==============================] - 0s 39us/sample - loss: 0.3569 - mean_absolute_error: 0.4288 - val_loss: 1.5873 - val_mean_absolute_error: 0.4566\n",
      "Epoch 21/30\n",
      "11610/11610 [==============================] - 0s 41us/sample - loss: 0.3530 - mean_absolute_error: 0.4279 - val_loss: 2.3603 - val_mean_absolute_error: 0.4573\n",
      "Epoch 22/30\n",
      "11610/11610 [==============================] - 0s 40us/sample - loss: 0.3601 - mean_absolute_error: 0.4274 - val_loss: 0.6944 - val_mean_absolute_error: 0.4431\n",
      "Epoch 23/30\n",
      "11610/11610 [==============================] - 0s 39us/sample - loss: 0.3473 - mean_absolute_error: 0.4237 - val_loss: 1.9438 - val_mean_absolute_error: 0.4550\n",
      "Epoch 24/30\n",
      "11610/11610 [==============================] - 0s 39us/sample - loss: 0.3955 - mean_absolute_error: 0.4302 - val_loss: 1.1879 - val_mean_absolute_error: 0.4492\n",
      "Epoch 25/30\n",
      "11610/11610 [==============================] - 0s 40us/sample - loss: 0.3619 - mean_absolute_error: 0.4253 - val_loss: 0.7873 - val_mean_absolute_error: 0.4444\n",
      "Epoch 26/30\n",
      "11610/11610 [==============================] - 0s 39us/sample - loss: 0.3426 - mean_absolute_error: 0.4210 - val_loss: 4.7571 - val_mean_absolute_error: 0.4774\n",
      "Epoch 27/30\n",
      "11610/11610 [==============================] - 1s 46us/sample - loss: 0.3446 - mean_absolute_error: 0.4214 - val_loss: 0.6925 - val_mean_absolute_error: 0.4451\n",
      "Epoch 28/30\n",
      "11610/11610 [==============================] - 0s 42us/sample - loss: 0.3437 - mean_absolute_error: 0.4211 - val_loss: 1.2958 - val_mean_absolute_error: 0.4523\n",
      "Epoch 29/30\n",
      "11610/11610 [==============================] - 0s 41us/sample - loss: 0.3407 - mean_absolute_error: 0.4196 - val_loss: 0.4115 - val_mean_absolute_error: 0.4331\n",
      "Epoch 30/30\n",
      "11610/11610 [==============================] - 0s 41us/sample - loss: 0.3420 - mean_absolute_error: 0.4198 - val_loss: 0.9805 - val_mean_absolute_error: 0.4572\n"
     ]
    },
    {
     "data": {
      "text/plain": [
       "<tensorflow.python.keras.callbacks.History at 0x7ff65868d090>"
      ]
     },
     "execution_count": 26,
     "metadata": {},
     "output_type": "execute_result"
    }
   ],
   "source": [
    "model.fit((X_train_s_1, X_train_s_2), y_train1, epochs=30,\n",
    "          validation_data=((X_validation_s_1, X_validation_s_2),\n",
    "                           y_validation))"
   ]
  },
  {
   "cell_type": "code",
   "execution_count": 15,
   "id": "9a7e7a6f-1282-4654-8ddc-fe3000c0d93e",
   "metadata": {},
   "outputs": [
    {
     "name": "stderr",
     "output_type": "stream",
     "text": [
      "2021-12-07 06:53:42.242297: I tensorflow/core/platform/cpu_feature_guard.cc:145] This TensorFlow binary is optimized with Intel(R) MKL-DNN to use the following CPU instructions in performance critical operations:  SSE4.1 SSE4.2\n",
      "To enable them in non-MKL-DNN operations, rebuild TensorFlow with the appropriate compiler flags.\n",
      "2021-12-07 06:53:42.243829: I tensorflow/core/common_runtime/process_util.cc:115] Creating new thread pool with default inter op setting: 8. Tune using inter_op_parallelism_threads for best performance.\n"
     ]
    }
   ],
   "source": [
    "input_1 = keras.layers.Input(shape=[6])\n",
    "input_2 = keras.layers.Input(shape=[4])\n",
    "hidden_layer1 = keras.layers.Dense(50, activation=\"relu\")(input_1)\n",
    "hidden_layer2 = keras.layers.Dense(10, activation=\"relu\")(hidden_layer1)\n",
    "concatenate_layer = keras.layers.Concatenate()([input_2, hidden_layer2])\n",
    "output = keras.layers.Dense(1, name=\"output\")(concatenate_layer)\n",
    "helper_output = keras.layers.Dense(1, name=\"helper_output\")(hidden_layer2)\n",
    "model_f = keras.Model(inputs=[input_1, input_2],\n",
    "                    outputs=[output, helper_output])"
   ]
  },
  {
   "cell_type": "code",
   "execution_count": 16,
   "id": "649ddbbe-5106-434f-9131-35ca5a66148b",
   "metadata": {},
   "outputs": [],
   "source": [
    "model_f.compile(loss=[\"mse\", \"mse\"],\n",
    "              loss_weights = [0.8, 0.2],\n",
    "              optimizer=\"sgd\",\n",
    "              metrics=[\"mean_absolute_error\"])"
   ]
  },
  {
   "cell_type": "code",
   "execution_count": 17,
   "id": "9f905791-7fd1-4451-9f30-5a3db023f822",
   "metadata": {},
   "outputs": [
    {
     "name": "stdout",
     "output_type": "stream",
     "text": [
      "Train on 11610 samples, validate on 3870 samples\n",
      "Epoch 1/30\n",
      "11610/11610 [==============================] - 1s 123us/sample - loss: 1.1322 - output_loss: 1.0414 - helper_output_loss: 1.4967 - output_mean_absolute_error: 0.7255 - helper_output_mean_absolute_error: 0.8704 - val_loss: 0.5576 - val_output_loss: 0.5418 - val_helper_output_loss: 0.6223 - val_output_mean_absolute_error: 0.5409 - val_helper_output_mean_absolute_error: 0.5699\n",
      "Epoch 2/30\n",
      "11610/11610 [==============================] - 1s 56us/sample - loss: 0.5345 - output_loss: 0.5223 - helper_output_loss: 0.5835 - output_mean_absolute_error: 0.5253 - helper_output_mean_absolute_error: 0.5605 - val_loss: 0.4849 - val_output_loss: 0.4727 - val_helper_output_loss: 0.5346 - val_output_mean_absolute_error: 0.4938 - val_helper_output_mean_absolute_error: 0.5367\n",
      "Epoch 3/30\n",
      "11610/11610 [==============================] - 1s 60us/sample - loss: 0.4812 - output_loss: 0.4683 - helper_output_loss: 0.5330 - output_mean_absolute_error: 0.4934 - helper_output_mean_absolute_error: 0.5361 - val_loss: 0.4500 - val_output_loss: 0.4367 - val_helper_output_loss: 0.5043 - val_output_mean_absolute_error: 0.4659 - val_helper_output_mean_absolute_error: 0.5138\n",
      "Epoch 4/30\n",
      "11610/11610 [==============================] - 1s 49us/sample - loss: 0.4502 - output_loss: 0.4356 - helper_output_loss: 0.5079 - output_mean_absolute_error: 0.4754 - helper_output_mean_absolute_error: 0.5214 - val_loss: 0.4348 - val_output_loss: 0.4223 - val_helper_output_loss: 0.4855 - val_output_mean_absolute_error: 0.4576 - val_helper_output_mean_absolute_error: 0.5059\n",
      "Epoch 5/30\n",
      "11610/11610 [==============================] - 1s 49us/sample - loss: 0.4423 - output_loss: 0.4291 - helper_output_loss: 0.4946 - output_mean_absolute_error: 0.4665 - helper_output_mean_absolute_error: 0.5138 - val_loss: 0.4216 - val_output_loss: 0.4085 - val_helper_output_loss: 0.4744 - val_output_mean_absolute_error: 0.4512 - val_helper_output_mean_absolute_error: 0.4992\n",
      "Epoch 6/30\n",
      "11610/11610 [==============================] - 1s 49us/sample - loss: 0.4196 - output_loss: 0.4034 - helper_output_loss: 0.4843 - output_mean_absolute_error: 0.4576 - helper_output_mean_absolute_error: 0.5075 - val_loss: 0.4533 - val_output_loss: 0.4496 - val_helper_output_loss: 0.4682 - val_output_mean_absolute_error: 0.4511 - val_helper_output_mean_absolute_error: 0.4988\n",
      "Epoch 7/30\n",
      "11610/11610 [==============================] - 1s 60us/sample - loss: 0.4140 - output_loss: 0.3979 - helper_output_loss: 0.4781 - output_mean_absolute_error: 0.4530 - helper_output_mean_absolute_error: 0.5060 - val_loss: 0.4065 - val_output_loss: 0.3923 - val_helper_output_loss: 0.4640 - val_output_mean_absolute_error: 0.4483 - val_helper_output_mean_absolute_error: 0.4967\n",
      "Epoch 8/30\n",
      "11610/11610 [==============================] - 1s 64us/sample - loss: 0.4025 - output_loss: 0.3855 - helper_output_loss: 0.4704 - output_mean_absolute_error: 0.4473 - helper_output_mean_absolute_error: 0.5019 - val_loss: 0.4503 - val_output_loss: 0.4478 - val_helper_output_loss: 0.4604 - val_output_mean_absolute_error: 0.4433 - val_helper_output_mean_absolute_error: 0.4942\n",
      "Epoch 9/30\n",
      "11610/11610 [==============================] - 1s 68us/sample - loss: 0.4009 - output_loss: 0.3844 - helper_output_loss: 0.4669 - output_mean_absolute_error: 0.4442 - helper_output_mean_absolute_error: 0.5000 - val_loss: 0.3937 - val_output_loss: 0.3777 - val_helper_output_loss: 0.4579 - val_output_mean_absolute_error: 0.4415 - val_helper_output_mean_absolute_error: 0.4959\n",
      "Epoch 10/30\n",
      "11610/11610 [==============================] - 1s 52us/sample - loss: 0.4034 - output_loss: 0.3888 - helper_output_loss: 0.4624 - output_mean_absolute_error: 0.4426 - helper_output_mean_absolute_error: 0.4982 - val_loss: 0.3875 - val_output_loss: 0.3714 - val_helper_output_loss: 0.4522 - val_output_mean_absolute_error: 0.4320 - val_helper_output_mean_absolute_error: 0.4896\n",
      "Epoch 11/30\n",
      "11610/11610 [==============================] - 1s 49us/sample - loss: 0.3886 - output_loss: 0.3718 - helper_output_loss: 0.4573 - output_mean_absolute_error: 0.4381 - helper_output_mean_absolute_error: 0.4958 - val_loss: 0.3915 - val_output_loss: 0.3732 - val_helper_output_loss: 0.4649 - val_output_mean_absolute_error: 0.4370 - val_helper_output_mean_absolute_error: 0.4961\n",
      "Epoch 12/30\n",
      "11610/11610 [==============================] - 1s 49us/sample - loss: 0.3864 - output_loss: 0.3695 - helper_output_loss: 0.4545 - output_mean_absolute_error: 0.4376 - helper_output_mean_absolute_error: 0.4948 - val_loss: 0.4343 - val_output_loss: 0.4270 - val_helper_output_loss: 0.4632 - val_output_mean_absolute_error: 0.4525 - val_helper_output_mean_absolute_error: 0.5042\n",
      "Epoch 13/30\n",
      "11610/11610 [==============================] - 1s 49us/sample - loss: 0.3870 - output_loss: 0.3705 - helper_output_loss: 0.4531 - output_mean_absolute_error: 0.4365 - helper_output_mean_absolute_error: 0.4942 - val_loss: 0.3862 - val_output_loss: 0.3679 - val_helper_output_loss: 0.4597 - val_output_mean_absolute_error: 0.4260 - val_helper_output_mean_absolute_error: 0.4855\n",
      "Epoch 14/30\n",
      "11610/11610 [==============================] - 1s 55us/sample - loss: 0.3811 - output_loss: 0.3639 - helper_output_loss: 0.4498 - output_mean_absolute_error: 0.4342 - helper_output_mean_absolute_error: 0.4913 - val_loss: 0.3808 - val_output_loss: 0.3637 - val_helper_output_loss: 0.4491 - val_output_mean_absolute_error: 0.4273 - val_helper_output_mean_absolute_error: 0.4861\n",
      "Epoch 15/30\n",
      "11610/11610 [==============================] - 1s 63us/sample - loss: 0.3823 - output_loss: 0.3656 - helper_output_loss: 0.4489 - output_mean_absolute_error: 0.4337 - helper_output_mean_absolute_error: 0.4911 - val_loss: 0.3772 - val_output_loss: 0.3597 - val_helper_output_loss: 0.4475 - val_output_mean_absolute_error: 0.4263 - val_helper_output_mean_absolute_error: 0.4857\n",
      "Epoch 16/30\n",
      "11610/11610 [==============================] - 1s 52us/sample - loss: 0.3786 - output_loss: 0.3620 - helper_output_loss: 0.4455 - output_mean_absolute_error: 0.4323 - helper_output_mean_absolute_error: 0.4885 - val_loss: 0.3784 - val_output_loss: 0.3625 - val_helper_output_loss: 0.4416 - val_output_mean_absolute_error: 0.4343 - val_helper_output_mean_absolute_error: 0.4898\n",
      "Epoch 17/30\n",
      "11610/11610 [==============================] - 1s 49us/sample - loss: 0.3778 - output_loss: 0.3608 - helper_output_loss: 0.4454 - output_mean_absolute_error: 0.4317 - helper_output_mean_absolute_error: 0.4882 - val_loss: 0.4219 - val_output_loss: 0.4170 - val_helper_output_loss: 0.4414 - val_output_mean_absolute_error: 0.4298 - val_helper_output_mean_absolute_error: 0.4835\n",
      "Epoch 18/30\n",
      "11610/11610 [==============================] - 1s 49us/sample - loss: 0.4120 - output_loss: 0.4043 - helper_output_loss: 0.4428 - output_mean_absolute_error: 0.4346 - helper_output_mean_absolute_error: 0.4873 - val_loss: 0.4094 - val_output_loss: 0.4003 - val_helper_output_loss: 0.4457 - val_output_mean_absolute_error: 0.4263 - val_helper_output_mean_absolute_error: 0.4823\n",
      "Epoch 19/30\n",
      "11610/11610 [==============================] - 1s 63us/sample - loss: 0.3825 - output_loss: 0.3684 - helper_output_loss: 0.4407 - output_mean_absolute_error: 0.4320 - helper_output_mean_absolute_error: 0.4852 - val_loss: 0.4685 - val_output_loss: 0.4751 - val_helper_output_loss: 0.4420 - val_output_mean_absolute_error: 0.4362 - val_helper_output_mean_absolute_error: 0.4866\n",
      "Epoch 20/30\n",
      "11610/11610 [==============================] - 1s 61us/sample - loss: 0.4868 - output_loss: 0.4988 - helper_output_loss: 0.4385 - output_mean_absolute_error: 0.4359 - helper_output_mean_absolute_error: 0.4866 - val_loss: 0.4636 - val_output_loss: 0.4693 - val_helper_output_loss: 0.4407 - val_output_mean_absolute_error: 0.4269 - val_helper_output_mean_absolute_error: 0.4795\n",
      "Epoch 21/30\n",
      "11610/11610 [==============================] - 1s 49us/sample - loss: 0.5279 - output_loss: 0.5505 - helper_output_loss: 0.4371 - output_mean_absolute_error: 0.4366 - helper_output_mean_absolute_error: 0.4836 - val_loss: 0.4479 - val_output_loss: 0.4505 - val_helper_output_loss: 0.4374 - val_output_mean_absolute_error: 0.4292 - val_helper_output_mean_absolute_error: 0.4789\n",
      "Epoch 22/30\n",
      "11610/11610 [==============================] - 1s 49us/sample - loss: 0.4306 - output_loss: 0.4293 - helper_output_loss: 0.4354 - output_mean_absolute_error: 0.4327 - helper_output_mean_absolute_error: 0.4829 - val_loss: 0.4346 - val_output_loss: 0.4341 - val_helper_output_loss: 0.4364 - val_output_mean_absolute_error: 0.4261 - val_helper_output_mean_absolute_error: 0.4797\n",
      "Epoch 23/30\n",
      "11610/11610 [==============================] - 1s 49us/sample - loss: 0.3791 - output_loss: 0.3655 - helper_output_loss: 0.4339 - output_mean_absolute_error: 0.4287 - helper_output_mean_absolute_error: 0.4817 - val_loss: 0.5833 - val_output_loss: 0.6201 - val_helper_output_loss: 0.4359 - val_output_mean_absolute_error: 0.4336 - val_helper_output_mean_absolute_error: 0.4764\n",
      "Epoch 24/30\n",
      "11610/11610 [==============================] - 1s 49us/sample - loss: 0.6229 - output_loss: 0.6695 - helper_output_loss: 0.4348 - output_mean_absolute_error: 0.4412 - helper_output_mean_absolute_error: 0.4827 - val_loss: 0.5674 - val_output_loss: 0.5999 - val_helper_output_loss: 0.4369 - val_output_mean_absolute_error: 0.4324 - val_helper_output_mean_absolute_error: 0.4826\n",
      "Epoch 25/30\n",
      "11610/11610 [==============================] - 1s 49us/sample - loss: 0.6495 - output_loss: 0.7034 - helper_output_loss: 0.4331 - output_mean_absolute_error: 0.4365 - helper_output_mean_absolute_error: 0.4820 - val_loss: 0.5421 - val_output_loss: 0.5693 - val_helper_output_loss: 0.4330 - val_output_mean_absolute_error: 0.4335 - val_helper_output_mean_absolute_error: 0.4773\n",
      "Epoch 26/30\n",
      "11610/11610 [==============================] - 1s 49us/sample - loss: 0.5614 - output_loss: 0.5936 - helper_output_loss: 0.4325 - output_mean_absolute_error: 0.4380 - helper_output_mean_absolute_error: 0.4813 - val_loss: 0.5304 - val_output_loss: 0.5546 - val_helper_output_loss: 0.4334 - val_output_mean_absolute_error: 0.4273 - val_helper_output_mean_absolute_error: 0.4801\n",
      "Epoch 27/30\n",
      "11610/11610 [==============================] - 1s 49us/sample - loss: 0.6083 - output_loss: 0.6520 - helper_output_loss: 0.4325 - output_mean_absolute_error: 0.4351 - helper_output_mean_absolute_error: 0.4815 - val_loss: 0.5324 - val_output_loss: 0.5576 - val_helper_output_loss: 0.4315 - val_output_mean_absolute_error: 0.4360 - val_helper_output_mean_absolute_error: 0.4766\n",
      "Epoch 28/30\n",
      "11610/11610 [==============================] - 1s 60us/sample - loss: 0.3830 - output_loss: 0.3711 - helper_output_loss: 0.4309 - output_mean_absolute_error: 0.4274 - helper_output_mean_absolute_error: 0.4794 - val_loss: 0.4210 - val_output_loss: 0.4184 - val_helper_output_loss: 0.4314 - val_output_mean_absolute_error: 0.4297 - val_helper_output_mean_absolute_error: 0.4801\n",
      "Epoch 29/30\n",
      "11610/11610 [==============================] - 1s 61us/sample - loss: 0.4611 - output_loss: 0.4689 - helper_output_loss: 0.4296 - output_mean_absolute_error: 0.4315 - helper_output_mean_absolute_error: 0.4792 - val_loss: 0.4237 - val_output_loss: 0.4212 - val_helper_output_loss: 0.4338 - val_output_mean_absolute_error: 0.4274 - val_helper_output_mean_absolute_error: 0.4726\n",
      "Epoch 30/30\n",
      "11610/11610 [==============================] - 1s 50us/sample - loss: 0.3905 - output_loss: 0.3809 - helper_output_loss: 0.4288 - output_mean_absolute_error: 0.4285 - helper_output_mean_absolute_error: 0.4777 - val_loss: 0.3986 - val_output_loss: 0.3910 - val_helper_output_loss: 0.4289 - val_output_mean_absolute_error: 0.4266 - val_helper_output_mean_absolute_error: 0.4762\n"
     ]
    },
    {
     "data": {
      "text/plain": [
       "<tensorflow.python.keras.callbacks.History at 0x7fefe0dce050>"
      ]
     },
     "execution_count": 17,
     "metadata": {},
     "output_type": "execute_result"
    }
   ],
   "source": [
    "model_f.fit((X_train_s_1, X_train_s_2), (y_train1, y_train1), epochs=30,\n",
    "          validation_data=((X_validation_s_1, X_validation_s_2),\n",
    "                           (y_validation, y_validation)))"
   ]
  },
  {
   "cell_type": "markdown",
   "id": "ac726e66-7082-4b68-826e-5c2003634bdd",
   "metadata": {},
   "source": [
    "# Subclass API"
   ]
  },
  {
   "cell_type": "code",
   "execution_count": 18,
   "id": "00f2eab2-ea88-465e-bb1a-117fc16b9133",
   "metadata": {},
   "outputs": [],
   "source": [
    "class WideAndDeepANN(keras.Model):\n",
    "    def __init__(self, activation=\"relu\", **kwargs):\n",
    "        super().__init__(**kwargs)\n",
    "        self.hidden_layer_1 = keras.layers.Dense(50, activation=activation)\n",
    "        self.hidden_layer_2 = keras.layers.Dense(10, activation=activation)\n",
    "        self.final_output   = keras.layers.Dense(1)\n",
    "        self.helper_output  = keras.layers.Dense(1)\n",
    "    \n",
    "    def call(self, inputs):\n",
    "        input_1, input_2 = inputs\n",
    "        h1_out = self.hidden_layer_1(input_1)\n",
    "        h2_out = self.hidden_layer_2(h1_out)\n",
    "        concat_out = keras.layers.concatenate([input_2, h2_out])\n",
    "        final_out = self.final_output(concat_out)\n",
    "        helper_out = self.helper_output(h2_out)\n",
    "        return final_out, helper_out"
   ]
  },
  {
   "cell_type": "code",
   "execution_count": 19,
   "id": "0a9d0481-4f86-4046-9718-427f03164b61",
   "metadata": {},
   "outputs": [],
   "source": [
    "model_sub = WideAndDeepANN()"
   ]
  },
  {
   "cell_type": "code",
   "execution_count": 20,
   "id": "e4bccd74-e1f0-4379-9a95-23aad79c9388",
   "metadata": {},
   "outputs": [],
   "source": [
    "model_sub.compile(loss=[\"mse\", \"mse\"],\n",
    "              loss_weights = [0.8, 0.2],\n",
    "              optimizer=\"sgd\",\n",
    "              metrics=[\"mean_absolute_error\"])"
   ]
  },
  {
   "cell_type": "code",
   "execution_count": 21,
   "id": "41cfbb9a-e734-4175-82f8-327f1489011a",
   "metadata": {},
   "outputs": [
    {
     "name": "stdout",
     "output_type": "stream",
     "text": [
      "Train on 11610 samples, validate on 3870 samples\n",
      "Epoch 1/30\n",
      "11610/11610 [==============================] - 1s 112us/sample - loss: 1.0452 - output_1_loss: 0.9989 - output_2_loss: 1.2286 - output_1_mean_absolute_error: 0.6595 - output_2_mean_absolute_error: 0.7561 - val_loss: 0.5472 - val_output_1_loss: 0.5280 - val_output_2_loss: 0.6250 - val_output_1_mean_absolute_error: 0.5471 - val_output_2_mean_absolute_error: 0.5681\n",
      "Epoch 2/30\n",
      "11610/11610 [==============================] - 1s 48us/sample - loss: 0.5102 - output_1_loss: 0.4921 - output_2_loss: 0.5821 - output_1_mean_absolute_error: 0.5095 - output_2_mean_absolute_error: 0.5612 - val_loss: 0.4623 - val_output_1_loss: 0.4428 - val_output_2_loss: 0.5414 - val_output_1_mean_absolute_error: 0.4777 - val_output_2_mean_absolute_error: 0.5390\n",
      "Epoch 3/30\n",
      "11610/11610 [==============================] - 1s 59us/sample - loss: 0.4703 - output_1_loss: 0.4532 - output_2_loss: 0.5405 - output_1_mean_absolute_error: 0.4835 - output_2_mean_absolute_error: 0.5418 - val_loss: 0.4622 - val_output_1_loss: 0.4443 - val_output_2_loss: 0.5343 - val_output_1_mean_absolute_error: 0.4691 - val_output_2_mean_absolute_error: 0.5296\n",
      "Epoch 4/30\n",
      "11610/11610 [==============================] - 1s 60us/sample - loss: 0.4473 - output_1_loss: 0.4293 - output_2_loss: 0.5191 - output_1_mean_absolute_error: 0.4732 - output_2_mean_absolute_error: 0.5306 - val_loss: 0.4389 - val_output_1_loss: 0.4235 - val_output_2_loss: 0.5011 - val_output_1_mean_absolute_error: 0.4563 - val_output_2_mean_absolute_error: 0.5144\n",
      "Epoch 5/30\n",
      "11610/11610 [==============================] - 1s 60us/sample - loss: 0.4364 - output_1_loss: 0.4192 - output_2_loss: 0.5052 - output_1_mean_absolute_error: 0.4664 - output_2_mean_absolute_error: 0.5213 - val_loss: 0.4142 - val_output_1_loss: 0.3962 - val_output_2_loss: 0.4871 - val_output_1_mean_absolute_error: 0.4568 - val_output_2_mean_absolute_error: 0.5121\n",
      "Epoch 6/30\n",
      "11610/11610 [==============================] - 1s 50us/sample - loss: 0.4290 - output_1_loss: 0.4120 - output_2_loss: 0.4965 - output_1_mean_absolute_error: 0.4635 - output_2_mean_absolute_error: 0.5171 - val_loss: 0.4099 - val_output_1_loss: 0.3914 - val_output_2_loss: 0.4842 - val_output_1_mean_absolute_error: 0.4469 - val_output_2_mean_absolute_error: 0.5039\n",
      "Epoch 7/30\n",
      "11610/11610 [==============================] - 1s 66us/sample - loss: 0.4194 - output_1_loss: 0.4026 - output_2_loss: 0.4872 - output_1_mean_absolute_error: 0.4583 - output_2_mean_absolute_error: 0.5116 - val_loss: 0.4466 - val_output_1_loss: 0.4399 - val_output_2_loss: 0.4737 - val_output_1_mean_absolute_error: 0.4603 - val_output_2_mean_absolute_error: 0.5064\n",
      "Epoch 8/30\n",
      "11610/11610 [==============================] - 1s 52us/sample - loss: 0.4256 - output_1_loss: 0.4119 - output_2_loss: 0.4804 - output_1_mean_absolute_error: 0.4583 - output_2_mean_absolute_error: 0.5071 - val_loss: 0.7616 - val_output_1_loss: 0.8341 - val_output_2_loss: 0.4713 - val_output_1_mean_absolute_error: 0.4558 - val_output_2_mean_absolute_error: 0.5000\n",
      "Epoch 9/30\n",
      "11610/11610 [==============================] - 1s 49us/sample - loss: 0.4496 - output_1_loss: 0.4430 - output_2_loss: 0.4761 - output_1_mean_absolute_error: 0.4573 - output_2_mean_absolute_error: 0.5050 - val_loss: 1.0082 - val_output_1_loss: 1.1425 - val_output_2_loss: 0.4699 - val_output_1_mean_absolute_error: 0.4697 - val_output_2_mean_absolute_error: 0.4989\n",
      "Epoch 10/30\n",
      "11610/11610 [==============================] - 1s 57us/sample - loss: 1.1684 - output_1_loss: 1.3418 - output_2_loss: 0.4728 - output_1_mean_absolute_error: 0.4887 - output_2_mean_absolute_error: 0.5051 - val_loss: 0.9334 - val_output_1_loss: 1.0494 - val_output_2_loss: 0.4685 - val_output_1_mean_absolute_error: 0.4611 - val_output_2_mean_absolute_error: 0.5034\n",
      "Epoch 11/30\n",
      "11610/11610 [==============================] - 1s 66us/sample - loss: 1.2674 - output_1_loss: 1.4653 - output_2_loss: 0.4741 - output_1_mean_absolute_error: 0.4926 - output_2_mean_absolute_error: 0.5054 - val_loss: 0.8259 - val_output_1_loss: 0.9175 - val_output_2_loss: 0.4582 - val_output_1_mean_absolute_error: 0.4619 - val_output_2_mean_absolute_error: 0.4967\n",
      "Epoch 12/30\n",
      "11610/11610 [==============================] - 1s 50us/sample - loss: 0.8283 - output_1_loss: 0.9188 - output_2_loss: 0.4651 - output_1_mean_absolute_error: 0.4728 - output_2_mean_absolute_error: 0.4979 - val_loss: 0.7418 - val_output_1_loss: 0.8113 - val_output_2_loss: 0.4632 - val_output_1_mean_absolute_error: 0.4508 - val_output_2_mean_absolute_error: 0.4920\n",
      "Epoch 13/30\n",
      "11610/11610 [==============================] - 1s 49us/sample - loss: 0.4390 - output_1_loss: 0.4335 - output_2_loss: 0.4610 - output_1_mean_absolute_error: 0.4475 - output_2_mean_absolute_error: 0.4981 - val_loss: 1.2103 - val_output_1_loss: 1.3978 - val_output_2_loss: 0.4585 - val_output_1_mean_absolute_error: 0.4694 - val_output_2_mean_absolute_error: 0.4869\n",
      "Epoch 14/30\n",
      "11610/11610 [==============================] - 1s 50us/sample - loss: 1.3279 - output_1_loss: 1.6787 - output_2_loss: 0.4581 - output_1_mean_absolute_error: 0.4910 - output_2_mean_absolute_error: 0.4964 - val_loss: 0.5977 - val_output_1_loss: 0.6326 - val_output_2_loss: 0.4579 - val_output_1_mean_absolute_error: 0.5029 - val_output_2_mean_absolute_error: 0.4930\n",
      "Epoch 15/30\n",
      "11610/11610 [==============================] - 1s 62us/sample - loss: 0.6930 - output_1_loss: 0.7509 - output_2_loss: 0.4618 - output_1_mean_absolute_error: 0.4778 - output_2_mean_absolute_error: 0.4978 - val_loss: 0.5331 - val_output_1_loss: 0.5524 - val_output_2_loss: 0.4556 - val_output_1_mean_absolute_error: 0.4495 - val_output_2_mean_absolute_error: 0.4934\n",
      "Epoch 16/30\n",
      "11610/11610 [==============================] - 1s 56us/sample - loss: 0.5334 - output_1_loss: 0.5542 - output_2_loss: 0.4509 - output_1_mean_absolute_error: 0.4487 - output_2_mean_absolute_error: 0.4912 - val_loss: 0.5267 - val_output_1_loss: 0.5469 - val_output_2_loss: 0.4458 - val_output_1_mean_absolute_error: 0.4451 - val_output_2_mean_absolute_error: 0.4899\n",
      "Epoch 17/30\n",
      "11610/11610 [==============================] - 1s 49us/sample - loss: 0.6400 - output_1_loss: 0.6881 - output_2_loss: 0.4469 - output_1_mean_absolute_error: 0.4586 - output_2_mean_absolute_error: 0.4883 - val_loss: 0.4975 - val_output_1_loss: 0.5103 - val_output_2_loss: 0.4461 - val_output_1_mean_absolute_error: 0.4443 - val_output_2_mean_absolute_error: 0.4886\n",
      "Epoch 18/30\n",
      "11610/11610 [==============================] - 1s 49us/sample - loss: 0.5118 - output_1_loss: 0.5286 - output_2_loss: 0.4441 - output_1_mean_absolute_error: 0.4460 - output_2_mean_absolute_error: 0.4867 - val_loss: 0.4949 - val_output_1_loss: 0.5083 - val_output_2_loss: 0.4414 - val_output_1_mean_absolute_error: 0.4387 - val_output_2_mean_absolute_error: 0.4784\n",
      "Epoch 19/30\n",
      "11610/11610 [==============================] - 1s 49us/sample - loss: 0.4087 - output_1_loss: 0.4009 - output_2_loss: 0.4400 - output_1_mean_absolute_error: 0.4408 - output_2_mean_absolute_error: 0.4832 - val_loss: 0.6943 - val_output_1_loss: 0.7577 - val_output_2_loss: 0.4401 - val_output_1_mean_absolute_error: 0.4486 - val_output_2_mean_absolute_error: 0.4795\n",
      "Epoch 20/30\n",
      "11610/11610 [==============================] - 1s 63us/sample - loss: 0.6747 - output_1_loss: 0.7333 - output_2_loss: 0.4403 - output_1_mean_absolute_error: 0.4509 - output_2_mean_absolute_error: 0.4856 - val_loss: 0.6428 - val_output_1_loss: 0.6941 - val_output_2_loss: 0.4371 - val_output_1_mean_absolute_error: 0.4379 - val_output_2_mean_absolute_error: 0.4782\n",
      "Epoch 21/30\n",
      "11610/11610 [==============================] - 1s 62us/sample - loss: 0.8309 - output_1_loss: 0.9279 - output_2_loss: 0.4412 - output_1_mean_absolute_error: 0.4607 - output_2_mean_absolute_error: 0.4832 - val_loss: 0.6026 - val_output_1_loss: 0.6434 - val_output_2_loss: 0.4392 - val_output_1_mean_absolute_error: 0.4437 - val_output_2_mean_absolute_error: 0.4747\n",
      "Epoch 22/30\n",
      "11610/11610 [==============================] - 1s 57us/sample - loss: 0.3961 - output_1_loss: 0.3857 - output_2_loss: 0.4370 - output_1_mean_absolute_error: 0.4361 - output_2_mean_absolute_error: 0.4814 - val_loss: 0.4378 - val_output_1_loss: 0.4387 - val_output_2_loss: 0.4341 - val_output_1_mean_absolute_error: 0.4340 - val_output_2_mean_absolute_error: 0.4751\n",
      "Epoch 23/30\n",
      "11610/11610 [==============================] - 1s 49us/sample - loss: 0.4888 - output_1_loss: 0.5019 - output_2_loss: 0.4360 - output_1_mean_absolute_error: 0.4448 - output_2_mean_absolute_error: 0.4788 - val_loss: 0.4271 - val_output_1_loss: 0.4255 - val_output_2_loss: 0.4335 - val_output_1_mean_absolute_error: 0.4395 - val_output_2_mean_absolute_error: 0.4770\n",
      "Epoch 24/30\n",
      "11610/11610 [==============================] - 1s 59us/sample - loss: 0.3801 - output_1_loss: 0.3669 - output_2_loss: 0.4330 - output_1_mean_absolute_error: 0.4341 - output_2_mean_absolute_error: 0.4781 - val_loss: 0.3826 - val_output_1_loss: 0.3683 - val_output_2_loss: 0.4397 - val_output_1_mean_absolute_error: 0.4382 - val_output_2_mean_absolute_error: 0.4832\n",
      "Epoch 25/30\n",
      "11610/11610 [==============================] - 1s 60us/sample - loss: 0.3758 - output_1_loss: 0.3620 - output_2_loss: 0.4310 - output_1_mean_absolute_error: 0.4318 - output_2_mean_absolute_error: 0.4779 - val_loss: 0.4439 - val_output_1_loss: 0.4472 - val_output_2_loss: 0.4305 - val_output_1_mean_absolute_error: 0.4300 - val_output_2_mean_absolute_error: 0.4695\n",
      "Epoch 26/30\n",
      "11610/11610 [==============================] - 1s 49us/sample - loss: 0.4451 - output_1_loss: 0.4485 - output_2_loss: 0.4308 - output_1_mean_absolute_error: 0.4370 - output_2_mean_absolute_error: 0.4770 - val_loss: 0.4388 - val_output_1_loss: 0.4412 - val_output_2_loss: 0.4292 - val_output_1_mean_absolute_error: 0.4290 - val_output_2_mean_absolute_error: 0.4744\n",
      "Epoch 27/30\n",
      "11610/11610 [==============================] - 1s 49us/sample - loss: 0.4881 - output_1_loss: 0.5024 - output_2_loss: 0.4303 - output_1_mean_absolute_error: 0.4426 - output_2_mean_absolute_error: 0.4751 - val_loss: 0.4551 - val_output_1_loss: 0.4557 - val_output_2_loss: 0.4530 - val_output_1_mean_absolute_error: 0.4496 - val_output_2_mean_absolute_error: 0.4853\n",
      "Epoch 28/30\n",
      "11610/11610 [==============================] - 1s 54us/sample - loss: 0.3772 - output_1_loss: 0.3642 - output_2_loss: 0.4290 - output_1_mean_absolute_error: 0.4303 - output_2_mean_absolute_error: 0.4754 - val_loss: 0.3795 - val_output_1_loss: 0.3659 - val_output_2_loss: 0.4337 - val_output_1_mean_absolute_error: 0.4312 - val_output_2_mean_absolute_error: 0.4764\n",
      "Epoch 29/30\n",
      "11610/11610 [==============================] - 1s 63us/sample - loss: 0.3722 - output_1_loss: 0.3584 - output_2_loss: 0.4267 - output_1_mean_absolute_error: 0.4283 - output_2_mean_absolute_error: 0.4739 - val_loss: 0.4417 - val_output_1_loss: 0.4453 - val_output_2_loss: 0.4277 - val_output_1_mean_absolute_error: 0.4312 - val_output_2_mean_absolute_error: 0.4678\n",
      "Epoch 30/30\n",
      "11610/11610 [==============================] - 1s 51us/sample - loss: 0.4381 - output_1_loss: 0.4407 - output_2_loss: 0.4275 - output_1_mean_absolute_error: 0.4340 - output_2_mean_absolute_error: 0.4737 - val_loss: 0.4326 - val_output_1_loss: 0.4336 - val_output_2_loss: 0.4285 - val_output_1_mean_absolute_error: 0.4315 - val_output_2_mean_absolute_error: 0.4744\n"
     ]
    },
    {
     "data": {
      "text/plain": [
       "<tensorflow.python.keras.callbacks.History at 0x7fefc6fa4bd0>"
      ]
     },
     "execution_count": 21,
     "metadata": {},
     "output_type": "execute_result"
    }
   ],
   "source": [
    "model_sub.fit((X_train_s_1, X_train_s_2), (y_train1, y_train1), epochs=30,\n",
    "          validation_data=((X_validation_s_1, X_validation_s_2),\n",
    "                           (y_validation, y_validation)))"
   ]
  },
  {
   "cell_type": "code",
   "execution_count": 19,
   "id": "f97638ca-6e2c-4f44-b174-152ec8d1e5ec",
   "metadata": {},
   "outputs": [
    {
     "name": "stdout",
     "output_type": "stream",
     "text": [
      "Model: \"model\"\n",
      "__________________________________________________________________________________________________\n",
      "Layer (type)                    Output Shape         Param #     Connected to                     \n",
      "==================================================================================================\n",
      "input_1 (InputLayer)            [(None, 6)]          0                                            \n",
      "__________________________________________________________________________________________________\n",
      "dense (Dense)                   (None, 50)           350         input_1[0][0]                    \n",
      "__________________________________________________________________________________________________\n",
      "input_2 (InputLayer)            [(None, 4)]          0                                            \n",
      "__________________________________________________________________________________________________\n",
      "dense_1 (Dense)                 (None, 10)           510         dense[0][0]                      \n",
      "__________________________________________________________________________________________________\n",
      "concatenate (Concatenate)       (None, 14)           0           input_2[0][0]                    \n",
      "                                                                 dense_1[0][0]                    \n",
      "__________________________________________________________________________________________________\n",
      "output (Dense)                  (None, 1)            15          concatenate[0][0]                \n",
      "__________________________________________________________________________________________________\n",
      "helper_output (Dense)           (None, 1)            11          dense_1[0][0]                    \n",
      "==================================================================================================\n",
      "Total params: 886\n",
      "Trainable params: 886\n",
      "Non-trainable params: 0\n",
      "__________________________________________________________________________________________________\n"
     ]
    }
   ],
   "source": [
    "model_f.summary()"
   ]
  },
  {
   "cell_type": "code",
   "execution_count": 28,
   "id": "a3a37955-f8d8-48d0-906c-1b62e1a7408f",
   "metadata": {},
   "outputs": [],
   "source": [
    "model_f.save(\"housing_reg_model_f.h5\")"
   ]
  },
  {
   "cell_type": "code",
   "execution_count": 29,
   "id": "460e9aa1-c729-4a4c-a4d3-9977c28bac97",
   "metadata": {},
   "outputs": [],
   "source": [
    "model_f_reg = keras.models.load_model(\"housing_reg_model_f.h5\")"
   ]
  },
  {
   "cell_type": "code",
   "execution_count": 30,
   "id": "7ee73efc-6f07-4ae8-b4cc-a449988a9911",
   "metadata": {},
   "outputs": [
    {
     "name": "stdout",
     "output_type": "stream",
     "text": [
      "Model: \"model_1\"\n",
      "__________________________________________________________________________________________________\n",
      "Layer (type)                    Output Shape         Param #     Connected to                     \n",
      "==================================================================================================\n",
      "input_2 (InputLayer)            [(None, 6)]          0                                            \n",
      "__________________________________________________________________________________________________\n",
      "dense_3 (Dense)                 (None, 50)           350         input_2[0][0]                    \n",
      "__________________________________________________________________________________________________\n",
      "input_3 (InputLayer)            [(None, 4)]          0                                            \n",
      "__________________________________________________________________________________________________\n",
      "dense_4 (Dense)                 (None, 10)           510         dense_3[0][0]                    \n",
      "__________________________________________________________________________________________________\n",
      "concatenate_1 (Concatenate)     (None, 14)           0           input_3[0][0]                    \n",
      "                                                                 dense_4[0][0]                    \n",
      "__________________________________________________________________________________________________\n",
      "output (Dense)                  (None, 1)            15          concatenate_1[0][0]              \n",
      "__________________________________________________________________________________________________\n",
      "helper_output (Dense)           (None, 1)            11          dense_4[0][0]                    \n",
      "==================================================================================================\n",
      "Total params: 886\n",
      "Trainable params: 886\n",
      "Non-trainable params: 0\n",
      "__________________________________________________________________________________________________\n"
     ]
    }
   ],
   "source": [
    "model_f_reg.summary()"
   ]
  },
  {
   "cell_type": "code",
   "execution_count": 31,
   "id": "301dfbab-3be3-46e8-b9aa-86e2a07401af",
   "metadata": {},
   "outputs": [
    {
     "name": "stdout",
     "output_type": "stream",
     "text": [
      "Model: \"wide_and_deep_ann\"\n",
      "_________________________________________________________________\n",
      "Layer (type)                 Output Shape              Param #   \n",
      "=================================================================\n",
      "dense_5 (Dense)              multiple                  350       \n",
      "_________________________________________________________________\n",
      "dense_6 (Dense)              multiple                  510       \n",
      "_________________________________________________________________\n",
      "dense_7 (Dense)              multiple                  15        \n",
      "_________________________________________________________________\n",
      "dense_8 (Dense)              multiple                  11        \n",
      "=================================================================\n",
      "Total params: 886\n",
      "Trainable params: 886\n",
      "Non-trainable params: 0\n",
      "_________________________________________________________________\n"
     ]
    }
   ],
   "source": [
    "model_sub.summary()"
   ]
  },
  {
   "cell_type": "code",
   "execution_count": 32,
   "id": "1be43627-78cf-4e53-a8f2-737107adc321",
   "metadata": {},
   "outputs": [
    {
     "ename": "NotImplementedError",
     "evalue": "Saving the model to HDF5 format requires the model to be a Functional model or a Sequential model. It does not work for subclassed models, because such models are defined via the body of a Python method, which isn't safely serializable. Consider saving to the Tensorflow SavedModel format (by setting save_format=\"tf\") or using `save_weights`.",
     "output_type": "error",
     "traceback": [
      "\u001b[0;31m---------------------------------------------------------------------------\u001b[0m",
      "\u001b[0;31mNotImplementedError\u001b[0m                       Traceback (most recent call last)",
      "\u001b[0;32m/var/folders/5m/98y6l4j166b0qjxwxk5rdljm0000gn/T/ipykernel_7984/1428899923.py\u001b[0m in \u001b[0;36m<module>\u001b[0;34m\u001b[0m\n\u001b[0;32m----> 1\u001b[0;31m \u001b[0mmodel_sub\u001b[0m\u001b[0;34m.\u001b[0m\u001b[0msave\u001b[0m\u001b[0;34m(\u001b[0m\u001b[0;34m\"housing_reg_model_sub.h5\"\u001b[0m\u001b[0;34m)\u001b[0m\u001b[0;34m\u001b[0m\u001b[0;34m\u001b[0m\u001b[0m\n\u001b[0m",
      "\u001b[0;32m/opt/anaconda3/envs/ann_course/lib/python3.7/site-packages/tensorflow_core/python/keras/engine/network.py\u001b[0m in \u001b[0;36msave\u001b[0;34m(self, filepath, overwrite, include_optimizer, save_format, signatures, options)\u001b[0m\n\u001b[1;32m    973\u001b[0m     \"\"\"\n\u001b[1;32m    974\u001b[0m     saving.save_model(self, filepath, overwrite, include_optimizer, save_format,\n\u001b[0;32m--> 975\u001b[0;31m                       signatures, options)\n\u001b[0m\u001b[1;32m    976\u001b[0m \u001b[0;34m\u001b[0m\u001b[0m\n\u001b[1;32m    977\u001b[0m   \u001b[0;32mdef\u001b[0m \u001b[0msave_weights\u001b[0m\u001b[0;34m(\u001b[0m\u001b[0mself\u001b[0m\u001b[0;34m,\u001b[0m \u001b[0mfilepath\u001b[0m\u001b[0;34m,\u001b[0m \u001b[0moverwrite\u001b[0m\u001b[0;34m=\u001b[0m\u001b[0;32mTrue\u001b[0m\u001b[0;34m,\u001b[0m \u001b[0msave_format\u001b[0m\u001b[0;34m=\u001b[0m\u001b[0;32mNone\u001b[0m\u001b[0;34m)\u001b[0m\u001b[0;34m:\u001b[0m\u001b[0;34m\u001b[0m\u001b[0;34m\u001b[0m\u001b[0m\n",
      "\u001b[0;32m/opt/anaconda3/envs/ann_course/lib/python3.7/site-packages/tensorflow_core/python/keras/saving/save.py\u001b[0m in \u001b[0;36msave_model\u001b[0;34m(model, filepath, overwrite, include_optimizer, save_format, signatures, options)\u001b[0m\n\u001b[1;32m    103\u001b[0m         not isinstance(model, sequential.Sequential)):\n\u001b[1;32m    104\u001b[0m       raise NotImplementedError(\n\u001b[0;32m--> 105\u001b[0;31m           \u001b[0;34m'Saving the model to HDF5 format requires the model to be a '\u001b[0m\u001b[0;34m\u001b[0m\u001b[0;34m\u001b[0m\u001b[0m\n\u001b[0m\u001b[1;32m    106\u001b[0m           \u001b[0;34m'Functional model or a Sequential model. It does not work for '\u001b[0m\u001b[0;34m\u001b[0m\u001b[0;34m\u001b[0m\u001b[0m\n\u001b[1;32m    107\u001b[0m           \u001b[0;34m'subclassed models, because such models are defined via the body of '\u001b[0m\u001b[0;34m\u001b[0m\u001b[0;34m\u001b[0m\u001b[0m\n",
      "\u001b[0;31mNotImplementedError\u001b[0m: Saving the model to HDF5 format requires the model to be a Functional model or a Sequential model. It does not work for subclassed models, because such models are defined via the body of a Python method, which isn't safely serializable. Consider saving to the Tensorflow SavedModel format (by setting save_format=\"tf\") or using `save_weights`."
     ]
    }
   ],
   "source": [
    "model_sub.save(\"housing_reg_model_sub.h5\")\n",
    "#.save_weight()"
   ]
  },
  {
   "cell_type": "markdown",
   "id": "6ee95e19-cfda-407f-bc9b-ee899641c635",
   "metadata": {},
   "source": [
    "# Callback"
   ]
  },
  {
   "cell_type": "code",
   "execution_count": 13,
   "id": "6f3c7546-865a-4cc5-894c-a23f036ef7c5",
   "metadata": {},
   "outputs": [],
   "source": [
    "model_checkpoint_callback = keras.callbacks.ModelCheckpoint(\"model_cb_reg_housing.h5\",\n",
    "                                                         save_best_only=True)\n",
    "earlystopping_callback = keras.callbacks.EarlyStopping(patience=5,\n",
    "                             restore_best_weights=True)"
   ]
  },
  {
   "cell_type": "code",
   "execution_count": 22,
   "id": "238c2921-4916-493b-8d96-1dff48511618",
   "metadata": {},
   "outputs": [
    {
     "name": "stdout",
     "output_type": "stream",
     "text": [
      "Train on 11610 samples, validate on 3870 samples\n",
      "Epoch 1/5\n",
      "11610/11610 [==============================] - 1s 54us/sample - loss: 0.3737 - output_loss: 0.3601 - helper_output_loss: 0.4279 - output_mean_absolute_error: 0.4271 - helper_output_mean_absolute_error: 0.4773 - val_loss: 0.5419 - val_output_loss: 0.5688 - val_helper_output_loss: 0.4343 - val_output_mean_absolute_error: 0.4314 - val_helper_output_mean_absolute_error: 0.4714\n",
      "Epoch 2/5\n",
      "11610/11610 [==============================] - 1s 53us/sample - loss: 0.5013 - output_loss: 0.5196 - helper_output_loss: 0.4278 - output_mean_absolute_error: 0.4326 - helper_output_mean_absolute_error: 0.4776 - val_loss: 0.5023 - val_output_loss: 0.5214 - val_helper_output_loss: 0.4258 - val_output_mean_absolute_error: 0.4257 - val_helper_output_mean_absolute_error: 0.4720\n",
      "Epoch 3/5\n",
      "11610/11610 [==============================] - 1s 60us/sample - loss: 0.6026 - output_loss: 0.6464 - helper_output_loss: 0.4268 - output_mean_absolute_error: 0.4341 - helper_output_mean_absolute_error: 0.4767 - val_loss: 0.4884 - val_output_loss: 0.5036 - val_helper_output_loss: 0.4277 - val_output_mean_absolute_error: 0.4292 - val_helper_output_mean_absolute_error: 0.4722\n",
      "Epoch 4/5\n",
      "11610/11610 [==============================] - 1s 54us/sample - loss: 0.4867 - output_loss: 0.5020 - helper_output_loss: 0.4252 - output_mean_absolute_error: 0.4327 - helper_output_mean_absolute_error: 0.4767 - val_loss: 0.4669 - val_output_loss: 0.4772 - val_helper_output_loss: 0.4258 - val_output_mean_absolute_error: 0.4257 - val_helper_output_mean_absolute_error: 0.4748\n",
      "Epoch 5/5\n",
      "11610/11610 [==============================] - 1s 57us/sample - loss: 0.5335 - output_loss: 0.5601 - helper_output_loss: 0.4269 - output_mean_absolute_error: 0.4347 - helper_output_mean_absolute_error: 0.4765 - val_loss: 0.4468 - val_output_loss: 0.4520 - val_helper_output_loss: 0.4259 - val_output_mean_absolute_error: 0.4264 - val_helper_output_mean_absolute_error: 0.4714\n"
     ]
    },
    {
     "data": {
      "text/plain": [
       "<tensorflow.python.keras.callbacks.History at 0x7fefd0491a90>"
      ]
     },
     "execution_count": 22,
     "metadata": {},
     "output_type": "execute_result"
    }
   ],
   "source": [
    "model_f.fit((X_train_s_1, X_train_s_2), (y_train1, y_train1), epochs=5,\n",
    "          validation_data=((X_validation_s_1, X_validation_s_2),\n",
    "                           (y_validation, y_validation)),\n",
    "           callbacks=[model_checkpoint_callback, earlystopping_callback])"
   ]
  },
  {
   "cell_type": "code",
   "execution_count": 39,
   "id": "c007c150-ba90-48ec-8f67-497d8c785d73",
   "metadata": {},
   "outputs": [],
   "source": [
    "class MyCallback(keras.callbacks.Callback):\n",
    "    def on_train_end(self, logs=None):\n",
    "        print(\"\")\n",
    "    def on_epoch_end(self, epoch, logs):\n",
    "        print(logs[\"val_loss\"])"
   ]
  },
  {
   "cell_type": "code",
   "execution_count": 40,
   "id": "5fbd577a-bc4b-4960-b56d-0f6779e932db",
   "metadata": {},
   "outputs": [],
   "source": [
    "mycb = MyCallback()"
   ]
  },
  {
   "cell_type": "code",
   "execution_count": 41,
   "id": "f2d3f1b1-4875-46a3-b83b-32d8e80572ac",
   "metadata": {},
   "outputs": [],
   "source": [
    "tb_callback = keras.callbacks.TensorBoard(\"tb_log\")"
   ]
  },
  {
   "cell_type": "code",
   "execution_count": 25,
   "id": "65d7654b-bc7d-42bd-a7af-4ba7ea9812ce",
   "metadata": {},
   "outputs": [
    {
     "name": "stdout",
     "output_type": "stream",
     "text": [
      "Train on 11610 samples, validate on 3870 samples\n",
      "Epoch 1/5\n",
      " 5056/11610 [============>.................] - ETA: 0s - loss: 0.3695 - output_loss: 0.3553 - helper_output_loss: 0.4262 - output_mean_absolute_error: 0.4270 - helper_output_mean_absolute_error: 0.4764"
     ]
    },
    {
     "name": "stderr",
     "output_type": "stream",
     "text": [
      "2021-12-07 06:55:25.766564: I tensorflow/core/profiler/lib/profiler_session.cc:184] Profiler session started.\n"
     ]
    },
    {
     "name": "stdout",
     "output_type": "stream",
     "text": [
      "11610/11610 [==============================] - 1s 53us/sample - loss: 0.3706 - output_loss: 0.3571 - helper_output_loss: 0.4245 - output_mean_absolute_error: 0.4251 - helper_output_mean_absolute_error: 0.4751 - val_loss: 0.3793 - val_output_loss: 0.3668 - val_helper_output_loss: 0.4293 - val_output_mean_absolute_error: 0.4233 - val_helper_output_mean_absolute_error: 0.4743\n",
      "Epoch 2/5\n",
      "11610/11610 [==============================] - 1s 49us/sample - loss: 0.3789 - output_loss: 0.3676 - helper_output_loss: 0.4241 - output_mean_absolute_error: 0.4247 - helper_output_mean_absolute_error: 0.4744 - val_loss: 0.3784 - val_output_loss: 0.3661 - val_helper_output_loss: 0.4279 - val_output_mean_absolute_error: 0.4235 - val_helper_output_mean_absolute_error: 0.4732\n",
      "Epoch 3/5\n",
      "11610/11610 [==============================] - 1s 60us/sample - loss: 0.3654 - output_loss: 0.3508 - helper_output_loss: 0.4235 - output_mean_absolute_error: 0.4232 - helper_output_mean_absolute_error: 0.4742 - val_loss: 0.3703 - val_output_loss: 0.3570 - val_helper_output_loss: 0.4237 - val_output_mean_absolute_error: 0.4192 - val_helper_output_mean_absolute_error: 0.4707\n",
      "Epoch 4/5\n",
      "11610/11610 [==============================] - 1s 72us/sample - loss: 0.3632 - output_loss: 0.3484 - helper_output_loss: 0.4221 - output_mean_absolute_error: 0.4227 - helper_output_mean_absolute_error: 0.4738 - val_loss: 0.3698 - val_output_loss: 0.3567 - val_helper_output_loss: 0.4225 - val_output_mean_absolute_error: 0.4191 - val_helper_output_mean_absolute_error: 0.4713\n",
      "Epoch 5/5\n",
      "11610/11610 [==============================] - 1s 56us/sample - loss: 0.3758 - output_loss: 0.3641 - helper_output_loss: 0.4227 - output_mean_absolute_error: 0.4243 - helper_output_mean_absolute_error: 0.4739 - val_loss: 0.3713 - val_output_loss: 0.3590 - val_helper_output_loss: 0.4206 - val_output_mean_absolute_error: 0.4179 - val_helper_output_mean_absolute_error: 0.4693\n"
     ]
    },
    {
     "data": {
      "text/plain": [
       "<tensorflow.python.keras.callbacks.History at 0x7fefc91eca10>"
      ]
     },
     "execution_count": 25,
     "metadata": {},
     "output_type": "execute_result"
    }
   ],
   "source": [
    "model_f.fit((X_train_s_1, X_train_s_2), (y_train1, y_train1), epochs=5,\n",
    "          validation_data=((X_validation_s_1, X_validation_s_2),\n",
    "                           (y_validation, y_validation)),\n",
    "           callbacks=[tb_callback])"
   ]
  },
  {
   "cell_type": "code",
   "execution_count": 26,
   "id": "b8675c62-a3f0-485d-b277-c6a66002858c",
   "metadata": {},
   "outputs": [],
   "source": [
    "%load_ext tensorboard"
   ]
  },
  {
   "cell_type": "code",
   "execution_count": 27,
   "id": "89bdb56a-35b8-494b-8abb-a2de647f0842",
   "metadata": {},
   "outputs": [
    {
     "data": {
      "text/html": [
       "\n",
       "      <iframe id=\"tensorboard-frame-b074a6f3c7770264\" width=\"100%\" height=\"800\" frameborder=\"0\">\n",
       "      </iframe>\n",
       "      <script>\n",
       "        (function() {\n",
       "          const frame = document.getElementById(\"tensorboard-frame-b074a6f3c7770264\");\n",
       "          const url = new URL(\"/\", window.location);\n",
       "          url.port = 6006;\n",
       "          frame.src = url;\n",
       "        })();\n",
       "      </script>\n",
       "  "
      ],
      "text/plain": [
       "<IPython.core.display.HTML object>"
      ]
     },
     "metadata": {},
     "output_type": "display_data"
    }
   ],
   "source": [
    "%tensorboard --logdir=./tb_log "
   ]
  },
  {
   "cell_type": "markdown",
   "id": "ae121f1f-d774-47a8-88e3-b30aa1691001",
   "metadata": {},
   "source": [
    "# Hyperparameter optimization"
   ]
  },
  {
   "cell_type": "code",
   "execution_count": 46,
   "id": "1b8c38fe-c7b5-4ddc-9a31-744b08d75f75",
   "metadata": {},
   "outputs": [],
   "source": [
    "def ann_model(number_of_hidden_layers=1,\n",
    "              number_of_neurons=50,\n",
    "              lr=0.01):\n",
    "    model = keras.models.Sequential()\n",
    "    model.add(keras.layers.InputLayer(input_shape=[8]))\n",
    "    for hidden_layer in range(number_of_hidden_layers):\n",
    "        model.add(keras.layers.Dense(number_of_neurons, activation=\"selu\"))\n",
    "    model.add(keras.layers.Dense(1))\n",
    "    sgd = keras.optimizers.SGD(lr=lr)\n",
    "    model.compile(loss=\"mse\", optimizer=sgd)\n",
    "    return model"
   ]
  },
  {
   "cell_type": "code",
   "execution_count": 47,
   "id": "30bec764-e920-4581-8165-fbcdc6c03b2d",
   "metadata": {},
   "outputs": [],
   "source": [
    "keras_sk_reg = keras.wrappers.scikit_learn.KerasRegressor(build_fn=ann_model)"
   ]
  },
  {
   "cell_type": "code",
   "execution_count": 48,
   "id": "c41342e2-213c-4016-bfcf-ab366cd9b7b9",
   "metadata": {},
   "outputs": [],
   "source": [
    "param_grid = {\"number_of_hidden_layers\":[1, 3, 5],\n",
    "              \"number_of_neurons\":[50, 100, 150],\n",
    "              \"lr\":[0.001, 0.001, 0.1]}"
   ]
  },
  {
   "cell_type": "code",
   "execution_count": 53,
   "id": "c1f60017-9f4a-4098-895d-35558c581e5f",
   "metadata": {},
   "outputs": [],
   "source": [
    "keras_sk_reg_gs = GridSearchCV(keras_sk_reg, param_grid)"
   ]
  },
  {
   "cell_type": "code",
   "execution_count": null,
   "id": "21b31636-9e51-4fa5-9273-85ab9a2517c7",
   "metadata": {},
   "outputs": [],
   "source": [
    "keras_sk_reg_gs.fit(X_train_s, y_train1, epochs=10,\n",
    "                    validation_data=(X_validation, y_validation),\n",
    "                    callbacks=[keras.callbacks.EarlyStopping(patience=5)])"
   ]
  }
 ],
 "metadata": {
  "kernelspec": {
   "display_name": "Python 3 (ipykernel)",
   "language": "python",
   "name": "python3"
  },
  "language_info": {
   "codemirror_mode": {
    "name": "ipython",
    "version": 3
   },
   "file_extension": ".py",
   "mimetype": "text/x-python",
   "name": "python",
   "nbconvert_exporter": "python",
   "pygments_lexer": "ipython3",
   "version": "3.7.11"
  }
 },
 "nbformat": 4,
 "nbformat_minor": 5
}
