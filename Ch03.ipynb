{
  "cells": [
    {
      "cell_type": "code",
      "execution_count": 2,
      "id": "865f56f2-9332-4c96-a473-74aeb631290f",
      "metadata": {
        "id": "865f56f2-9332-4c96-a473-74aeb631290f"
      },
      "outputs": [],
      "source": [
        "import tensorflow as tf\n",
        "from tensorflow import keras\n",
        "from sklearn.datasets import fetch_california_housing\n",
        "from sklearn.model_selection import train_test_split\n",
        "from sklearn.preprocessing import StandardScaler\n",
        "from sklearn.model_selection import GridSearchCV"
      ]
    },
    {
      "cell_type": "code",
      "execution_count": 3,
      "id": "b800f14d-c1a1-478b-898f-fb6762f0ca75",
      "metadata": {
        "id": "b800f14d-c1a1-478b-898f-fb6762f0ca75"
      },
      "outputs": [],
      "source": [
        "import matplotlib.pyplot as plt\n",
        "import numpy as np"
      ]
    },
    {
      "cell_type": "code",
      "execution_count": 4,
      "id": "fd9a1bd1-c65b-4c81-9a17-75b2cc4bc1b9",
      "metadata": {
        "colab": {
          "base_uri": "https://localhost:8080/",
          "height": 57
        },
        "id": "fd9a1bd1-c65b-4c81-9a17-75b2cc4bc1b9",
        "outputId": "e5dc2f55-d318-479a-ad77-d020dba6f674"
      },
      "outputs": [
        {
          "output_type": "execute_result",
          "data": {
            "application/vnd.google.colaboratory.intrinsic+json": {
              "type": "string"
            },
            "text/plain": [
              "'2.7.0'"
            ]
          },
          "metadata": {},
          "execution_count": 4
        }
      ],
      "source": [
        "tf.__version__"
      ]
    },
    {
      "cell_type": "markdown",
      "id": "6c987b3a-61a0-4639-9cf7-2c14b7b39649",
      "metadata": {
        "id": "6c987b3a-61a0-4639-9cf7-2c14b7b39649"
      },
      "source": [
        "# Classification"
      ]
    },
    {
      "cell_type": "code",
      "execution_count": 5,
      "id": "b1c9edfb-326c-4ebd-bab4-ad14487cc3bf",
      "metadata": {
        "id": "b1c9edfb-326c-4ebd-bab4-ad14487cc3bf"
      },
      "outputs": [],
      "source": [
        "fmnist_data = keras.datasets.fashion_mnist"
      ]
    },
    {
      "cell_type": "code",
      "execution_count": 6,
      "id": "86c3ab9f-aa8b-4a39-9cf3-29b346e398cc",
      "metadata": {
        "id": "86c3ab9f-aa8b-4a39-9cf3-29b346e398cc",
        "colab": {
          "base_uri": "https://localhost:8080/"
        },
        "outputId": "a30d9a44-c288-4278-ee60-60ae82be1594"
      },
      "outputs": [
        {
          "output_type": "stream",
          "name": "stdout",
          "text": [
            "Downloading data from https://storage.googleapis.com/tensorflow/tf-keras-datasets/train-labels-idx1-ubyte.gz\n",
            "32768/29515 [=================================] - 0s 0us/step\n",
            "40960/29515 [=========================================] - 0s 0us/step\n",
            "Downloading data from https://storage.googleapis.com/tensorflow/tf-keras-datasets/train-images-idx3-ubyte.gz\n",
            "26427392/26421880 [==============================] - 1s 0us/step\n",
            "26435584/26421880 [==============================] - 1s 0us/step\n",
            "Downloading data from https://storage.googleapis.com/tensorflow/tf-keras-datasets/t10k-labels-idx1-ubyte.gz\n",
            "16384/5148 [===============================================================================================] - 0s 0us/step\n",
            "Downloading data from https://storage.googleapis.com/tensorflow/tf-keras-datasets/t10k-images-idx3-ubyte.gz\n",
            "4423680/4422102 [==============================] - 0s 0us/step\n",
            "4431872/4422102 [==============================] - 0s 0us/step\n"
          ]
        }
      ],
      "source": [
        "(x_train, y_train), (x_test, y_test) = fmnist_data.load_data()"
      ]
    },
    {
      "cell_type": "code",
      "execution_count": 7,
      "id": "b88c74a9-c846-4f5c-89a4-f32846a6bc25",
      "metadata": {
        "id": "b88c74a9-c846-4f5c-89a4-f32846a6bc25",
        "outputId": "7f6e8301-1479-4299-9895-7e805d37a56b",
        "colab": {
          "base_uri": "https://localhost:8080/"
        }
      },
      "outputs": [
        {
          "output_type": "execute_result",
          "data": {
            "text/plain": [
              "(60000, 28, 28)"
            ]
          },
          "metadata": {},
          "execution_count": 7
        }
      ],
      "source": [
        "x_train.shape"
      ]
    },
    {
      "cell_type": "code",
      "execution_count": 8,
      "id": "ff821769-4bea-4c01-b876-61f75a939922",
      "metadata": {
        "id": "ff821769-4bea-4c01-b876-61f75a939922",
        "outputId": "80102f66-4d5f-43c8-faab-a4e8e2f85b65",
        "colab": {
          "base_uri": "https://localhost:8080/"
        }
      },
      "outputs": [
        {
          "output_type": "execute_result",
          "data": {
            "text/plain": [
              "(10000, 28, 28)"
            ]
          },
          "metadata": {},
          "execution_count": 8
        }
      ],
      "source": [
        "x_test.shape"
      ]
    },
    {
      "cell_type": "code",
      "execution_count": 9,
      "id": "fe57a9c6-d427-4b10-b5e3-cf56d9d683c0",
      "metadata": {
        "id": "fe57a9c6-d427-4b10-b5e3-cf56d9d683c0",
        "outputId": "703aac46-bca7-49f9-a462-4415d09bb5be",
        "colab": {
          "base_uri": "https://localhost:8080/"
        }
      },
      "outputs": [
        {
          "output_type": "execute_result",
          "data": {
            "text/plain": [
              "(60000,)"
            ]
          },
          "metadata": {},
          "execution_count": 9
        }
      ],
      "source": [
        "y_train.shape"
      ]
    },
    {
      "cell_type": "code",
      "execution_count": 10,
      "id": "db835ff6-472f-40e2-a279-0aa53c385c10",
      "metadata": {
        "id": "db835ff6-472f-40e2-a279-0aa53c385c10",
        "outputId": "2e6b85bb-e605-42da-d4d1-36ed6875db35",
        "colab": {
          "base_uri": "https://localhost:8080/"
        }
      },
      "outputs": [
        {
          "output_type": "execute_result",
          "data": {
            "text/plain": [
              "array([9, 0, 0, 3, 0, 2, 7, 2, 5, 5], dtype=uint8)"
            ]
          },
          "metadata": {},
          "execution_count": 10
        }
      ],
      "source": [
        "y_train[:10]"
      ]
    },
    {
      "cell_type": "code",
      "execution_count": 11,
      "id": "a4dd6dd1-d4bd-4c5e-93a4-20f534ee0fcb",
      "metadata": {
        "id": "a4dd6dd1-d4bd-4c5e-93a4-20f534ee0fcb",
        "outputId": "95134b96-980e-4e2f-e13e-2687245a30ff",
        "colab": {
          "base_uri": "https://localhost:8080/",
          "height": 303
        }
      },
      "outputs": [
        {
          "output_type": "execute_result",
          "data": {
            "text/plain": [
              "<matplotlib.image.AxesImage at 0x7fa8e4965190>"
            ]
          },
          "metadata": {},
          "execution_count": 11
        },
        {
          "output_type": "display_data",
          "data": {
            "image/png": "[encoded data removed]",
            "text/plain": [
              "<Figure size 432x288 with 1 Axes>"
            ]
          },
          "metadata": {
            "needs_background": "light"
          }
        }
      ],
      "source": [
        "plt.imshow(x_train[0,], cmap=\"gray\")"
      ]
    },
    {
      "cell_type": "code",
      "execution_count": 12,
      "id": "187dc581-5c27-486c-be8c-e77925d1948b",
      "metadata": {
        "id": "187dc581-5c27-486c-be8c-e77925d1948b"
      },
      "outputs": [],
      "source": [
        "x_train, x_test = x_train/255.0, x_test/255.0"
      ]
    },
    {
      "cell_type": "code",
      "execution_count": 13,
      "id": "fc4cf3af-02e9-4e29-aede-71c3bf638b4f",
      "metadata": {
        "id": "fc4cf3af-02e9-4e29-aede-71c3bf638b4f",
        "outputId": "77fe7e44-0535-47f6-d82a-e540df473a7b",
        "colab": {
          "base_uri": "https://localhost:8080/"
        }
      },
      "outputs": [
        {
          "output_type": "execute_result",
          "data": {
            "text/plain": [
              "(60000, 28, 28)"
            ]
          },
          "metadata": {},
          "execution_count": 13
        }
      ],
      "source": [
        "x_train.shape"
      ]
    },
    {
      "cell_type": "markdown",
      "id": "f5ac2135-d9ca-4e45-a2b8-585891173466",
      "metadata": {
        "id": "f5ac2135-d9ca-4e45-a2b8-585891173466"
      },
      "source": [
        "# Define Model "
      ]
    },
    {
      "cell_type": "code",
      "source": [
        "init_1 = keras.initializers.VarianceScaling(scale=2.0, mode='fan_avg')"
      ],
      "metadata": {
        "id": "DbuMAcKDUChR"
      },
      "id": "DbuMAcKDUChR",
      "execution_count": 14,
      "outputs": []
    },
    {
      "cell_type": "code",
      "execution_count": 15,
      "id": "256c9c7a-c7d7-4cb4-890e-245649c0c1d2",
      "metadata": {
        "id": "256c9c7a-c7d7-4cb4-890e-245649c0c1d2"
      },
      "outputs": [],
      "source": [
        "model = keras.models.Sequential([\n",
        "    keras.layers.Flatten(input_shape=[28, 28]),\n",
        "    keras.layers.BatchNormalization(),\n",
        "    keras.layers.Dense(100, kernel_initializer=init_1, use_bias=False),\n",
        "    keras.layers.BatchNormalization(),\n",
        "    keras.layers.Activation(\"elu\"),\n",
        "    keras.layers.Dense(75, use_bias=False),\n",
        "    keras.layers.BatchNormalization(),\n",
        "    keras.layers.LeakyReLU(alpha=0.3),\n",
        "    keras.layers.Dense(10, activation=\"softmax\")\n",
        "])"
      ]
    },
    {
      "cell_type": "code",
      "execution_count": 16,
      "id": "e739c031-8f84-4c60-98b4-e9aaf6eb78e4",
      "metadata": {
        "id": "e739c031-8f84-4c60-98b4-e9aaf6eb78e4",
        "outputId": "0efb3f1d-21cd-43a0-db79-0084da91cbf4",
        "colab": {
          "base_uri": "https://localhost:8080/"
        }
      },
      "outputs": [
        {
          "output_type": "stream",
          "name": "stdout",
          "text": [
            "Model: \"sequential\"\n",
            "_________________________________________________________________\n",
            " Layer (type)                Output Shape              Param #   \n",
            "=================================================================\n",
            " flatten (Flatten)           (None, 784)               0         \n",
            "                                                                 \n",
            " batch_normalization (BatchN  (None, 784)              3136      \n",
            " ormalization)                                                   \n",
            "                                                                 \n",
            " dense (Dense)               (None, 100)               78400     \n",
            "                                                                 \n",
            " batch_normalization_1 (Batc  (None, 100)              400       \n",
            " hNormalization)                                                 \n",
            "                                                                 \n",
            " activation (Activation)     (None, 100)               0         \n",
            "                                                                 \n",
            " dense_1 (Dense)             (None, 75)                7500      \n",
            "                                                                 \n",
            " batch_normalization_2 (Batc  (None, 75)               300       \n",
            " hNormalization)                                                 \n",
            "                                                                 \n",
            " leaky_re_lu (LeakyReLU)     (None, 75)                0         \n",
            "                                                                 \n",
            " dense_2 (Dense)             (None, 10)                760       \n",
            "                                                                 \n",
            "=================================================================\n",
            "Total params: 90,496\n",
            "Trainable params: 88,578\n",
            "Non-trainable params: 1,918\n",
            "_________________________________________________________________\n"
          ]
        }
      ],
      "source": [
        "model.summary()"
      ]
    },
    {
      "cell_type": "markdown",
      "id": "f33d5157-bce2-4244-81f5-4eb77a0432f4",
      "metadata": {
        "id": "f33d5157-bce2-4244-81f5-4eb77a0432f4"
      },
      "source": [
        "# Compile Model"
      ]
    },
    {
      "cell_type": "markdown",
      "source": [
        "## Power lr"
      ],
      "metadata": {
        "id": "mrDGEFLcMfrg"
      },
      "id": "mrDGEFLcMfrg"
    },
    {
      "cell_type": "code",
      "source": [
        "sgd = keras.optimizers.SGD(decay=1e-3)"
      ],
      "metadata": {
        "id": "nuVTHaJcOxii"
      },
      "id": "nuVTHaJcOxii",
      "execution_count": null,
      "outputs": []
    },
    {
      "cell_type": "code",
      "execution_count": null,
      "id": "df70f038-6509-4cfd-bb9e-e378ee3a5d9f",
      "metadata": {
        "id": "df70f038-6509-4cfd-bb9e-e378ee3a5d9f"
      },
      "outputs": [],
      "source": [
        "model.compile(loss=\"sparse_categorical_crossentropy\",\n",
        "              optimizer=sgd,\n",
        "              metrics=[\"accuracy\"])"
      ]
    },
    {
      "cell_type": "code",
      "execution_count": null,
      "id": "2dc38a75-d238-4438-b6ae-340f2dd1d44b",
      "metadata": {
        "id": "2dc38a75-d238-4438-b6ae-340f2dd1d44b",
        "outputId": "d369db9d-5ea5-4ae1-b968-ebacbb531488",
        "colab": {
          "base_uri": "https://localhost:8080/"
        }
      },
      "outputs": [
        {
          "output_type": "stream",
          "name": "stdout",
          "text": [
            "Epoch 1/50\n",
            "1594/1594 [==============================] - 6s 3ms/step - loss: 0.7101 - accuracy: 0.7634 - val_loss: 0.5343 - val_accuracy: 0.8137\n",
            "Epoch 2/50\n",
            "1594/1594 [==============================] - 5s 3ms/step - loss: 0.5463 - accuracy: 0.8128 - val_loss: 0.4934 - val_accuracy: 0.8246\n",
            "Epoch 3/50\n",
            "1594/1594 [==============================] - 5s 3ms/step - loss: 0.5166 - accuracy: 0.8218 - val_loss: 0.4760 - val_accuracy: 0.8301\n",
            "Epoch 4/50\n",
            "1594/1594 [==============================] - 5s 3ms/step - loss: 0.5045 - accuracy: 0.8252 - val_loss: 0.4646 - val_accuracy: 0.8333\n",
            "Epoch 5/50\n",
            "1594/1594 [==============================] - 5s 3ms/step - loss: 0.4910 - accuracy: 0.8298 - val_loss: 0.4578 - val_accuracy: 0.8356\n",
            "Epoch 6/50\n",
            "1594/1594 [==============================] - 5s 3ms/step - loss: 0.4842 - accuracy: 0.8314 - val_loss: 0.4535 - val_accuracy: 0.8389\n",
            "Epoch 7/50\n",
            "1594/1594 [==============================] - 5s 3ms/step - loss: 0.4799 - accuracy: 0.8306 - val_loss: 0.4494 - val_accuracy: 0.8402\n",
            "Epoch 8/50\n",
            "1594/1594 [==============================] - 5s 3ms/step - loss: 0.4738 - accuracy: 0.8352 - val_loss: 0.4460 - val_accuracy: 0.8412\n",
            "Epoch 9/50\n",
            "1594/1594 [==============================] - 5s 3ms/step - loss: 0.4705 - accuracy: 0.8371 - val_loss: 0.4436 - val_accuracy: 0.8427\n",
            "Epoch 10/50\n",
            "1594/1594 [==============================] - 5s 3ms/step - loss: 0.4650 - accuracy: 0.8378 - val_loss: 0.4404 - val_accuracy: 0.8433\n",
            "Epoch 11/50\n",
            "1594/1594 [==============================] - 5s 3ms/step - loss: 0.4645 - accuracy: 0.8382 - val_loss: 0.4394 - val_accuracy: 0.8442\n",
            "Epoch 12/50\n",
            "1594/1594 [==============================] - 5s 3ms/step - loss: 0.4593 - accuracy: 0.8402 - val_loss: 0.4367 - val_accuracy: 0.8460\n",
            "Epoch 13/50\n",
            "1594/1594 [==============================] - 5s 3ms/step - loss: 0.4597 - accuracy: 0.8395 - val_loss: 0.4356 - val_accuracy: 0.8447\n",
            "Epoch 14/50\n",
            "1594/1594 [==============================] - 5s 3ms/step - loss: 0.4576 - accuracy: 0.8426 - val_loss: 0.4333 - val_accuracy: 0.8459\n",
            "Epoch 15/50\n",
            "1594/1594 [==============================] - 5s 3ms/step - loss: 0.4555 - accuracy: 0.8403 - val_loss: 0.4322 - val_accuracy: 0.8452\n",
            "Epoch 16/50\n",
            "1594/1594 [==============================] - 5s 3ms/step - loss: 0.4528 - accuracy: 0.8428 - val_loss: 0.4308 - val_accuracy: 0.8461\n",
            "Epoch 17/50\n",
            "1594/1594 [==============================] - 5s 3ms/step - loss: 0.4530 - accuracy: 0.8420 - val_loss: 0.4304 - val_accuracy: 0.8461\n",
            "Epoch 18/50\n",
            "1594/1594 [==============================] - 5s 3ms/step - loss: 0.4501 - accuracy: 0.8430 - val_loss: 0.4290 - val_accuracy: 0.8468\n",
            "Epoch 19/50\n",
            "1594/1594 [==============================] - 5s 3ms/step - loss: 0.4503 - accuracy: 0.8443 - val_loss: 0.4285 - val_accuracy: 0.8472\n",
            "Epoch 20/50\n",
            "1594/1594 [==============================] - 5s 3ms/step - loss: 0.4510 - accuracy: 0.8435 - val_loss: 0.4269 - val_accuracy: 0.8472\n",
            "Epoch 21/50\n",
            "1594/1594 [==============================] - 5s 3ms/step - loss: 0.4466 - accuracy: 0.8448 - val_loss: 0.4261 - val_accuracy: 0.8477\n",
            "Epoch 22/50\n",
            "1594/1594 [==============================] - 5s 3ms/step - loss: 0.4462 - accuracy: 0.8445 - val_loss: 0.4259 - val_accuracy: 0.8474\n",
            "Epoch 23/50\n",
            "1594/1594 [==============================] - 5s 3ms/step - loss: 0.4477 - accuracy: 0.8438 - val_loss: 0.4251 - val_accuracy: 0.8477\n",
            "Epoch 24/50\n",
            "1594/1594 [==============================] - 5s 3ms/step - loss: 0.4443 - accuracy: 0.8451 - val_loss: 0.4240 - val_accuracy: 0.8474\n",
            "Epoch 25/50\n",
            "1594/1594 [==============================] - 5s 3ms/step - loss: 0.4453 - accuracy: 0.8464 - val_loss: 0.4231 - val_accuracy: 0.8487\n",
            "Epoch 26/50\n",
            "1594/1594 [==============================] - 5s 3ms/step - loss: 0.4433 - accuracy: 0.8458 - val_loss: 0.4221 - val_accuracy: 0.8498\n",
            "Epoch 27/50\n",
            "1594/1594 [==============================] - 5s 3ms/step - loss: 0.4412 - accuracy: 0.8465 - val_loss: 0.4221 - val_accuracy: 0.8488\n",
            "Epoch 28/50\n",
            "1594/1594 [==============================] - 5s 3ms/step - loss: 0.4426 - accuracy: 0.8454 - val_loss: 0.4210 - val_accuracy: 0.8501\n",
            "Epoch 29/50\n",
            "1594/1594 [==============================] - 5s 3ms/step - loss: 0.4433 - accuracy: 0.8465 - val_loss: 0.4207 - val_accuracy: 0.8493\n",
            "Epoch 30/50\n",
            "1594/1594 [==============================] - 5s 3ms/step - loss: 0.4409 - accuracy: 0.8462 - val_loss: 0.4205 - val_accuracy: 0.8497\n",
            "Epoch 31/50\n",
            "1594/1594 [==============================] - 5s 3ms/step - loss: 0.4402 - accuracy: 0.8460 - val_loss: 0.4203 - val_accuracy: 0.8503\n",
            "Epoch 32/50\n",
            "1594/1594 [==============================] - 5s 3ms/step - loss: 0.4363 - accuracy: 0.8475 - val_loss: 0.4193 - val_accuracy: 0.8509\n",
            "Epoch 33/50\n",
            "1594/1594 [==============================] - 5s 3ms/step - loss: 0.4375 - accuracy: 0.8485 - val_loss: 0.4186 - val_accuracy: 0.8501\n",
            "Epoch 34/50\n",
            "1594/1594 [==============================] - 5s 3ms/step - loss: 0.4382 - accuracy: 0.8480 - val_loss: 0.4189 - val_accuracy: 0.8511\n",
            "Epoch 35/50\n",
            "1594/1594 [==============================] - 5s 3ms/step - loss: 0.4360 - accuracy: 0.8478 - val_loss: 0.4182 - val_accuracy: 0.8503\n",
            "Epoch 36/50\n",
            "1594/1594 [==============================] - 5s 3ms/step - loss: 0.4367 - accuracy: 0.8472 - val_loss: 0.4186 - val_accuracy: 0.8503\n",
            "Epoch 37/50\n",
            "1594/1594 [==============================] - 5s 3ms/step - loss: 0.4359 - accuracy: 0.8483 - val_loss: 0.4177 - val_accuracy: 0.8503\n",
            "Epoch 38/50\n",
            "1594/1594 [==============================] - 5s 3ms/step - loss: 0.4348 - accuracy: 0.8483 - val_loss: 0.4169 - val_accuracy: 0.8510\n",
            "Epoch 39/50\n",
            "1594/1594 [==============================] - 5s 3ms/step - loss: 0.4335 - accuracy: 0.8488 - val_loss: 0.4168 - val_accuracy: 0.8509\n",
            "Epoch 40/50\n",
            "1594/1594 [==============================] - 5s 3ms/step - loss: 0.4366 - accuracy: 0.8480 - val_loss: 0.4162 - val_accuracy: 0.8512\n",
            "Epoch 41/50\n",
            "1594/1594 [==============================] - 5s 3ms/step - loss: 0.4315 - accuracy: 0.8497 - val_loss: 0.4161 - val_accuracy: 0.8516\n",
            "Epoch 42/50\n",
            "1594/1594 [==============================] - 5s 3ms/step - loss: 0.4354 - accuracy: 0.8486 - val_loss: 0.4159 - val_accuracy: 0.8512\n",
            "Epoch 43/50\n",
            "1594/1594 [==============================] - 5s 3ms/step - loss: 0.4297 - accuracy: 0.8506 - val_loss: 0.4152 - val_accuracy: 0.8520\n",
            "Epoch 44/50\n",
            "1594/1594 [==============================] - 5s 3ms/step - loss: 0.4324 - accuracy: 0.8489 - val_loss: 0.4150 - val_accuracy: 0.8529\n",
            "Epoch 45/50\n",
            "1594/1594 [==============================] - 5s 3ms/step - loss: 0.4310 - accuracy: 0.8493 - val_loss: 0.4149 - val_accuracy: 0.8528\n",
            "Epoch 46/50\n",
            "1594/1594 [==============================] - 5s 3ms/step - loss: 0.4309 - accuracy: 0.8495 - val_loss: 0.4141 - val_accuracy: 0.8522\n",
            "Epoch 47/50\n",
            "1594/1594 [==============================] - 5s 3ms/step - loss: 0.4319 - accuracy: 0.8505 - val_loss: 0.4144 - val_accuracy: 0.8526\n",
            "Epoch 48/50\n",
            "1594/1594 [==============================] - 5s 3ms/step - loss: 0.4296 - accuracy: 0.8504 - val_loss: 0.4139 - val_accuracy: 0.8528\n",
            "Epoch 49/50\n",
            "1594/1594 [==============================] - 5s 3ms/step - loss: 0.4303 - accuracy: 0.8506 - val_loss: 0.4147 - val_accuracy: 0.8540\n",
            "Epoch 50/50\n",
            "1594/1594 [==============================] - 5s 3ms/step - loss: 0.4311 - accuracy: 0.8500 - val_loss: 0.4136 - val_accuracy: 0.8536\n"
          ]
        }
      ],
      "source": [
        "history_power = model.fit(x_train, y_train, epochs=50, validation_split=0.15)"
      ]
    },
    {
      "cell_type": "code",
      "execution_count": null,
      "id": "171f2d8b-b5d9-43da-909f-6c43e8e362d6",
      "metadata": {
        "jp-MarkdownHeadingCollapsed": true,
        "tags": [],
        "id": "171f2d8b-b5d9-43da-909f-6c43e8e362d6",
        "outputId": "f1c8c5e3-4891-4769-9f6f-7c90ba5e88d9",
        "colab": {
          "base_uri": "https://localhost:8080/",
          "height": 358
        }
      },
      "outputs": [
        {
          "output_type": "execute_result",
          "data": {
            "text/plain": [
              "<matplotlib.legend.Legend at 0x7f89e0a22d10>"
            ]
          },
          "metadata": {},
          "execution_count": 66
        },
        {
          "output_type": "display_data",
          "data": {
            "image/png": "[encoded data removed]",
            "text/plain": [
              "<Figure size 864x360 with 1 Axes>"
            ]
          },
          "metadata": {
            "needs_background": "light"
          }
        }
      ],
      "source": [
        "fig, ax = plt.subplots(figsize=(12, 5))\n",
        "ax.plot(history_power.history[\"loss\"], label=\"train loss\")\n",
        "ax.plot(history_power.history[\"accuracy\"], label=\"train accuracy\")\n",
        "ax.plot(history_power.history[\"val_loss\"], label=\"validation loss\")\n",
        "ax.plot(history_power.history[\"val_accuracy\"], label=\"validation accuracy\")\n",
        "ax.legend()"
      ]
    },
    {
      "cell_type": "markdown",
      "source": [
        "## Exp lr"
      ],
      "metadata": {
        "id": "-8C1TJpEMnbq"
      },
      "id": "-8C1TJpEMnbq"
    },
    {
      "cell_type": "code",
      "source": [
        "def exp_lr_func(eta0, s):\n",
        "  def exp_lr(epoch):\n",
        "    return eta0*0.1**(epoch/s)\n",
        "  return exp_lr\n",
        "exp_lr_s = exp_lr_func(0.01, 10)  "
      ],
      "metadata": {
        "id": "ZXAqHeVKMyCi"
      },
      "id": "ZXAqHeVKMyCi",
      "execution_count": null,
      "outputs": []
    },
    {
      "cell_type": "code",
      "source": [
        "exp_lr_c = keras.callbacks.LearningRateScheduler(exp_lr_s)"
      ],
      "metadata": {
        "id": "54hfLAG5NiQS"
      },
      "id": "54hfLAG5NiQS",
      "execution_count": null,
      "outputs": []
    },
    {
      "cell_type": "code",
      "source": [
        "model = keras.models.Sequential([\n",
        "    keras.layers.Flatten(input_shape=[28, 28]),\n",
        "    keras.layers.BatchNormalization(),\n",
        "    keras.layers.Dense(100, kernel_initializer=init_1, use_bias=False),\n",
        "    keras.layers.BatchNormalization(),\n",
        "    keras.layers.Activation(\"elu\"),\n",
        "    keras.layers.Dense(75, use_bias=False),\n",
        "    keras.layers.BatchNormalization(),\n",
        "    keras.layers.LeakyReLU(alpha=0.3),\n",
        "    keras.layers.Dense(10, activation=\"softmax\")\n",
        "])"
      ],
      "metadata": {
        "id": "N0oRWbEwVDR0"
      },
      "id": "N0oRWbEwVDR0",
      "execution_count": null,
      "outputs": []
    },
    {
      "cell_type": "code",
      "source": [
        "model.compile(loss=\"sparse_categorical_crossentropy\",\n",
        "              optimizer=\"sgd\",\n",
        "              metrics=[\"accuracy\"])"
      ],
      "metadata": {
        "id": "5RP7gcBiMmcU"
      },
      "id": "5RP7gcBiMmcU",
      "execution_count": null,
      "outputs": []
    },
    {
      "cell_type": "code",
      "source": [
        "history_exp = model.fit(x_train, y_train, epochs=50,\n",
        "                    validation_split=0.15,\n",
        "                    callbacks=[exp_lr_c])"
      ],
      "metadata": {
        "colab": {
          "base_uri": "https://localhost:8080/"
        },
        "id": "T2uV5-dEMxKw",
        "outputId": "2682d83f-744d-48ba-d10d-56be8d05483f"
      },
      "id": "T2uV5-dEMxKw",
      "execution_count": null,
      "outputs": [
        {
          "output_type": "stream",
          "name": "stdout",
          "text": [
            "Epoch 1/50\n",
            "1594/1594 [==============================] - 47s 3ms/step - loss: 0.6716 - accuracy: 0.7724 - val_loss: 0.4871 - val_accuracy: 0.8257 - lr: 0.0100\n",
            "Epoch 2/50\n",
            "1594/1594 [==============================] - 5s 3ms/step - loss: 0.4937 - accuracy: 0.8294 - val_loss: 0.4427 - val_accuracy: 0.8401 - lr: 0.0079\n",
            "Epoch 3/50\n",
            "1594/1594 [==============================] - 5s 3ms/step - loss: 0.4598 - accuracy: 0.8394 - val_loss: 0.4224 - val_accuracy: 0.8478 - lr: 0.0063\n",
            "Epoch 4/50\n",
            "1594/1594 [==============================] - 5s 3ms/step - loss: 0.4412 - accuracy: 0.8448 - val_loss: 0.4120 - val_accuracy: 0.8519 - lr: 0.0050\n",
            "Epoch 5/50\n",
            "1594/1594 [==============================] - 5s 3ms/step - loss: 0.4236 - accuracy: 0.8524 - val_loss: 0.4047 - val_accuracy: 0.8541 - lr: 0.0040\n",
            "Epoch 6/50\n",
            "1594/1594 [==============================] - 5s 3ms/step - loss: 0.4162 - accuracy: 0.8529 - val_loss: 0.3996 - val_accuracy: 0.8560 - lr: 0.0032\n",
            "Epoch 7/50\n",
            "1594/1594 [==============================] - 5s 3ms/step - loss: 0.4090 - accuracy: 0.8565 - val_loss: 0.3953 - val_accuracy: 0.8552 - lr: 0.0025\n",
            "Epoch 8/50\n",
            "1594/1594 [==============================] - 5s 3ms/step - loss: 0.4035 - accuracy: 0.8576 - val_loss: 0.3923 - val_accuracy: 0.8583 - lr: 0.0020\n",
            "Epoch 9/50\n",
            "1594/1594 [==============================] - 5s 3ms/step - loss: 0.4006 - accuracy: 0.8589 - val_loss: 0.3902 - val_accuracy: 0.8594 - lr: 0.0016\n",
            "Epoch 10/50\n",
            "1594/1594 [==============================] - 5s 3ms/step - loss: 0.3978 - accuracy: 0.8608 - val_loss: 0.3882 - val_accuracy: 0.8608 - lr: 0.0013\n",
            "Epoch 11/50\n",
            "1594/1594 [==============================] - 5s 3ms/step - loss: 0.3962 - accuracy: 0.8598 - val_loss: 0.3878 - val_accuracy: 0.8607 - lr: 0.0010\n",
            "Epoch 12/50\n",
            "1594/1594 [==============================] - 5s 3ms/step - loss: 0.3924 - accuracy: 0.8615 - val_loss: 0.3866 - val_accuracy: 0.8619 - lr: 7.9433e-04\n",
            "Epoch 13/50\n",
            "1594/1594 [==============================] - 5s 3ms/step - loss: 0.3908 - accuracy: 0.8623 - val_loss: 0.3848 - val_accuracy: 0.8613 - lr: 6.3096e-04\n",
            "Epoch 14/50\n",
            "1594/1594 [==============================] - 5s 3ms/step - loss: 0.3918 - accuracy: 0.8624 - val_loss: 0.3851 - val_accuracy: 0.8616 - lr: 5.0119e-04\n",
            "Epoch 15/50\n",
            "1594/1594 [==============================] - 5s 3ms/step - loss: 0.3875 - accuracy: 0.8620 - val_loss: 0.3852 - val_accuracy: 0.8620 - lr: 3.9811e-04\n",
            "Epoch 16/50\n",
            "1594/1594 [==============================] - 5s 3ms/step - loss: 0.3901 - accuracy: 0.8623 - val_loss: 0.3842 - val_accuracy: 0.8631 - lr: 3.1623e-04\n",
            "Epoch 17/50\n",
            "1594/1594 [==============================] - 5s 3ms/step - loss: 0.3883 - accuracy: 0.8628 - val_loss: 0.3834 - val_accuracy: 0.8623 - lr: 2.5119e-04\n",
            "Epoch 18/50\n",
            "1594/1594 [==============================] - 5s 3ms/step - loss: 0.3896 - accuracy: 0.8621 - val_loss: 0.3835 - val_accuracy: 0.8631 - lr: 1.9953e-04\n",
            "Epoch 19/50\n",
            "1594/1594 [==============================] - 5s 3ms/step - loss: 0.3893 - accuracy: 0.8623 - val_loss: 0.3829 - val_accuracy: 0.8621 - lr: 1.5849e-04\n",
            "Epoch 20/50\n",
            "1594/1594 [==============================] - 5s 3ms/step - loss: 0.3862 - accuracy: 0.8638 - val_loss: 0.3833 - val_accuracy: 0.8624 - lr: 1.2589e-04\n",
            "Epoch 21/50\n",
            "1594/1594 [==============================] - 5s 3ms/step - loss: 0.3859 - accuracy: 0.8632 - val_loss: 0.3827 - val_accuracy: 0.8624 - lr: 1.0000e-04\n",
            "Epoch 22/50\n",
            "1594/1594 [==============================] - 5s 3ms/step - loss: 0.3862 - accuracy: 0.8631 - val_loss: 0.3830 - val_accuracy: 0.8630 - lr: 7.9433e-05\n",
            "Epoch 23/50\n",
            "1594/1594 [==============================] - 5s 3ms/step - loss: 0.3858 - accuracy: 0.8629 - val_loss: 0.3828 - val_accuracy: 0.8626 - lr: 6.3096e-05\n",
            "Epoch 24/50\n",
            "1594/1594 [==============================] - 5s 3ms/step - loss: 0.3861 - accuracy: 0.8623 - val_loss: 0.3834 - val_accuracy: 0.8623 - lr: 5.0119e-05\n",
            "Epoch 25/50\n",
            "1594/1594 [==============================] - 5s 3ms/step - loss: 0.3866 - accuracy: 0.8635 - val_loss: 0.3829 - val_accuracy: 0.8622 - lr: 3.9811e-05\n",
            "Epoch 26/50\n",
            "1594/1594 [==============================] - 5s 3ms/step - loss: 0.3851 - accuracy: 0.8632 - val_loss: 0.3827 - val_accuracy: 0.8627 - lr: 3.1623e-05\n",
            "Epoch 27/50\n",
            "1594/1594 [==============================] - 5s 3ms/step - loss: 0.3872 - accuracy: 0.8635 - val_loss: 0.3829 - val_accuracy: 0.8623 - lr: 2.5119e-05\n",
            "Epoch 28/50\n",
            "1594/1594 [==============================] - 5s 3ms/step - loss: 0.3849 - accuracy: 0.8637 - val_loss: 0.3831 - val_accuracy: 0.8628 - lr: 1.9953e-05\n",
            "Epoch 29/50\n",
            "1594/1594 [==============================] - 5s 3ms/step - loss: 0.3839 - accuracy: 0.8651 - val_loss: 0.3826 - val_accuracy: 0.8614 - lr: 1.5849e-05\n",
            "Epoch 30/50\n",
            "1594/1594 [==============================] - 5s 3ms/step - loss: 0.3842 - accuracy: 0.8641 - val_loss: 0.3827 - val_accuracy: 0.8621 - lr: 1.2589e-05\n",
            "Epoch 31/50\n",
            "1594/1594 [==============================] - 5s 3ms/step - loss: 0.3851 - accuracy: 0.8642 - val_loss: 0.3828 - val_accuracy: 0.8626 - lr: 1.0000e-05\n",
            "Epoch 32/50\n",
            "1594/1594 [==============================] - 5s 3ms/step - loss: 0.3853 - accuracy: 0.8627 - val_loss: 0.3829 - val_accuracy: 0.8620 - lr: 7.9433e-06\n",
            "Epoch 33/50\n",
            "1594/1594 [==============================] - 5s 3ms/step - loss: 0.3861 - accuracy: 0.8635 - val_loss: 0.3829 - val_accuracy: 0.8622 - lr: 6.3096e-06\n",
            "Epoch 34/50\n",
            "1594/1594 [==============================] - 5s 3ms/step - loss: 0.3858 - accuracy: 0.8642 - val_loss: 0.3829 - val_accuracy: 0.8624 - lr: 5.0119e-06\n",
            "Epoch 35/50\n",
            "1594/1594 [==============================] - 5s 3ms/step - loss: 0.3856 - accuracy: 0.8636 - val_loss: 0.3824 - val_accuracy: 0.8626 - lr: 3.9811e-06\n",
            "Epoch 36/50\n",
            "1594/1594 [==============================] - 5s 3ms/step - loss: 0.3848 - accuracy: 0.8641 - val_loss: 0.3828 - val_accuracy: 0.8622 - lr: 3.1623e-06\n",
            "Epoch 37/50\n",
            "1594/1594 [==============================] - 5s 3ms/step - loss: 0.3852 - accuracy: 0.8631 - val_loss: 0.3825 - val_accuracy: 0.8629 - lr: 2.5119e-06\n",
            "Epoch 38/50\n",
            "1594/1594 [==============================] - 5s 3ms/step - loss: 0.3863 - accuracy: 0.8627 - val_loss: 0.3828 - val_accuracy: 0.8629 - lr: 1.9953e-06\n",
            "Epoch 39/50\n",
            "1594/1594 [==============================] - 5s 3ms/step - loss: 0.3854 - accuracy: 0.8637 - val_loss: 0.3826 - val_accuracy: 0.8629 - lr: 1.5849e-06\n",
            "Epoch 40/50\n",
            "1594/1594 [==============================] - 5s 3ms/step - loss: 0.3865 - accuracy: 0.8630 - val_loss: 0.3829 - val_accuracy: 0.8618 - lr: 1.2589e-06\n",
            "Epoch 41/50\n",
            "1594/1594 [==============================] - 5s 3ms/step - loss: 0.3847 - accuracy: 0.8645 - val_loss: 0.3827 - val_accuracy: 0.8633 - lr: 1.0000e-06\n",
            "Epoch 42/50\n",
            "1594/1594 [==============================] - 5s 3ms/step - loss: 0.3861 - accuracy: 0.8638 - val_loss: 0.3829 - val_accuracy: 0.8627 - lr: 7.9433e-07\n",
            "Epoch 43/50\n",
            "1594/1594 [==============================] - 5s 3ms/step - loss: 0.3831 - accuracy: 0.8652 - val_loss: 0.3829 - val_accuracy: 0.8636 - lr: 6.3096e-07\n",
            "Epoch 44/50\n",
            "1594/1594 [==============================] - 5s 3ms/step - loss: 0.3857 - accuracy: 0.8632 - val_loss: 0.3827 - val_accuracy: 0.8627 - lr: 5.0119e-07\n",
            "Epoch 45/50\n",
            "1594/1594 [==============================] - 5s 3ms/step - loss: 0.3862 - accuracy: 0.8629 - val_loss: 0.3825 - val_accuracy: 0.8627 - lr: 3.9811e-07\n",
            "Epoch 46/50\n",
            "1594/1594 [==============================] - 5s 3ms/step - loss: 0.3835 - accuracy: 0.8644 - val_loss: 0.3832 - val_accuracy: 0.8622 - lr: 3.1623e-07\n",
            "Epoch 47/50\n",
            "1594/1594 [==============================] - 5s 3ms/step - loss: 0.3872 - accuracy: 0.8628 - val_loss: 0.3833 - val_accuracy: 0.8629 - lr: 2.5119e-07\n",
            "Epoch 48/50\n",
            "1594/1594 [==============================] - 5s 3ms/step - loss: 0.3866 - accuracy: 0.8629 - val_loss: 0.3829 - val_accuracy: 0.8626 - lr: 1.9953e-07\n",
            "Epoch 49/50\n",
            "1594/1594 [==============================] - 5s 3ms/step - loss: 0.3860 - accuracy: 0.8635 - val_loss: 0.3830 - val_accuracy: 0.8632 - lr: 1.5849e-07\n",
            "Epoch 50/50\n",
            "1594/1594 [==============================] - 5s 3ms/step - loss: 0.3849 - accuracy: 0.8638 - val_loss: 0.3828 - val_accuracy: 0.8627 - lr: 1.2589e-07\n"
          ]
        }
      ]
    },
    {
      "cell_type": "code",
      "source": [
        "fig, ax = plt.subplots(figsize=(12, 5))\n",
        "ax.plot(history_exp.history[\"loss\"], label=\"train loss\")\n",
        "ax.plot(history_exp.history[\"accuracy\"], label=\"train accuracy\")\n",
        "ax.plot(history_exp.history[\"val_loss\"], label=\"validation loss\")\n",
        "ax.plot(history_exp.history[\"val_accuracy\"], label=\"validation accuracy\")\n",
        "ax.legend()"
      ],
      "metadata": {
        "colab": {
          "base_uri": "https://localhost:8080/",
          "height": 358
        },
        "id": "vo_s71jliPFk",
        "outputId": "e97db8a1-92c1-4756-b120-1e7f79e2959e"
      },
      "id": "vo_s71jliPFk",
      "execution_count": null,
      "outputs": [
        {
          "output_type": "execute_result",
          "data": {
            "text/plain": [
              "<matplotlib.legend.Legend at 0x7f89de3f1650>"
            ]
          },
          "metadata": {},
          "execution_count": 106
        },
        {
          "output_type": "display_data",
          "data": {
            "image/png": "[encoded data removed]",
            "text/plain": [
              "<Figure size 864x360 with 1 Axes>"
            ]
          },
          "metadata": {
            "needs_background": "light"
          }
        }
      ]
    },
    {
      "cell_type": "code",
      "source": [
        "plt.plot(history_exp.epoch, history_exp.history[\"lr\"])"
      ],
      "metadata": {
        "colab": {
          "base_uri": "https://localhost:8080/",
          "height": 303
        },
        "id": "pj2ImtBHir5U",
        "outputId": "f0f81306-6387-4904-ee6a-a17682626130"
      },
      "id": "pj2ImtBHir5U",
      "execution_count": null,
      "outputs": [
        {
          "output_type": "execute_result",
          "data": {
            "text/plain": [
              "[<matplotlib.lines.Line2D at 0x7f89de35a050>]"
            ]
          },
          "metadata": {},
          "execution_count": 109
        },
        {
          "output_type": "display_data",
          "data": {
            "image/png": "[encoded data removed]",
            "text/plain": [
              "<Figure size 432x288 with 1 Axes>"
            ]
          },
          "metadata": {
            "needs_background": "light"
          }
        }
      ]
    },
    {
      "cell_type": "markdown",
      "source": [
        "## Piecewise lr"
      ],
      "metadata": {
        "id": "sWUyal5Ki8ot"
      },
      "id": "sWUyal5Ki8ot"
    },
    {
      "cell_type": "code",
      "source": [
        "def pw_lr(epoch):\n",
        "  if epoch < 10:\n",
        "    return 0.01\n",
        "  elif epoch < 20:\n",
        "    return 0.005\n",
        "  elif epoch < 40:\n",
        "    return 0.001\n",
        "  else:\n",
        "    return 0.0001"
      ],
      "metadata": {
        "id": "abTbbqUNi8LX"
      },
      "id": "abTbbqUNi8LX",
      "execution_count": null,
      "outputs": []
    },
    {
      "cell_type": "code",
      "source": [
        "pw_lr_c = keras.callbacks.LearningRateScheduler(pw_lr)"
      ],
      "metadata": {
        "id": "6cBdWLtGjShP"
      },
      "id": "6cBdWLtGjShP",
      "execution_count": null,
      "outputs": []
    },
    {
      "cell_type": "code",
      "source": [
        "model = keras.models.Sequential([\n",
        "    keras.layers.Flatten(input_shape=[28, 28]),\n",
        "    keras.layers.BatchNormalization(),\n",
        "    keras.layers.Dense(100, kernel_initializer=init_1, use_bias=False),\n",
        "    keras.layers.BatchNormalization(),\n",
        "    keras.layers.Activation(\"elu\"),\n",
        "    keras.layers.Dense(75, use_bias=False),\n",
        "    keras.layers.BatchNormalization(),\n",
        "    keras.layers.LeakyReLU(alpha=0.3),\n",
        "    keras.layers.Dense(10, activation=\"softmax\")\n",
        "])"
      ],
      "metadata": {
        "id": "RzUy_MoQjaiW"
      },
      "id": "RzUy_MoQjaiW",
      "execution_count": null,
      "outputs": []
    },
    {
      "cell_type": "code",
      "source": [
        "model.compile(loss=\"sparse_categorical_crossentropy\",\n",
        "              optimizer=\"sgd\",\n",
        "              metrics=[\"accuracy\"])"
      ],
      "metadata": {
        "id": "8-qSIRZhjeoV"
      },
      "id": "8-qSIRZhjeoV",
      "execution_count": null,
      "outputs": []
    },
    {
      "cell_type": "code",
      "source": [
        "history_pw = model.fit(x_train, y_train, epochs=50,\n",
        "                    validation_split=0.15,\n",
        "                    callbacks=[pw_lr_c])"
      ],
      "metadata": {
        "colab": {
          "base_uri": "https://localhost:8080/"
        },
        "id": "rbawjM8BjjTj",
        "outputId": "1533dde4-3db4-4080-80ab-8d83c09c8c8d"
      },
      "id": "rbawjM8BjjTj",
      "execution_count": null,
      "outputs": [
        {
          "output_type": "stream",
          "name": "stdout",
          "text": [
            "Epoch 1/50\n",
            "1594/1594 [==============================] - 6s 3ms/step - loss: 0.6702 - accuracy: 0.7759 - val_loss: 0.4861 - val_accuracy: 0.8262 - lr: 0.0100\n",
            "Epoch 2/50\n",
            "1594/1594 [==============================] - 5s 3ms/step - loss: 0.4900 - accuracy: 0.8295 - val_loss: 0.4368 - val_accuracy: 0.8427 - lr: 0.0100\n",
            "Epoch 3/50\n",
            "1594/1594 [==============================] - 5s 3ms/step - loss: 0.4471 - accuracy: 0.8432 - val_loss: 0.4129 - val_accuracy: 0.8519 - lr: 0.0100\n",
            "Epoch 4/50\n",
            "1594/1594 [==============================] - 5s 3ms/step - loss: 0.4237 - accuracy: 0.8514 - val_loss: 0.3981 - val_accuracy: 0.8553 - lr: 0.0100\n",
            "Epoch 5/50\n",
            "1594/1594 [==============================] - 6s 4ms/step - loss: 0.4057 - accuracy: 0.8561 - val_loss: 0.3878 - val_accuracy: 0.8609 - lr: 0.0100\n",
            "Epoch 6/50\n",
            "1594/1594 [==============================] - 5s 3ms/step - loss: 0.3922 - accuracy: 0.8615 - val_loss: 0.3795 - val_accuracy: 0.8629 - lr: 0.0100\n",
            "Epoch 7/50\n",
            "1594/1594 [==============================] - 5s 3ms/step - loss: 0.3815 - accuracy: 0.8650 - val_loss: 0.3733 - val_accuracy: 0.8658 - lr: 0.0100\n",
            "Epoch 8/50\n",
            "1594/1594 [==============================] - 5s 3ms/step - loss: 0.3679 - accuracy: 0.8685 - val_loss: 0.3701 - val_accuracy: 0.8673 - lr: 0.0100\n",
            "Epoch 9/50\n",
            "1594/1594 [==============================] - 5s 3ms/step - loss: 0.3582 - accuracy: 0.8723 - val_loss: 0.3615 - val_accuracy: 0.8668 - lr: 0.0100\n",
            "Epoch 10/50\n",
            "1594/1594 [==============================] - 7s 4ms/step - loss: 0.3490 - accuracy: 0.8746 - val_loss: 0.3588 - val_accuracy: 0.8697 - lr: 0.0100\n",
            "Epoch 11/50\n",
            "1594/1594 [==============================] - 5s 3ms/step - loss: 0.3365 - accuracy: 0.8780 - val_loss: 0.3506 - val_accuracy: 0.8713 - lr: 0.0050\n",
            "Epoch 12/50\n",
            "1594/1594 [==============================] - 5s 3ms/step - loss: 0.3333 - accuracy: 0.8810 - val_loss: 0.3494 - val_accuracy: 0.8732 - lr: 0.0050\n",
            "Epoch 13/50\n",
            "1594/1594 [==============================] - 5s 3ms/step - loss: 0.3289 - accuracy: 0.8815 - val_loss: 0.3458 - val_accuracy: 0.8722 - lr: 0.0050\n",
            "Epoch 14/50\n",
            "1594/1594 [==============================] - 5s 3ms/step - loss: 0.3257 - accuracy: 0.8821 - val_loss: 0.3454 - val_accuracy: 0.8718 - lr: 0.0050\n",
            "Epoch 15/50\n",
            "1594/1594 [==============================] - 5s 3ms/step - loss: 0.3183 - accuracy: 0.8850 - val_loss: 0.3440 - val_accuracy: 0.8744 - lr: 0.0050\n",
            "Epoch 16/50\n",
            "1594/1594 [==============================] - 6s 4ms/step - loss: 0.3166 - accuracy: 0.8853 - val_loss: 0.3422 - val_accuracy: 0.8747 - lr: 0.0050\n",
            "Epoch 17/50\n",
            "1594/1594 [==============================] - 5s 3ms/step - loss: 0.3139 - accuracy: 0.8864 - val_loss: 0.3410 - val_accuracy: 0.8743 - lr: 0.0050\n",
            "Epoch 18/50\n",
            "1594/1594 [==============================] - 5s 3ms/step - loss: 0.3112 - accuracy: 0.8880 - val_loss: 0.3389 - val_accuracy: 0.8776 - lr: 0.0050\n",
            "Epoch 19/50\n",
            "1594/1594 [==============================] - 5s 3ms/step - loss: 0.3076 - accuracy: 0.8897 - val_loss: 0.3368 - val_accuracy: 0.8784 - lr: 0.0050\n",
            "Epoch 20/50\n",
            "1594/1594 [==============================] - 5s 3ms/step - loss: 0.3050 - accuracy: 0.8903 - val_loss: 0.3360 - val_accuracy: 0.8814 - lr: 0.0050\n",
            "Epoch 21/50\n",
            "1594/1594 [==============================] - 5s 3ms/step - loss: 0.2962 - accuracy: 0.8935 - val_loss: 0.3343 - val_accuracy: 0.8808 - lr: 0.0010\n",
            "Epoch 22/50\n",
            "1594/1594 [==============================] - 6s 4ms/step - loss: 0.2954 - accuracy: 0.8942 - val_loss: 0.3345 - val_accuracy: 0.8807 - lr: 0.0010\n",
            "Epoch 23/50\n",
            "1594/1594 [==============================] - 5s 3ms/step - loss: 0.2942 - accuracy: 0.8944 - val_loss: 0.3346 - val_accuracy: 0.8801 - lr: 0.0010\n",
            "Epoch 24/50\n",
            "1594/1594 [==============================] - 5s 3ms/step - loss: 0.2936 - accuracy: 0.8935 - val_loss: 0.3328 - val_accuracy: 0.8793 - lr: 0.0010\n",
            "Epoch 25/50\n",
            "1594/1594 [==============================] - 5s 3ms/step - loss: 0.2927 - accuracy: 0.8946 - val_loss: 0.3324 - val_accuracy: 0.8807 - lr: 0.0010\n",
            "Epoch 26/50\n",
            "1594/1594 [==============================] - 5s 3ms/step - loss: 0.2914 - accuracy: 0.8943 - val_loss: 0.3340 - val_accuracy: 0.8812 - lr: 0.0010\n",
            "Epoch 27/50\n",
            "1594/1594 [==============================] - 5s 3ms/step - loss: 0.2891 - accuracy: 0.8952 - val_loss: 0.3339 - val_accuracy: 0.8799 - lr: 0.0010\n",
            "Epoch 28/50\n",
            "1594/1594 [==============================] - 6s 4ms/step - loss: 0.2893 - accuracy: 0.8957 - val_loss: 0.3326 - val_accuracy: 0.8813 - lr: 0.0010\n",
            "Epoch 29/50\n",
            "1594/1594 [==============================] - 5s 3ms/step - loss: 0.2875 - accuracy: 0.8970 - val_loss: 0.3330 - val_accuracy: 0.8816 - lr: 0.0010\n",
            "Epoch 30/50\n",
            "1594/1594 [==============================] - 5s 3ms/step - loss: 0.2899 - accuracy: 0.8948 - val_loss: 0.3333 - val_accuracy: 0.8807 - lr: 0.0010\n",
            "Epoch 31/50\n",
            "1594/1594 [==============================] - 5s 3ms/step - loss: 0.2885 - accuracy: 0.8969 - val_loss: 0.3337 - val_accuracy: 0.8804 - lr: 0.0010\n",
            "Epoch 32/50\n",
            "1594/1594 [==============================] - 5s 3ms/step - loss: 0.2882 - accuracy: 0.8966 - val_loss: 0.3324 - val_accuracy: 0.8800 - lr: 0.0010\n",
            "Epoch 33/50\n",
            "1594/1594 [==============================] - 5s 3ms/step - loss: 0.2860 - accuracy: 0.8961 - val_loss: 0.3325 - val_accuracy: 0.8818 - lr: 0.0010\n",
            "Epoch 34/50\n",
            "1594/1594 [==============================] - 6s 4ms/step - loss: 0.2857 - accuracy: 0.8975 - val_loss: 0.3325 - val_accuracy: 0.8807 - lr: 0.0010\n",
            "Epoch 35/50\n",
            "1594/1594 [==============================] - 5s 3ms/step - loss: 0.2875 - accuracy: 0.8957 - val_loss: 0.3318 - val_accuracy: 0.8819 - lr: 0.0010\n",
            "Epoch 36/50\n",
            "1594/1594 [==============================] - 5s 3ms/step - loss: 0.2843 - accuracy: 0.8980 - val_loss: 0.3328 - val_accuracy: 0.8812 - lr: 0.0010\n",
            "Epoch 37/50\n",
            "1594/1594 [==============================] - 5s 3ms/step - loss: 0.2837 - accuracy: 0.8977 - val_loss: 0.3324 - val_accuracy: 0.8826 - lr: 0.0010\n",
            "Epoch 38/50\n",
            "1594/1594 [==============================] - 5s 3ms/step - loss: 0.2877 - accuracy: 0.8968 - val_loss: 0.3308 - val_accuracy: 0.8823 - lr: 0.0010\n",
            "Epoch 39/50\n",
            "1594/1594 [==============================] - 5s 3ms/step - loss: 0.2834 - accuracy: 0.8976 - val_loss: 0.3325 - val_accuracy: 0.8802 - lr: 0.0010\n",
            "Epoch 40/50\n",
            "1594/1594 [==============================] - 6s 4ms/step - loss: 0.2833 - accuracy: 0.8985 - val_loss: 0.3310 - val_accuracy: 0.8816 - lr: 0.0010\n",
            "Epoch 41/50\n",
            "1594/1594 [==============================] - 5s 3ms/step - loss: 0.2814 - accuracy: 0.8971 - val_loss: 0.3309 - val_accuracy: 0.8819 - lr: 1.0000e-04\n",
            "Epoch 42/50\n",
            "1594/1594 [==============================] - 5s 3ms/step - loss: 0.2787 - accuracy: 0.8992 - val_loss: 0.3314 - val_accuracy: 0.8812 - lr: 1.0000e-04\n",
            "Epoch 43/50\n",
            "1594/1594 [==============================] - 5s 3ms/step - loss: 0.2789 - accuracy: 0.8985 - val_loss: 0.3308 - val_accuracy: 0.8823 - lr: 1.0000e-04\n",
            "Epoch 44/50\n",
            "1594/1594 [==============================] - 5s 3ms/step - loss: 0.2806 - accuracy: 0.8979 - val_loss: 0.3314 - val_accuracy: 0.8818 - lr: 1.0000e-04\n",
            "Epoch 45/50\n",
            "1594/1594 [==============================] - 5s 3ms/step - loss: 0.2785 - accuracy: 0.8999 - val_loss: 0.3306 - val_accuracy: 0.8814 - lr: 1.0000e-04\n",
            "Epoch 46/50\n",
            "1594/1594 [==============================] - 6s 4ms/step - loss: 0.2798 - accuracy: 0.8994 - val_loss: 0.3310 - val_accuracy: 0.8822 - lr: 1.0000e-04\n",
            "Epoch 47/50\n",
            "1594/1594 [==============================] - 5s 3ms/step - loss: 0.2799 - accuracy: 0.8990 - val_loss: 0.3323 - val_accuracy: 0.8820 - lr: 1.0000e-04\n",
            "Epoch 48/50\n",
            "1594/1594 [==============================] - 5s 3ms/step - loss: 0.2801 - accuracy: 0.9000 - val_loss: 0.3316 - val_accuracy: 0.8826 - lr: 1.0000e-04\n",
            "Epoch 49/50\n",
            "1594/1594 [==============================] - 5s 3ms/step - loss: 0.2798 - accuracy: 0.8978 - val_loss: 0.3312 - val_accuracy: 0.8819 - lr: 1.0000e-04\n",
            "Epoch 50/50\n",
            "1594/1594 [==============================] - 5s 3ms/step - loss: 0.2808 - accuracy: 0.8986 - val_loss: 0.3311 - val_accuracy: 0.8809 - lr: 1.0000e-04\n"
          ]
        }
      ]
    },
    {
      "cell_type": "code",
      "source": [
        "fig, ax = plt.subplots(figsize=(12, 5))\n",
        "ax.plot(history_pw.history[\"loss\"], label=\"train loss\")\n",
        "ax.plot(history_pw.history[\"accuracy\"], label=\"train accuracy\")\n",
        "ax.plot(history_pw.history[\"val_loss\"], label=\"validation loss\")\n",
        "ax.plot(history_pw.history[\"val_accuracy\"], label=\"validation accuracy\")\n",
        "ax.legend()"
      ],
      "metadata": {
        "colab": {
          "base_uri": "https://localhost:8080/",
          "height": 358
        },
        "id": "ebYnOPU2oOTG",
        "outputId": "8ffa230d-f02a-448d-ae1f-06437b2fd0eb"
      },
      "id": "ebYnOPU2oOTG",
      "execution_count": null,
      "outputs": [
        {
          "output_type": "execute_result",
          "data": {
            "text/plain": [
              "<matplotlib.legend.Legend at 0x7f89ddfcc950>"
            ]
          },
          "metadata": {},
          "execution_count": 117
        },
        {
          "output_type": "display_data",
          "data": {
            "image/png": "[encoded data removed]",
            "text/plain": [
              "<Figure size 864x360 with 1 Axes>"
            ]
          },
          "metadata": {
            "needs_background": "light"
          }
        }
      ]
    },
    {
      "cell_type": "code",
      "source": [
        "plt.plot(history_pw.epoch, history_pw.history[\"lr\"])"
      ],
      "metadata": {
        "colab": {
          "base_uri": "https://localhost:8080/",
          "height": 303
        },
        "id": "6yioRqTJocTt",
        "outputId": "b4866455-52a8-45fa-f33f-dc93e3c5ba7e"
      },
      "id": "6yioRqTJocTt",
      "execution_count": null,
      "outputs": [
        {
          "output_type": "execute_result",
          "data": {
            "text/plain": [
              "[<matplotlib.lines.Line2D at 0x7f89ddf12550>]"
            ]
          },
          "metadata": {},
          "execution_count": 118
        },
        {
          "output_type": "display_data",
          "data": {
            "image/png": "[encoded data removed]",
            "text/plain": [
              "<Figure size 432x288 with 1 Axes>"
            ]
          },
          "metadata": {
            "needs_background": "light"
          }
        }
      ]
    },
    {
      "cell_type": "markdown",
      "source": [
        "## Performance"
      ],
      "metadata": {
        "id": "8EkLskQRoj_s"
      },
      "id": "8EkLskQRoj_s"
    },
    {
      "cell_type": "code",
      "source": [
        "per_lr_c = tf.keras.callbacks.ReduceLROnPlateau(\n",
        "    monitor='val_loss', factor=0.1, patience=10)"
      ],
      "metadata": {
        "id": "ID8c8D6vonB4"
      },
      "id": "ID8c8D6vonB4",
      "execution_count": null,
      "outputs": []
    },
    {
      "cell_type": "code",
      "source": [
        "model = keras.models.Sequential([\n",
        "    keras.layers.Flatten(input_shape=[28, 28]),\n",
        "    keras.layers.BatchNormalization(),\n",
        "    keras.layers.Dense(100, kernel_initializer=init_1, use_bias=False),\n",
        "    keras.layers.BatchNormalization(),\n",
        "    keras.layers.Activation(\"elu\"),\n",
        "    keras.layers.Dense(75, use_bias=False),\n",
        "    keras.layers.BatchNormalization(),\n",
        "    keras.layers.LeakyReLU(alpha=0.3),\n",
        "    keras.layers.Dense(10, activation=\"softmax\")\n",
        "])"
      ],
      "metadata": {
        "id": "mn1tE7-mpN2D"
      },
      "id": "mn1tE7-mpN2D",
      "execution_count": null,
      "outputs": []
    },
    {
      "cell_type": "code",
      "source": [
        "model.compile(loss=\"sparse_categorical_crossentropy\",\n",
        "              optimizer=\"sgd\",\n",
        "              metrics=[\"accuracy\"])"
      ],
      "metadata": {
        "id": "Lyw3oGrSpTha"
      },
      "id": "Lyw3oGrSpTha",
      "execution_count": null,
      "outputs": []
    },
    {
      "cell_type": "code",
      "source": [
        "history_per = model.fit(x_train, y_train, epochs=50,\n",
        "                    validation_split=0.15,\n",
        "                    callbacks=[per_lr_c])"
      ],
      "metadata": {
        "colab": {
          "base_uri": "https://localhost:8080/"
        },
        "id": "6_--Xu0WpWeE",
        "outputId": "3fb42959-3f75-497a-8545-4141761e3b89"
      },
      "id": "6_--Xu0WpWeE",
      "execution_count": null,
      "outputs": [
        {
          "output_type": "stream",
          "name": "stdout",
          "text": [
            "Epoch 1/50\n",
            "1594/1594 [==============================] - 6s 3ms/step - loss: 0.6772 - accuracy: 0.7730 - val_loss: 0.4868 - val_accuracy: 0.8254 - lr: 0.0100\n",
            "Epoch 2/50\n",
            "1594/1594 [==============================] - 5s 3ms/step - loss: 0.4915 - accuracy: 0.8291 - val_loss: 0.4439 - val_accuracy: 0.8414 - lr: 0.0100\n",
            "Epoch 3/50\n",
            "1594/1594 [==============================] - 5s 3ms/step - loss: 0.4488 - accuracy: 0.8420 - val_loss: 0.4085 - val_accuracy: 0.8543 - lr: 0.0100\n",
            "Epoch 4/50\n",
            "1594/1594 [==============================] - 5s 3ms/step - loss: 0.4237 - accuracy: 0.8503 - val_loss: 0.3955 - val_accuracy: 0.8591 - lr: 0.0100\n",
            "Epoch 5/50\n",
            "1594/1594 [==============================] - 5s 3ms/step - loss: 0.4055 - accuracy: 0.8558 - val_loss: 0.3888 - val_accuracy: 0.8636 - lr: 0.0100\n",
            "Epoch 6/50\n",
            "1594/1594 [==============================] - 5s 3ms/step - loss: 0.3884 - accuracy: 0.8629 - val_loss: 0.3780 - val_accuracy: 0.8642 - lr: 0.0100\n",
            "Epoch 7/50\n",
            "1594/1594 [==============================] - 5s 3ms/step - loss: 0.3758 - accuracy: 0.8665 - val_loss: 0.3677 - val_accuracy: 0.8697 - lr: 0.0100\n",
            "Epoch 8/50\n",
            "1594/1594 [==============================] - 5s 3ms/step - loss: 0.3663 - accuracy: 0.8707 - val_loss: 0.3610 - val_accuracy: 0.8697 - lr: 0.0100\n",
            "Epoch 9/50\n",
            "1594/1594 [==============================] - 5s 3ms/step - loss: 0.3568 - accuracy: 0.8720 - val_loss: 0.3598 - val_accuracy: 0.8723 - lr: 0.0100\n",
            "Epoch 10/50\n",
            "1594/1594 [==============================] - 5s 3ms/step - loss: 0.3472 - accuracy: 0.8752 - val_loss: 0.3515 - val_accuracy: 0.8717 - lr: 0.0100\n",
            "Epoch 11/50\n",
            "1594/1594 [==============================] - 5s 3ms/step - loss: 0.3400 - accuracy: 0.8787 - val_loss: 0.3511 - val_accuracy: 0.8741 - lr: 0.0100\n",
            "Epoch 12/50\n",
            "1594/1594 [==============================] - 5s 3ms/step - loss: 0.3332 - accuracy: 0.8802 - val_loss: 0.3532 - val_accuracy: 0.8731 - lr: 0.0100\n",
            "Epoch 13/50\n",
            "1594/1594 [==============================] - 5s 3ms/step - loss: 0.3238 - accuracy: 0.8852 - val_loss: 0.3477 - val_accuracy: 0.8757 - lr: 0.0100\n",
            "Epoch 14/50\n",
            "1594/1594 [==============================] - 5s 3ms/step - loss: 0.3167 - accuracy: 0.8864 - val_loss: 0.3428 - val_accuracy: 0.8774 - lr: 0.0100\n",
            "Epoch 15/50\n",
            "1594/1594 [==============================] - 5s 3ms/step - loss: 0.3121 - accuracy: 0.8883 - val_loss: 0.3472 - val_accuracy: 0.8750 - lr: 0.0100\n",
            "Epoch 16/50\n",
            "1594/1594 [==============================] - 5s 3ms/step - loss: 0.3063 - accuracy: 0.8905 - val_loss: 0.3385 - val_accuracy: 0.8793 - lr: 0.0100\n",
            "Epoch 17/50\n",
            "1594/1594 [==============================] - 5s 3ms/step - loss: 0.3019 - accuracy: 0.8919 - val_loss: 0.3331 - val_accuracy: 0.8807 - lr: 0.0100\n",
            "Epoch 18/50\n",
            "1594/1594 [==============================] - 5s 3ms/step - loss: 0.2986 - accuracy: 0.8928 - val_loss: 0.3346 - val_accuracy: 0.8803 - lr: 0.0100\n",
            "Epoch 19/50\n",
            "1594/1594 [==============================] - 5s 3ms/step - loss: 0.2912 - accuracy: 0.8944 - val_loss: 0.3406 - val_accuracy: 0.8787 - lr: 0.0100\n",
            "Epoch 20/50\n",
            "1594/1594 [==============================] - 5s 3ms/step - loss: 0.2845 - accuracy: 0.8976 - val_loss: 0.3327 - val_accuracy: 0.8806 - lr: 0.0100\n",
            "Epoch 21/50\n",
            "1594/1594 [==============================] - 5s 3ms/step - loss: 0.2833 - accuracy: 0.8970 - val_loss: 0.3273 - val_accuracy: 0.8826 - lr: 0.0100\n",
            "Epoch 22/50\n",
            "1594/1594 [==============================] - 5s 3ms/step - loss: 0.2782 - accuracy: 0.8992 - val_loss: 0.3316 - val_accuracy: 0.8793 - lr: 0.0100\n",
            "Epoch 23/50\n",
            "1594/1594 [==============================] - 5s 3ms/step - loss: 0.2737 - accuracy: 0.9002 - val_loss: 0.3340 - val_accuracy: 0.8800 - lr: 0.0100\n",
            "Epoch 24/50\n",
            "1594/1594 [==============================] - 5s 3ms/step - loss: 0.2688 - accuracy: 0.9032 - val_loss: 0.3373 - val_accuracy: 0.8792 - lr: 0.0100\n",
            "Epoch 25/50\n",
            "1594/1594 [==============================] - 5s 3ms/step - loss: 0.2669 - accuracy: 0.9039 - val_loss: 0.3331 - val_accuracy: 0.8801 - lr: 0.0100\n",
            "Epoch 26/50\n",
            "1594/1594 [==============================] - 5s 3ms/step - loss: 0.2618 - accuracy: 0.9050 - val_loss: 0.3279 - val_accuracy: 0.8832 - lr: 0.0100\n",
            "Epoch 27/50\n",
            "1594/1594 [==============================] - 5s 3ms/step - loss: 0.2601 - accuracy: 0.9062 - val_loss: 0.3332 - val_accuracy: 0.8789 - lr: 0.0100\n",
            "Epoch 28/50\n",
            "1594/1594 [==============================] - 5s 3ms/step - loss: 0.2560 - accuracy: 0.9073 - val_loss: 0.3290 - val_accuracy: 0.8828 - lr: 0.0100\n",
            "Epoch 29/50\n",
            "1594/1594 [==============================] - 5s 3ms/step - loss: 0.2533 - accuracy: 0.9077 - val_loss: 0.3352 - val_accuracy: 0.8804 - lr: 0.0100\n",
            "Epoch 30/50\n",
            "1594/1594 [==============================] - 5s 3ms/step - loss: 0.2502 - accuracy: 0.9098 - val_loss: 0.3315 - val_accuracy: 0.8839 - lr: 0.0100\n",
            "Epoch 31/50\n",
            "1594/1594 [==============================] - 5s 3ms/step - loss: 0.2461 - accuracy: 0.9113 - val_loss: 0.3320 - val_accuracy: 0.8819 - lr: 0.0100\n",
            "Epoch 32/50\n",
            "1594/1594 [==============================] - 5s 3ms/step - loss: 0.2281 - accuracy: 0.9181 - val_loss: 0.3200 - val_accuracy: 0.8853 - lr: 1.0000e-03\n",
            "Epoch 33/50\n",
            "1594/1594 [==============================] - 5s 3ms/step - loss: 0.2266 - accuracy: 0.9187 - val_loss: 0.3192 - val_accuracy: 0.8863 - lr: 1.0000e-03\n",
            "Epoch 34/50\n",
            "1594/1594 [==============================] - 5s 3ms/step - loss: 0.2265 - accuracy: 0.9192 - val_loss: 0.3200 - val_accuracy: 0.8846 - lr: 1.0000e-03\n",
            "Epoch 35/50\n",
            "1594/1594 [==============================] - 5s 3ms/step - loss: 0.2252 - accuracy: 0.9192 - val_loss: 0.3216 - val_accuracy: 0.8854 - lr: 1.0000e-03\n",
            "Epoch 36/50\n",
            "1594/1594 [==============================] - 5s 3ms/step - loss: 0.2238 - accuracy: 0.9190 - val_loss: 0.3207 - val_accuracy: 0.8837 - lr: 1.0000e-03\n",
            "Epoch 37/50\n",
            "1594/1594 [==============================] - 5s 3ms/step - loss: 0.2225 - accuracy: 0.9203 - val_loss: 0.3201 - val_accuracy: 0.8849 - lr: 1.0000e-03\n",
            "Epoch 38/50\n",
            "1594/1594 [==============================] - 5s 3ms/step - loss: 0.2232 - accuracy: 0.9193 - val_loss: 0.3223 - val_accuracy: 0.8844 - lr: 1.0000e-03\n",
            "Epoch 39/50\n",
            "1594/1594 [==============================] - 5s 3ms/step - loss: 0.2217 - accuracy: 0.9194 - val_loss: 0.3214 - val_accuracy: 0.8850 - lr: 1.0000e-03\n",
            "Epoch 40/50\n",
            "1594/1594 [==============================] - 5s 3ms/step - loss: 0.2226 - accuracy: 0.9207 - val_loss: 0.3204 - val_accuracy: 0.8846 - lr: 1.0000e-03\n",
            "Epoch 41/50\n",
            "1594/1594 [==============================] - 5s 3ms/step - loss: 0.2227 - accuracy: 0.9199 - val_loss: 0.3224 - val_accuracy: 0.8842 - lr: 1.0000e-03\n",
            "Epoch 42/50\n",
            "1594/1594 [==============================] - 5s 3ms/step - loss: 0.2216 - accuracy: 0.9198 - val_loss: 0.3212 - val_accuracy: 0.8840 - lr: 1.0000e-03\n",
            "Epoch 43/50\n",
            "1594/1594 [==============================] - 5s 3ms/step - loss: 0.2197 - accuracy: 0.9223 - val_loss: 0.3219 - val_accuracy: 0.8842 - lr: 1.0000e-03\n",
            "Epoch 44/50\n",
            "1594/1594 [==============================] - 5s 3ms/step - loss: 0.2175 - accuracy: 0.9227 - val_loss: 0.3207 - val_accuracy: 0.8844 - lr: 1.0000e-04\n",
            "Epoch 45/50\n",
            "1594/1594 [==============================] - 5s 3ms/step - loss: 0.2190 - accuracy: 0.9219 - val_loss: 0.3215 - val_accuracy: 0.8844 - lr: 1.0000e-04\n",
            "Epoch 46/50\n",
            "1594/1594 [==============================] - 5s 3ms/step - loss: 0.2175 - accuracy: 0.9227 - val_loss: 0.3209 - val_accuracy: 0.8833 - lr: 1.0000e-04\n",
            "Epoch 47/50\n",
            "1594/1594 [==============================] - 5s 3ms/step - loss: 0.2174 - accuracy: 0.9224 - val_loss: 0.3216 - val_accuracy: 0.8839 - lr: 1.0000e-04\n",
            "Epoch 48/50\n",
            "1594/1594 [==============================] - 5s 3ms/step - loss: 0.2163 - accuracy: 0.9229 - val_loss: 0.3228 - val_accuracy: 0.8850 - lr: 1.0000e-04\n",
            "Epoch 49/50\n",
            "1594/1594 [==============================] - 5s 3ms/step - loss: 0.2171 - accuracy: 0.9215 - val_loss: 0.3216 - val_accuracy: 0.8842 - lr: 1.0000e-04\n",
            "Epoch 50/50\n",
            "1594/1594 [==============================] - 5s 3ms/step - loss: 0.2192 - accuracy: 0.9211 - val_loss: 0.3212 - val_accuracy: 0.8846 - lr: 1.0000e-04\n"
          ]
        }
      ]
    },
    {
      "cell_type": "code",
      "source": [
        "fig, ax = plt.subplots(figsize=(12, 5))\n",
        "ax.plot(history_per.history[\"loss\"], label=\"train loss\")\n",
        "ax.plot(history_per.history[\"accuracy\"], label=\"train accuracy\")\n",
        "ax.plot(history_per.history[\"val_loss\"], label=\"validation loss\")\n",
        "ax.plot(history_per.history[\"val_accuracy\"], label=\"validation accuracy\")\n",
        "ax.legend()"
      ],
      "metadata": {
        "colab": {
          "base_uri": "https://localhost:8080/",
          "height": 358
        },
        "id": "jawAEuYXqWkf",
        "outputId": "865b1afe-de91-4906-d778-1a6ad1b821d2"
      },
      "id": "jawAEuYXqWkf",
      "execution_count": null,
      "outputs": [
        {
          "output_type": "execute_result",
          "data": {
            "text/plain": [
              "<matplotlib.legend.Legend at 0x7f39abe21610>"
            ]
          },
          "metadata": {},
          "execution_count": 21
        },
        {
          "output_type": "display_data",
          "data": {
            "image/png": "[encoded data removed]",
            "text/plain": [
              "<Figure size 864x360 with 1 Axes>"
            ]
          },
          "metadata": {
            "needs_background": "light"
          }
        }
      ]
    },
    {
      "cell_type": "code",
      "source": [
        "plt.plot(history_per.epoch, history_per.history[\"lr\"])"
      ],
      "metadata": {
        "id": "4ZjbCFy-qgD0",
        "outputId": "e0bf2f89-dae6-4a44-b54d-62f6ecaf4ea8",
        "colab": {
          "base_uri": "https://localhost:8080/",
          "height": 303
        }
      },
      "id": "4ZjbCFy-qgD0",
      "execution_count": null,
      "outputs": [
        {
          "output_type": "execute_result",
          "data": {
            "text/plain": [
              "[<matplotlib.lines.Line2D at 0x7f39b05eab10>]"
            ]
          },
          "metadata": {},
          "execution_count": 22
        },
        {
          "output_type": "display_data",
          "data": {
            "image/png": "[encoded data removed]",
            "text/plain": [
              "<Figure size 432x288 with 1 Axes>"
            ]
          },
          "metadata": {
            "needs_background": "light"
          }
        }
      ]
    },
    {
      "cell_type": "code",
      "source": [
        "min(history_per.history[\"val_loss\"])"
      ],
      "metadata": {
        "colab": {
          "base_uri": "https://localhost:8080/"
        },
        "id": "3tBfbB2kn84I",
        "outputId": "71528d75-0bb5-4157-b302-38566af18b88"
      },
      "id": "3tBfbB2kn84I",
      "execution_count": null,
      "outputs": [
        {
          "output_type": "execute_result",
          "data": {
            "text/plain": [
              "0.3191995620727539"
            ]
          },
          "metadata": {},
          "execution_count": 24
        }
      ]
    },
    {
      "cell_type": "markdown",
      "source": [
        "## 1cycle lr"
      ],
      "metadata": {
        "id": "m8cMhrW6wtk4"
      },
      "id": "m8cMhrW6wtk4"
    },
    {
      "cell_type": "code",
      "source": [
        "class Exp_lr(keras.callbacks.Callback):\n",
        "  def __init__(self, factor):\n",
        "    self.factor = factor\n",
        "    self.lr = []\n",
        "    self.loss = []\n",
        "  \n",
        "  def on_epoch_begin(self, epoch, logs):\n",
        "    self.previous_loss = 0\n",
        "  \n",
        "  def on_batch_end(self, batch, logs):\n",
        "    current_loss = logs[\"loss\"]*(batch+1) - self.previous_loss*batch\n",
        "    self.previous_loss = logs[\"loss\"]\n",
        "    self.lr.append(keras.backend.get_value(self.model.optimizer.learning_rate))\n",
        "    self.loss.append(current_loss)\n",
        "    keras.backend.set_value(self.model.optimizer.learning_rate,\n",
        "                            self.model.optimizer.learning_rate*self.factor)"
      ],
      "metadata": {
        "id": "REtWLVQa_pqr"
      },
      "id": "REtWLVQa_pqr",
      "execution_count": null,
      "outputs": []
    },
    {
      "cell_type": "code",
      "source": [
        "def search_lr_loss(model, X, y, epochs=1, batch_size=32,\n",
        "                   min_lr = 1e-6, max_lr = 10):\n",
        "  model_weights = model.get_weights()\n",
        "  iterations = int(X.shape[0]/batch_size)*epochs\n",
        "  factor = np.exp(np.log(max_lr/min_lr)/iterations)\n",
        "  initial_lr = keras.backend.get_value(model.optimizer.learning_rate)\n",
        "  keras.backend.set_value(model.optimizer.learning_rate, min_lr)\n",
        "  epx_lr = Exp_lr(factor)\n",
        "  history = model.fit(X, y, epochs=epochs, batch_size=batch_size,\n",
        "                      callbacks=[epx_lr])\n",
        "  keras.backend.set_value(model.optimizer.learning_rate, initial_lr)\n",
        "  model.set_weights(model_weights)\n",
        "  return epx_lr.lr, epx_lr.loss"
      ],
      "metadata": {
        "id": "JG5DaRX2_pgH"
      },
      "id": "JG5DaRX2_pgH",
      "execution_count": null,
      "outputs": []
    },
    {
      "cell_type": "code",
      "source": [
        "model = keras.models.Sequential([\n",
        "    keras.layers.Flatten(input_shape=[28, 28]),\n",
        "    keras.layers.BatchNormalization(),\n",
        "    keras.layers.Dense(100, kernel_initializer=init_1, use_bias=False),\n",
        "    keras.layers.BatchNormalization(),\n",
        "    keras.layers.Activation(\"elu\"),\n",
        "    keras.layers.Dense(75, use_bias=False),\n",
        "    keras.layers.BatchNormalization(),\n",
        "    keras.layers.LeakyReLU(alpha=0.3),\n",
        "    keras.layers.Dense(10, activation=\"softmax\")\n",
        "])"
      ],
      "metadata": {
        "id": "aGqDk_0v_oyB"
      },
      "id": "aGqDk_0v_oyB",
      "execution_count": null,
      "outputs": []
    },
    {
      "cell_type": "code",
      "source": [
        "model.compile(loss=\"sparse_categorical_crossentropy\",\n",
        "              optimizer=\"sgd\",\n",
        "              metrics=[\"accuracy\"])"
      ],
      "metadata": {
        "id": "IE5FwRuv7LEK"
      },
      "id": "IE5FwRuv7LEK",
      "execution_count": null,
      "outputs": []
    },
    {
      "cell_type": "code",
      "source": [
        "lr, loss = search_lr_loss(model, x_train, y_train)"
      ],
      "metadata": {
        "colab": {
          "base_uri": "https://localhost:8080/"
        },
        "id": "yrnBImHaSFAx",
        "outputId": "ff6e31a2-67f1-4bde-9579-c0ab787a8d06"
      },
      "id": "yrnBImHaSFAx",
      "execution_count": null,
      "outputs": [
        {
          "output_type": "stream",
          "name": "stdout",
          "text": [
            "1875/1875 [==============================] - 9s 4ms/step - loss: nan - accuracy: 0.4202\n"
          ]
        }
      ]
    },
    {
      "cell_type": "code",
      "source": [
        "plt.plot(lr, loss)\n",
        "plt.xscale(\"log\")\n",
        "plt.ylim(0, 5)"
      ],
      "metadata": {
        "colab": {
          "base_uri": "https://localhost:8080/",
          "height": 311
        },
        "id": "M8jIRXE9Se9a",
        "outputId": "b0c584c5-ab45-40ce-fca9-52d8afb6460c"
      },
      "id": "M8jIRXE9Se9a",
      "execution_count": null,
      "outputs": [
        {
          "output_type": "execute_result",
          "data": {
            "text/plain": [
              "(0.0, 5.0)"
            ]
          },
          "metadata": {},
          "execution_count": 40
        },
        {
          "output_type": "display_data",
          "data": {
            "image/png": "[encoded data removed]",
            "text/plain": [
              "<Figure size 432x288 with 1 Axes>"
            ]
          },
          "metadata": {
            "needs_background": "light"
          }
        }
      ]
    },
    {
      "cell_type": "code",
      "source": [
        "class One_cycle_lr(keras.callbacks.Callback):\n",
        "  def __init__(self, iterations, max_lr, init_lr=None,\n",
        "               final_steps=None, final_lr=None):\n",
        "    self.iterations = iterations\n",
        "    self.max_lr = max_lr\n",
        "    self.init_lr = init_lr or max_lr / 10\n",
        "    self.final_steps = final_steps or int(iterations/10)+1\n",
        "    self.half_iterations = int((iterations - self.final_steps)/2)\n",
        "    self.final_lr = final_lr or self.init_lr/1000\n",
        "    self.iteration = 0\n",
        "  \n",
        "  def interpolation(self, y2, y1, x2, x1):\n",
        "    return (y2 - y1)/(x2 - x1)*(self.iteration - x1) + y1\n",
        "  \n",
        "  def on_batch_begin(self, batch, logs):\n",
        "    if self.iteration < self.half_iterations:\n",
        "      lr = self.interpolation(self.max_lr, self.init_lr,\n",
        "                              self.half_iterations, 0)\n",
        "    elif self.iteration < 2*self.half_iterations:\n",
        "      lr = self.interpolation(self.init_lr, self.max_lr,\n",
        "                              2*self.half_iterations, self.half_iterations)\n",
        "    else:\n",
        "      lr = self.interpolation(self.final_lr, self.init_lr,\n",
        "                              self.iterations, 2*self.half_iterations)\n",
        "    self.iteration += 1\n",
        "    keras.backend.set_value(self.model.optimizer.learning_rate, lr)"
      ],
      "metadata": {
        "id": "TW1dNi2lShKc"
      },
      "id": "TW1dNi2lShKc",
      "execution_count": 36,
      "outputs": []
    },
    {
      "cell_type": "code",
      "source": [
        "model = keras.models.Sequential([\n",
        "    keras.layers.Flatten(input_shape=[28, 28]),\n",
        "    keras.layers.BatchNormalization(),\n",
        "    keras.layers.Dense(100, kernel_initializer=init_1, use_bias=False),\n",
        "    keras.layers.BatchNormalization(),\n",
        "    keras.layers.Activation(\"elu\"),\n",
        "    keras.layers.Dense(75, use_bias=False),\n",
        "    keras.layers.BatchNormalization(),\n",
        "    keras.layers.LeakyReLU(alpha=0.3),\n",
        "    keras.layers.Dense(10, activation=\"softmax\")\n",
        "])"
      ],
      "metadata": {
        "id": "queZm6Px4fel"
      },
      "id": "queZm6Px4fel",
      "execution_count": 37,
      "outputs": []
    },
    {
      "cell_type": "code",
      "source": [
        "model.compile(loss=\"sparse_categorical_crossentropy\",\n",
        "              optimizer=\"sgd\",\n",
        "              metrics=[\"accuracy\"])"
      ],
      "metadata": {
        "id": "vQLj3AVm4rdg"
      },
      "id": "vQLj3AVm4rdg",
      "execution_count": 38,
      "outputs": []
    },
    {
      "cell_type": "code",
      "source": [
        "epochs = 50\n",
        "batch_size = 32\n",
        "iters = int(x_train.shape[0]/batch_size)*epochs\n",
        "one_cycle_lr = One_cycle_lr(iters, max_lr=0.03)\n",
        "history_onecycle = model.fit(x_train, y_train,\n",
        "                             validation_split=0.15,\n",
        "                             epochs=epochs,\n",
        "                             callbacks=[one_cycle_lr])"
      ],
      "metadata": {
        "colab": {
          "base_uri": "https://localhost:8080/"
        },
        "id": "OIc_tJjm8HH4",
        "outputId": "a4433b8e-8036-442d-93b5-4c7ad637884f"
      },
      "id": "OIc_tJjm8HH4",
      "execution_count": 40,
      "outputs": [
        {
          "output_type": "stream",
          "name": "stdout",
          "text": [
            "Epoch 1/50\n",
            "1594/1594 [==============================] - 8s 4ms/step - loss: 0.8841 - accuracy: 0.7096 - val_loss: 0.5996 - val_accuracy: 0.7923\n",
            "Epoch 2/50\n",
            "1594/1594 [==============================] - 7s 4ms/step - loss: 0.5810 - accuracy: 0.8038 - val_loss: 0.4992 - val_accuracy: 0.8274\n",
            "Epoch 3/50\n",
            "1594/1594 [==============================] - 7s 4ms/step - loss: 0.5113 - accuracy: 0.8238 - val_loss: 0.4571 - val_accuracy: 0.8389\n",
            "Epoch 4/50\n",
            "1594/1594 [==============================] - 7s 4ms/step - loss: 0.4718 - accuracy: 0.8358 - val_loss: 0.4305 - val_accuracy: 0.8493\n",
            "Epoch 5/50\n",
            "1594/1594 [==============================] - 7s 4ms/step - loss: 0.4458 - accuracy: 0.8447 - val_loss: 0.4092 - val_accuracy: 0.8556\n",
            "Epoch 6/50\n",
            "1594/1594 [==============================] - 7s 4ms/step - loss: 0.4249 - accuracy: 0.8519 - val_loss: 0.3993 - val_accuracy: 0.8616\n",
            "Epoch 7/50\n",
            "1594/1594 [==============================] - 7s 4ms/step - loss: 0.4067 - accuracy: 0.8573 - val_loss: 0.3909 - val_accuracy: 0.8610\n",
            "Epoch 8/50\n",
            "1594/1594 [==============================] - 8s 5ms/step - loss: 0.3934 - accuracy: 0.8615 - val_loss: 0.3771 - val_accuracy: 0.8646\n",
            "Epoch 9/50\n",
            "1594/1594 [==============================] - 7s 4ms/step - loss: 0.3816 - accuracy: 0.8630 - val_loss: 0.3736 - val_accuracy: 0.8684\n",
            "Epoch 10/50\n",
            "1594/1594 [==============================] - 7s 4ms/step - loss: 0.3690 - accuracy: 0.8696 - val_loss: 0.3641 - val_accuracy: 0.8749\n",
            "Epoch 11/50\n",
            "1594/1594 [==============================] - 7s 4ms/step - loss: 0.3603 - accuracy: 0.8704 - val_loss: 0.3554 - val_accuracy: 0.8736\n",
            "Epoch 12/50\n",
            "1594/1594 [==============================] - 7s 4ms/step - loss: 0.3516 - accuracy: 0.8746 - val_loss: 0.3605 - val_accuracy: 0.8702\n",
            "Epoch 13/50\n",
            "1594/1594 [==============================] - 7s 4ms/step - loss: 0.3418 - accuracy: 0.8783 - val_loss: 0.3477 - val_accuracy: 0.8759\n",
            "Epoch 14/50\n",
            "1594/1594 [==============================] - 7s 4ms/step - loss: 0.3312 - accuracy: 0.8803 - val_loss: 0.3511 - val_accuracy: 0.8732\n",
            "Epoch 15/50\n",
            "1594/1594 [==============================] - 7s 4ms/step - loss: 0.3252 - accuracy: 0.8817 - val_loss: 0.3426 - val_accuracy: 0.8776\n",
            "Epoch 16/50\n",
            "1594/1594 [==============================] - 7s 4ms/step - loss: 0.3163 - accuracy: 0.8849 - val_loss: 0.3455 - val_accuracy: 0.8783\n",
            "Epoch 17/50\n",
            "1594/1594 [==============================] - 7s 4ms/step - loss: 0.3147 - accuracy: 0.8853 - val_loss: 0.3328 - val_accuracy: 0.8833\n",
            "Epoch 18/50\n",
            "1594/1594 [==============================] - 7s 4ms/step - loss: 0.3046 - accuracy: 0.8889 - val_loss: 0.3363 - val_accuracy: 0.8807\n",
            "Epoch 19/50\n",
            "1594/1594 [==============================] - 7s 4ms/step - loss: 0.2984 - accuracy: 0.8916 - val_loss: 0.3424 - val_accuracy: 0.8774\n",
            "Epoch 20/50\n",
            "1594/1594 [==============================] - 7s 4ms/step - loss: 0.2914 - accuracy: 0.8951 - val_loss: 0.3364 - val_accuracy: 0.8816\n",
            "Epoch 21/50\n",
            "1594/1594 [==============================] - 7s 4ms/step - loss: 0.2876 - accuracy: 0.8945 - val_loss: 0.3259 - val_accuracy: 0.8866\n",
            "Epoch 22/50\n",
            "1594/1594 [==============================] - 7s 4ms/step - loss: 0.2817 - accuracy: 0.8958 - val_loss: 0.3346 - val_accuracy: 0.8836\n",
            "Epoch 23/50\n",
            "1594/1594 [==============================] - 7s 4ms/step - loss: 0.2779 - accuracy: 0.8987 - val_loss: 0.3348 - val_accuracy: 0.8841\n",
            "Epoch 24/50\n",
            "1594/1594 [==============================] - 7s 4ms/step - loss: 0.2717 - accuracy: 0.8986 - val_loss: 0.3341 - val_accuracy: 0.8821\n",
            "Epoch 25/50\n",
            "1594/1594 [==============================] - 7s 5ms/step - loss: 0.2658 - accuracy: 0.9027 - val_loss: 0.3287 - val_accuracy: 0.8833\n",
            "Epoch 26/50\n",
            "1594/1594 [==============================] - 7s 4ms/step - loss: 0.2617 - accuracy: 0.9039 - val_loss: 0.3417 - val_accuracy: 0.8786\n",
            "Epoch 27/50\n",
            "1594/1594 [==============================] - 7s 4ms/step - loss: 0.2579 - accuracy: 0.9047 - val_loss: 0.3271 - val_accuracy: 0.8837\n",
            "Epoch 28/50\n",
            "1594/1594 [==============================] - 7s 4ms/step - loss: 0.2518 - accuracy: 0.9069 - val_loss: 0.3321 - val_accuracy: 0.8848\n",
            "Epoch 29/50\n",
            "1594/1594 [==============================] - 7s 4ms/step - loss: 0.2436 - accuracy: 0.9105 - val_loss: 0.3276 - val_accuracy: 0.8853\n",
            "Epoch 30/50\n",
            "1594/1594 [==============================] - 7s 4ms/step - loss: 0.2386 - accuracy: 0.9105 - val_loss: 0.3289 - val_accuracy: 0.8877\n",
            "Epoch 31/50\n",
            "1594/1594 [==============================] - 7s 4ms/step - loss: 0.2319 - accuracy: 0.9150 - val_loss: 0.3257 - val_accuracy: 0.8893\n",
            "Epoch 32/50\n",
            "1594/1594 [==============================] - 7s 4ms/step - loss: 0.2261 - accuracy: 0.9167 - val_loss: 0.3360 - val_accuracy: 0.8854\n",
            "Epoch 33/50\n",
            "1594/1594 [==============================] - 7s 4ms/step - loss: 0.2218 - accuracy: 0.9185 - val_loss: 0.3268 - val_accuracy: 0.8872\n",
            "Epoch 34/50\n",
            "1594/1594 [==============================] - 7s 4ms/step - loss: 0.2181 - accuracy: 0.9191 - val_loss: 0.3318 - val_accuracy: 0.8870\n",
            "Epoch 35/50\n",
            "1594/1594 [==============================] - 7s 4ms/step - loss: 0.2158 - accuracy: 0.9199 - val_loss: 0.3322 - val_accuracy: 0.8851\n",
            "Epoch 36/50\n",
            "1594/1594 [==============================] - 6s 4ms/step - loss: 0.2072 - accuracy: 0.9230 - val_loss: 0.3454 - val_accuracy: 0.8796\n",
            "Epoch 37/50\n",
            "1594/1594 [==============================] - 7s 4ms/step - loss: 0.2051 - accuracy: 0.9238 - val_loss: 0.3313 - val_accuracy: 0.8862\n",
            "Epoch 38/50\n",
            "1594/1594 [==============================] - 7s 4ms/step - loss: 0.2014 - accuracy: 0.9252 - val_loss: 0.3214 - val_accuracy: 0.8903\n",
            "Epoch 39/50\n",
            "1594/1594 [==============================] - 7s 4ms/step - loss: 0.1971 - accuracy: 0.9285 - val_loss: 0.3288 - val_accuracy: 0.8852\n",
            "Epoch 40/50\n",
            "1594/1594 [==============================] - 7s 4ms/step - loss: 0.1934 - accuracy: 0.9285 - val_loss: 0.3280 - val_accuracy: 0.8901\n",
            "Epoch 41/50\n",
            "1594/1594 [==============================] - 7s 4ms/step - loss: 0.1883 - accuracy: 0.9305 - val_loss: 0.3420 - val_accuracy: 0.8873\n",
            "Epoch 42/50\n",
            "1594/1594 [==============================] - 7s 4ms/step - loss: 0.1836 - accuracy: 0.9318 - val_loss: 0.3404 - val_accuracy: 0.8874\n",
            "Epoch 43/50\n",
            "1594/1594 [==============================] - 7s 4ms/step - loss: 0.1803 - accuracy: 0.9344 - val_loss: 0.3372 - val_accuracy: 0.8902\n",
            "Epoch 44/50\n",
            "1594/1594 [==============================] - 7s 4ms/step - loss: 0.1750 - accuracy: 0.9361 - val_loss: 0.3408 - val_accuracy: 0.8884\n",
            "Epoch 45/50\n",
            "1594/1594 [==============================] - 7s 4ms/step - loss: 0.1712 - accuracy: 0.9377 - val_loss: 0.3332 - val_accuracy: 0.8907\n",
            "Epoch 46/50\n",
            "1594/1594 [==============================] - 6s 4ms/step - loss: 0.1693 - accuracy: 0.9375 - val_loss: 0.3314 - val_accuracy: 0.8912\n",
            "Epoch 47/50\n",
            "1594/1594 [==============================] - 7s 4ms/step - loss: 0.1655 - accuracy: 0.9397 - val_loss: 0.3379 - val_accuracy: 0.8893\n",
            "Epoch 48/50\n",
            "1594/1594 [==============================] - 7s 4ms/step - loss: 0.1634 - accuracy: 0.9399 - val_loss: 0.3366 - val_accuracy: 0.8909\n",
            "Epoch 49/50\n",
            "1594/1594 [==============================] - 7s 4ms/step - loss: 0.1605 - accuracy: 0.9406 - val_loss: 0.3443 - val_accuracy: 0.8882\n",
            "Epoch 50/50\n",
            "1594/1594 [==============================] - 7s 4ms/step - loss: 0.1602 - accuracy: 0.9410 - val_loss: 0.3431 - val_accuracy: 0.8918\n"
          ]
        }
      ]
    },
    {
      "cell_type": "code",
      "source": [
        "fig, ax = plt.subplots(figsize=(12, 5))\n",
        "ax.plot(history_onecycle.history[\"loss\"], label=\"train loss\")\n",
        "ax.plot(history_onecycle.history[\"accuracy\"], label=\"train accuracy\")\n",
        "ax.plot(history_onecycle.history[\"val_loss\"], label=\"validation loss\")\n",
        "ax.plot(history_onecycle.history[\"val_accuracy\"], label=\"validation accuracy\")\n",
        "ax.legend()"
      ],
      "metadata": {
        "colab": {
          "base_uri": "https://localhost:8080/",
          "height": 358
        },
        "id": "SP1TOdebAkdK",
        "outputId": "6be4e6a4-bd4d-4770-a300-e53a386ba85b"
      },
      "id": "SP1TOdebAkdK",
      "execution_count": 41,
      "outputs": [
        {
          "output_type": "execute_result",
          "data": {
            "text/plain": [
              "<matplotlib.legend.Legend at 0x7fa8df487c90>"
            ]
          },
          "metadata": {},
          "execution_count": 41
        },
        {
          "output_type": "display_data",
          "data": {
            "image/png": "[encoded data removed]",
            "text/plain": [
              "<Figure size 864x360 with 1 Axes>"
            ]
          },
          "metadata": {
            "needs_background": "light"
          }
        }
      ]
    },
    {
      "cell_type": "markdown",
      "source": [
        "# Save"
      ],
      "metadata": {
        "id": "ft1Ds4gqJHAL"
      },
      "id": "ft1Ds4gqJHAL"
    },
    {
      "cell_type": "code",
      "source": [
        "model.save(\"model0.h5\")"
      ],
      "metadata": {
        "id": "KPJGnP-PTjjc"
      },
      "id": "KPJGnP-PTjjc",
      "execution_count": null,
      "outputs": []
    },
    {
      "cell_type": "code",
      "source": [
        "model0 = keras.models.load_model(\"model0.h5\")"
      ],
      "metadata": {
        "id": "aqUHfbrxJ059"
      },
      "id": "aqUHfbrxJ059",
      "execution_count": null,
      "outputs": []
    },
    {
      "cell_type": "code",
      "source": [
        "model0.get_weights()[4]"
      ],
      "metadata": {
        "colab": {
          "base_uri": "https://localhost:8080/"
        },
        "id": "ifyWNkrWMcKs",
        "outputId": "71dc7f2a-6da7-4f01-8ce8-1f2a0d84b82d"
      },
      "id": "ifyWNkrWMcKs",
      "execution_count": null,
      "outputs": [
        {
          "output_type": "execute_result",
          "data": {
            "text/plain": [
              "array([[-0.06704623, -0.11174253, -0.00563421, ..., -0.02029336,\n",
              "         0.01927974,  0.146645  ],\n",
              "       [-0.0795177 ,  0.08650598,  0.09299318, ...,  0.03900306,\n",
              "         0.01614566, -0.09741197],\n",
              "       [ 0.05308377, -0.00142669,  0.02594119, ...,  0.08916065,\n",
              "        -0.0596556 , -0.03666259],\n",
              "       ...,\n",
              "       [-0.04310189, -0.04397746,  0.12586327, ...,  0.05857656,\n",
              "         0.15224995,  0.06473288],\n",
              "       [-0.02583297, -0.05026561,  0.08253539, ...,  0.02924732,\n",
              "         0.0960122 , -0.10992494],\n",
              "       [ 0.04974783,  0.0737893 , -0.08731119, ..., -0.12971976,\n",
              "         0.04082621, -0.13510756]], dtype=float32)"
            ]
          },
          "metadata": {},
          "execution_count": 154
        }
      ]
    },
    {
      "cell_type": "code",
      "source": [
        "model1.get_weights()[4]"
      ],
      "metadata": {
        "colab": {
          "base_uri": "https://localhost:8080/"
        },
        "id": "AOnwYDUyOf1d",
        "outputId": "fe5db285-338d-450f-8806-2c3c66bae844"
      },
      "id": "AOnwYDUyOf1d",
      "execution_count": null,
      "outputs": [
        {
          "output_type": "execute_result",
          "data": {
            "text/plain": [
              "array([[-0.06704623, -0.11174253, -0.00563421, ..., -0.02029336,\n",
              "         0.01927974,  0.146645  ],\n",
              "       [-0.0795177 ,  0.08650598,  0.09299318, ...,  0.03900306,\n",
              "         0.01614566, -0.09741197],\n",
              "       [ 0.05308377, -0.00142669,  0.02594119, ...,  0.08916065,\n",
              "        -0.0596556 , -0.03666259],\n",
              "       ...,\n",
              "       [-0.04310189, -0.04397746,  0.12586327, ...,  0.05857656,\n",
              "         0.15224995,  0.06473288],\n",
              "       [-0.02583297, -0.05026561,  0.08253539, ...,  0.02924732,\n",
              "         0.0960122 , -0.10992494],\n",
              "       [ 0.04974783,  0.0737893 , -0.08731119, ..., -0.12971976,\n",
              "         0.04082621, -0.13510756]], dtype=float32)"
            ]
          },
          "metadata": {},
          "execution_count": 153
        }
      ]
    },
    {
      "cell_type": "code",
      "source": [
        "model0_cloned = keras.models.clone_model(model0)\n",
        "model0_cloned.set_weights(model0.get_weights())"
      ],
      "metadata": {
        "id": "dt-tw4qjMVek"
      },
      "id": "dt-tw4qjMVek",
      "execution_count": null,
      "outputs": []
    },
    {
      "cell_type": "code",
      "source": [
        "model0_cloned.get_weights()[4]"
      ],
      "metadata": {
        "colab": {
          "base_uri": "https://localhost:8080/"
        },
        "id": "UcZ0iTOPMlJe",
        "outputId": "5adbf84c-7285-46dc-dbb5-14010088dad5"
      },
      "id": "UcZ0iTOPMlJe",
      "execution_count": null,
      "outputs": [
        {
          "output_type": "execute_result",
          "data": {
            "text/plain": [
              "array([[-0.06704623, -0.11174253, -0.00563421, ..., -0.02029336,\n",
              "         0.01927974,  0.146645  ],\n",
              "       [-0.07952756,  0.0865082 ,  0.09298178, ...,  0.03900573,\n",
              "         0.01614139, -0.09744514],\n",
              "       [ 0.05307489, -0.00144449,  0.02591839, ...,  0.08911391,\n",
              "        -0.05962572, -0.03665954],\n",
              "       ...,\n",
              "       [-0.04281421, -0.04491483,  0.12648545, ...,  0.06454027,\n",
              "         0.15204246,  0.0652566 ],\n",
              "       [-0.02540588, -0.05094827,  0.08252302, ...,  0.03255223,\n",
              "         0.09608161, -0.11013214],\n",
              "       [ 0.04969933,  0.0737593 , -0.08726431, ..., -0.12961605,\n",
              "         0.04082294, -0.13520084]], dtype=float32)"
            ]
          },
          "metadata": {},
          "execution_count": 155
        }
      ]
    },
    {
      "cell_type": "code",
      "source": [
        "model1 = keras.models.Sequential(model0.layers[:-1])\n",
        "model1.add(keras.layers.Dense(1, activation=\"sigmoid\"))\n",
        "model1.summary()"
      ],
      "metadata": {
        "colab": {
          "base_uri": "https://localhost:8080/"
        },
        "id": "fs4rQbIbT9we",
        "outputId": "28f22bdc-cf63-48a7-db96-ddbb0d0335ed"
      },
      "id": "fs4rQbIbT9we",
      "execution_count": null,
      "outputs": [
        {
          "output_type": "stream",
          "name": "stdout",
          "text": [
            "Model: \"sequential_5\"\n",
            "_________________________________________________________________\n",
            " Layer (type)                Output Shape              Param #   \n",
            "=================================================================\n",
            " flatten (Flatten)           (None, 784)               0         \n",
            "                                                                 \n",
            " batch_normalization (BatchN  (None, 784)              3136      \n",
            " ormalization)                                                   \n",
            "                                                                 \n",
            " dense (Dense)               (None, 100)               78400     \n",
            "                                                                 \n",
            " batch_normalization_1 (Batc  (None, 100)              400       \n",
            " hNormalization)                                                 \n",
            "                                                                 \n",
            " activation (Activation)     (None, 100)               0         \n",
            "                                                                 \n",
            " dense_1 (Dense)             (None, 75)                7500      \n",
            "                                                                 \n",
            " batch_normalization_2 (Batc  (None, 75)               300       \n",
            " hNormalization)                                                 \n",
            "                                                                 \n",
            " leaky_re_lu (LeakyReLU)     (None, 75)                0         \n",
            "                                                                 \n",
            " dense_7 (Dense)             (None, 1)                 76        \n",
            "                                                                 \n",
            "=================================================================\n",
            "Total params: 89,812\n",
            "Trainable params: 87,894\n",
            "Non-trainable params: 1,918\n",
            "_________________________________________________________________\n"
          ]
        }
      ]
    },
    {
      "cell_type": "code",
      "source": [
        "for layer in model1.layers[:-1]:\n",
        "  layer.trainable = True\n",
        "  print(layer.trainable)"
      ],
      "metadata": {
        "colab": {
          "base_uri": "https://localhost:8080/"
        },
        "id": "dgViXWo7T_hB",
        "outputId": "060de977-bd0e-4950-e8f7-3b1de7d83a5d"
      },
      "id": "dgViXWo7T_hB",
      "execution_count": null,
      "outputs": [
        {
          "output_type": "stream",
          "name": "stdout",
          "text": [
            "True\n",
            "True\n",
            "True\n",
            "True\n",
            "True\n",
            "True\n",
            "True\n",
            "True\n"
          ]
        }
      ]
    },
    {
      "cell_type": "code",
      "source": [
        "model1.summary()"
      ],
      "metadata": {
        "colab": {
          "base_uri": "https://localhost:8080/"
        },
        "id": "hHxNxYyfU2zE",
        "outputId": "b9cfd23f-8de1-47de-85ae-388ef041f994"
      },
      "id": "hHxNxYyfU2zE",
      "execution_count": null,
      "outputs": [
        {
          "output_type": "stream",
          "name": "stdout",
          "text": [
            "Model: \"sequential_5\"\n",
            "_________________________________________________________________\n",
            " Layer (type)                Output Shape              Param #   \n",
            "=================================================================\n",
            " flatten (Flatten)           (None, 784)               0         \n",
            "                                                                 \n",
            " batch_normalization (BatchN  (None, 784)              3136      \n",
            " ormalization)                                                   \n",
            "                                                                 \n",
            " dense (Dense)               (None, 100)               78400     \n",
            "                                                                 \n",
            " batch_normalization_1 (Batc  (None, 100)              400       \n",
            " hNormalization)                                                 \n",
            "                                                                 \n",
            " activation (Activation)     (None, 100)               0         \n",
            "                                                                 \n",
            " dense_1 (Dense)             (None, 75)                7500      \n",
            "                                                                 \n",
            " batch_normalization_2 (Batc  (None, 75)               300       \n",
            " hNormalization)                                                 \n",
            "                                                                 \n",
            " leaky_re_lu (LeakyReLU)     (None, 75)                0         \n",
            "                                                                 \n",
            " dense_7 (Dense)             (None, 1)                 76        \n",
            "                                                                 \n",
            "=================================================================\n",
            "Total params: 89,812\n",
            "Trainable params: 76\n",
            "Non-trainable params: 89,736\n",
            "_________________________________________________________________\n"
          ]
        }
      ]
    },
    {
      "cell_type": "code",
      "source": [
        "x_train_new = x_train[:5000, :, :]"
      ],
      "metadata": {
        "id": "K3_sA2jbIwUB"
      },
      "id": "K3_sA2jbIwUB",
      "execution_count": null,
      "outputs": []
    },
    {
      "cell_type": "code",
      "source": [
        "y_train_new = np.where(y_train == 9, 1, 0)[:5000]"
      ],
      "metadata": {
        "id": "vbpxIgpONW9i"
      },
      "id": "vbpxIgpONW9i",
      "execution_count": null,
      "outputs": []
    },
    {
      "cell_type": "code",
      "source": [
        "model1.compile(loss=\"binary_crossentropy\", optimizer=\"sgd\", metrics=[\"accuracy\"])"
      ],
      "metadata": {
        "id": "CgTZqtJwNue7"
      },
      "id": "CgTZqtJwNue7",
      "execution_count": null,
      "outputs": []
    },
    {
      "cell_type": "code",
      "source": [
        "model1.fit(x_train_new, y_train_new, epochs=15, validation_split=0.15)"
      ],
      "metadata": {
        "colab": {
          "base_uri": "https://localhost:8080/"
        },
        "id": "xWwOeUJZOH9N",
        "outputId": "cf3ffd62-41e7-4bb2-80a9-f5cbb0d89e7d"
      },
      "id": "xWwOeUJZOH9N",
      "execution_count": null,
      "outputs": [
        {
          "output_type": "stream",
          "name": "stdout",
          "text": [
            "Epoch 1/15\n",
            "133/133 [==============================] - 2s 6ms/step - loss: 0.1294 - accuracy: 0.9605 - val_loss: 0.1399 - val_accuracy: 0.9787\n",
            "Epoch 2/15\n",
            "133/133 [==============================] - 1s 4ms/step - loss: 0.0830 - accuracy: 0.9760 - val_loss: 0.0777 - val_accuracy: 0.9827\n",
            "Epoch 3/15\n",
            "133/133 [==============================] - 1s 5ms/step - loss: 0.0689 - accuracy: 0.9772 - val_loss: 0.0575 - val_accuracy: 0.9827\n",
            "Epoch 4/15\n",
            "133/133 [==============================] - 1s 4ms/step - loss: 0.0583 - accuracy: 0.9826 - val_loss: 0.0507 - val_accuracy: 0.9840\n",
            "Epoch 5/15\n",
            "133/133 [==============================] - 1s 4ms/step - loss: 0.0550 - accuracy: 0.9838 - val_loss: 0.0469 - val_accuracy: 0.9840\n",
            "Epoch 6/15\n",
            "133/133 [==============================] - 1s 4ms/step - loss: 0.0505 - accuracy: 0.9847 - val_loss: 0.0451 - val_accuracy: 0.9840\n",
            "Epoch 7/15\n",
            "133/133 [==============================] - 1s 4ms/step - loss: 0.0473 - accuracy: 0.9842 - val_loss: 0.0427 - val_accuracy: 0.9853\n",
            "Epoch 8/15\n",
            "133/133 [==============================] - 1s 5ms/step - loss: 0.0450 - accuracy: 0.9859 - val_loss: 0.0415 - val_accuracy: 0.9853\n",
            "Epoch 9/15\n",
            "133/133 [==============================] - 1s 4ms/step - loss: 0.0408 - accuracy: 0.9875 - val_loss: 0.0414 - val_accuracy: 0.9840\n",
            "Epoch 10/15\n",
            "133/133 [==============================] - 1s 4ms/step - loss: 0.0411 - accuracy: 0.9864 - val_loss: 0.0392 - val_accuracy: 0.9853\n",
            "Epoch 11/15\n",
            "133/133 [==============================] - 1s 4ms/step - loss: 0.0376 - accuracy: 0.9880 - val_loss: 0.0408 - val_accuracy: 0.9840\n",
            "Epoch 12/15\n",
            "133/133 [==============================] - 1s 4ms/step - loss: 0.0363 - accuracy: 0.9875 - val_loss: 0.0381 - val_accuracy: 0.9867\n",
            "Epoch 13/15\n",
            "133/133 [==============================] - 1s 5ms/step - loss: 0.0341 - accuracy: 0.9896 - val_loss: 0.0383 - val_accuracy: 0.9880\n",
            "Epoch 14/15\n",
            "133/133 [==============================] - 1s 4ms/step - loss: 0.0340 - accuracy: 0.9892 - val_loss: 0.0396 - val_accuracy: 0.9827\n",
            "Epoch 15/15\n",
            "133/133 [==============================] - 1s 5ms/step - loss: 0.0348 - accuracy: 0.9896 - val_loss: 0.0360 - val_accuracy: 0.9880\n"
          ]
        },
        {
          "output_type": "execute_result",
          "data": {
            "text/plain": [
              "<keras.callbacks.History at 0x7f295ae40050>"
            ]
          },
          "metadata": {},
          "execution_count": 152
        }
      ]
    },
    {
      "cell_type": "code",
      "source": [
        ""
      ],
      "metadata": {
        "id": "ptycSOfSUTro"
      },
      "id": "ptycSOfSUTro",
      "execution_count": null,
      "outputs": []
    },
    {
      "cell_type": "markdown",
      "source": [
        "# Optimizers"
      ],
      "metadata": {
        "id": "WwMp87Y4ap2T"
      },
      "id": "WwMp87Y4ap2T"
    },
    {
      "cell_type": "code",
      "source": [
        "def func(x):\n",
        "  return x**2\n",
        "\n",
        "def func_grad(x):\n",
        "  return 2*x"
      ],
      "metadata": {
        "id": "H50tnO2AchLn"
      },
      "id": "H50tnO2AchLn",
      "execution_count": null,
      "outputs": []
    },
    {
      "cell_type": "code",
      "source": [
        "def gradient_descent(lr, func_grad):\n",
        "  x = -10\n",
        "  x_values = [x]\n",
        "  for i in range(10):\n",
        "    x -= lr*func_grad(x)\n",
        "    x_values.append(x)\n",
        "  print(\"iteration 10, x: %s\"%x)\n",
        "  return x_values"
      ],
      "metadata": {
        "id": "JVW24S8ictmt"
      },
      "id": "JVW24S8ictmt",
      "execution_count": null,
      "outputs": []
    },
    {
      "cell_type": "code",
      "source": [
        "def search_path(x_vals, func):\n",
        "  x_line = np.arange(-15, 15, 0.01)\n",
        "  plt.plot(x_line, [func(x) for x in x_line])\n",
        "  plt.plot(x_vals, [func(x) for x in x_vals], \"ro-\")"
      ],
      "metadata": {
        "id": "vjqqbDyBdUfQ"
      },
      "id": "vjqqbDyBdUfQ",
      "execution_count": null,
      "outputs": []
    },
    {
      "cell_type": "code",
      "source": [
        "x_values = gradient_descent(0.8, func_grad)\n",
        "search_path(x_values, func)"
      ],
      "metadata": {
        "colab": {
          "base_uri": "https://localhost:8080/",
          "height": 303
        },
        "id": "zVlAx3oqeDLs",
        "outputId": "15008a21-171e-48b7-be6b-394f4b47d727"
      },
      "id": "zVlAx3oqeDLs",
      "execution_count": null,
      "outputs": [
        {
          "output_type": "stream",
          "name": "stdout",
          "text": [
            "iteration 10, x: -0.060466176000000066\n"
          ]
        },
        {
          "output_type": "display_data",
          "data": {
            "image/png": "[encoded data removed]",
            "text/plain": [
              "<Figure size 432x288 with 1 Axes>"
            ]
          },
          "metadata": {
            "needs_background": "light"
          }
        }
      ]
    },
    {
      "cell_type": "code",
      "source": [
        "def func(x1, x2):\n",
        "  return x1**2 + 2 * x2**2\n",
        "\n",
        "def func_grad(x1, x2):\n",
        "  return (2*x1, 4*x2)"
      ],
      "metadata": {
        "id": "6-k4wLuleP7x"
      },
      "id": "6-k4wLuleP7x",
      "execution_count": null,
      "outputs": []
    },
    {
      "cell_type": "code",
      "source": [
        "class Optimizers:\n",
        "  def __init__(self, lr_schedule):\n",
        "    self.lr_schedule = lr_schedule\n",
        "  \n",
        "  def lr(self, rate, t):\n",
        "    if self.lr_schedule == \"constant\":\n",
        "      return self.constant_lr(rate)\n",
        "    elif self.lr_schedule == \"power\":\n",
        "      return self.power_lr(rate, t)\n",
        "  \n",
        "  def constant_lr(self, rate):\n",
        "    return rate\n",
        "  \n",
        "  def power_lr(self, rate, t):\n",
        "    c = 1\n",
        "    s = 10\n",
        "    return rate/(1 + t/s)**c\n",
        "\n",
        "  def gradient_descent(self, x1, x2, t1, t2, func_grad, rate, t):\n",
        "    gr_x1, gr_x2 = func_grad(x1, x2)\n",
        "    return x1 - self.lr(rate, t)*gr_x1, x2 - self.lr(rate, t)*gr_x2, 0, 0\n",
        "  \n",
        "  def stochastic_gradient_descent(self, x1, x2, t1, t2, func_grad):\n",
        "    gr_x1, gr_x2 = func_grad(x1, x2)\n",
        "    gr_x1 += np.random.normal(0, 1)\n",
        "    gr_x2 += np.random.normal(0, 1)\n",
        "    return x1 - self.lr_schedule*gr_x1, x2 - self.lr_schedule*gr_x2, 0, 0\n",
        "  \n",
        "  def gradient_descent_with_momentum(self, x1, x2, v1, v2, func_grad):\n",
        "    alpha = 0.9\n",
        "    gr_x1, gr_x2 = func_grad(x1, x2)\n",
        "    v1 = alpha*v1 - self.lr_schedule*gr_x1\n",
        "    v2 = alpha*v2 - self.lr_schedule*gr_x2\n",
        "    return x1 + v1, x2 + v2, v1, v2\n",
        "  \n",
        "  def nesterov_gradient_descent_with_momentum(self, x1, x2, v1, v2, func_grad):\n",
        "    alpha=0.9\n",
        "    x1 += alpha*v1\n",
        "    x2 += alpha*v2\n",
        "    gr_x1, gr_x2 = func_grad(x1, x2)\n",
        "    v1 = alpha*v1 - self.lr_schedule*gr_x1\n",
        "    v2 = alpha*v2 - self.lr_schedule*gr_x2\n",
        "    return x1 + v1, x2 + v2, v1, v2\n",
        "\n",
        "  def ada_grad(self, x1, x2, r1, r2, func_grad):\n",
        "    delta = 1e-7\n",
        "    gr_x1, gr_x2 = func_grad(x1, x2)\n",
        "    r1 += gr_x1**2\n",
        "    r2 += gr_x2**2\n",
        "    x1 -= self.lr_schedule/(delta + np.sqrt(r1))*gr_x1\n",
        "    x2 -= self.lr_schedule/(delta + np.sqrt(r2))*gr_x2\n",
        "    return x1, x2, r1, r2\n",
        "  \n",
        "  def rmsprop(self, x1, x2, r1, r2, func_grad):\n",
        "    delta = 1e-7\n",
        "    rho = 0.9\n",
        "    gr_x1, gr_x2 = func_grad(x1, x2)\n",
        "    r1 = r1*rho + (1-rho)*gr_x1**2\n",
        "    r2 = r2*rho + (1-rho)*gr_x2**2\n",
        "    x1 -= self.lr_schedule/np.sqrt(delta+r1)*gr_x1\n",
        "    x2 -= self.lr_schedule/np.sqrt(delta+r2)*gr_x2\n",
        "    return x1, x2, r1, r2\n",
        "\n",
        "  def adam(self, x1, x2, s1, s2, r1, r2, t, func_grad):\n",
        "    delta, rho1, rho2 = 1e-8, 0.9, 0.999\n",
        "    gr_x1, gr_x2 = func_grad(x1, x2)\n",
        "\n",
        "    s1 = rho1*s1 + (1-rho1)*gr_x1\n",
        "    s2 = rho1*s2 + (1-rho1)*gr_x2\n",
        "\n",
        "    r1 = rho2*r1 + (1-rho2)*gr_x1**2\n",
        "    r2 = rho2*r2 + (1-rho2)*gr_x2**2\n",
        "\n",
        "    shat1 = s1/(1-rho1**(t+1))\n",
        "    shat2 = s2/(1-rho1**(t+1))\n",
        "\n",
        "    rhat1 = r1/(1-rho2**(t+1))\n",
        "    rhat2 = r2/(1-rho2**(t+1))\n",
        "\n",
        "    x1 -= self.lr_schedule*shat1/(np.sqrt(rhat1)+delta)\n",
        "    x2 -= self.lr_schedule*shat2/(np.sqrt(rhat2)+delta)\n",
        "\n",
        "    return x1, x2, s1, s2, r1, r2"
      ],
      "metadata": {
        "id": "RQC1Gp8OpLkH"
      },
      "id": "RQC1Gp8OpLkH",
      "execution_count": null,
      "outputs": []
    },
    {
      "cell_type": "code",
      "source": [
        "def search(optimizer, func_grad, rate, iteration=20):\n",
        "  x1, x2, t1, t2 = -5, -2, 0, 0\n",
        "  x_iterations = [(x1, x2)]\n",
        "  for i in range(iteration):\n",
        "    x1, x2, t1, t2 = optimizer(x1, x2, t1, t2, func_grad, rate, i+1)\n",
        "    x_iterations.append((x1, x2))\n",
        "  print(\"epoch {}, x1:{}, x2:{}\".format(i+1, x1, x2))\n",
        "  return x_iterations"
      ],
      "metadata": {
        "id": "IY34pwUSq1c2"
      },
      "id": "IY34pwUSq1c2",
      "execution_count": null,
      "outputs": []
    },
    {
      "cell_type": "code",
      "source": [
        "def search_adam(optimizer_adam, func_grad, iterations=20):\n",
        "  x1, x2, s1, s2, r1, r2 = -5, -2, 0, 0, 0, 0\n",
        "  x_iterations = [(x1, x2)]\n",
        "  for t in range(iterations):\n",
        "    x1, x2, s1, s2, r1, r2 = optimizer_adam(x1, x2, s1, s2, r1, r2, t, func_grad)\n",
        "    x_iterations.append((x1, x2))\n",
        "  print(\"epoch {}, x1:{}, x2:{}\".format(t+1, x1, x2))\n",
        "  return x_iterations"
      ],
      "metadata": {
        "id": "8HhFi-E7Uee7"
      },
      "id": "8HhFi-E7Uee7",
      "execution_count": null,
      "outputs": []
    },
    {
      "cell_type": "code",
      "source": [
        "def search_path(func, x_iterations):\n",
        "  plt.plot(*zip(*x_iterations), \"-o\", color=\"r\")\n",
        "  x1, x2 = np.meshgrid(np.arange(-5.5, 5.5, 0.1), np.arange(-5.5, 5.5, 0.1))\n",
        "  plt.contourf(x1, x2, func(x1, x2))\n",
        "  plt.xlabel(\"x1\")\n",
        "  plt.ylabel(\"x2\")"
      ],
      "metadata": {
        "id": "Jel6E-3MyhwQ"
      },
      "id": "Jel6E-3MyhwQ",
      "execution_count": null,
      "outputs": []
    },
    {
      "cell_type": "code",
      "source": [
        "opt = Optimizers(\"constant\")\n",
        "search_path(func, search(opt.gradient_descent, func_grad, 0.5))"
      ],
      "metadata": {
        "colab": {
          "base_uri": "https://localhost:8080/",
          "height": 317
        },
        "id": "EWVZkqJjT7Cl",
        "outputId": "fa30ba85-81a9-4b50-aea3-41ecdc9a1535"
      },
      "id": "EWVZkqJjT7Cl",
      "execution_count": null,
      "outputs": [
        {
          "output_type": "stream",
          "name": "stdout",
          "text": [
            "epoch 20, x1:0.0, x2:-2.0\n"
          ]
        },
        {
          "output_type": "display_data",
          "data": {
            "image/png": "[encoded data removed]",
            "text/plain": [
              "<Figure size 432x288 with 1 Axes>"
            ]
          },
          "metadata": {
            "needs_background": "light"
          }
        }
      ]
    },
    {
      "cell_type": "code",
      "source": [
        "opt = Optimizers(\"power\")\n",
        "search_path(func, search(opt.gradient_descent, func_grad, 0.5))"
      ],
      "metadata": {
        "colab": {
          "base_uri": "https://localhost:8080/",
          "height": 317
        },
        "id": "KImJgrqocA-d",
        "outputId": "18b1dd73-1e27-45a4-b6d5-62e4a158ac02"
      },
      "id": "KImJgrqocA-d",
      "execution_count": null,
      "outputs": [
        {
          "output_type": "stream",
          "name": "stdout",
          "text": [
            "epoch 20, x1:-1.6641695802115608e-07, x2:0.0\n"
          ]
        },
        {
          "output_type": "display_data",
          "data": {
            "image/png": "[encoded data removed]",
            "text/plain": [
              "<Figure size 432x288 with 1 Axes>"
            ]
          },
          "metadata": {
            "needs_background": "light"
          }
        }
      ]
    },
    {
      "cell_type": "code",
      "source": [
        "opt = Optimizers(\"constant\", 0.1)\n",
        "search_path(func, search(opt.stochastic_gradient_descent, func_grad))"
      ],
      "metadata": {
        "colab": {
          "base_uri": "https://localhost:8080/",
          "height": 317
        },
        "id": "hR9a2FDbzsUa",
        "outputId": "3790c14f-8261-4ed8-c32e-876531e3c34e"
      },
      "id": "hR9a2FDbzsUa",
      "execution_count": null,
      "outputs": [
        {
          "output_type": "stream",
          "name": "stdout",
          "text": [
            "epoch 20, x1:-0.16024933146013975, x2:-0.0018786976475187803\n"
          ]
        },
        {
          "output_type": "display_data",
          "data": {
            "image/png": "[encoded data removed]",
            "text/plain": [
              "<Figure size 432x288 with 1 Axes>"
            ]
          },
          "metadata": {
            "needs_background": "light"
          }
        }
      ]
    },
    {
      "cell_type": "code",
      "source": [
        "opt = Optimizers(\"constant\", 0.02)\n",
        "search_path(func, search(opt.gradient_descent_with_momentum, func_grad))"
      ],
      "metadata": {
        "colab": {
          "base_uri": "https://localhost:8080/",
          "height": 317
        },
        "id": "gMWsrjO1H1Ux",
        "outputId": "67059953-5e48-4158-f317-6ad78f86e5f2"
      },
      "id": "gMWsrjO1H1Ux",
      "execution_count": null,
      "outputs": [
        {
          "output_type": "stream",
          "name": "stdout",
          "text": [
            "epoch 20, x1:1.3779266705610334, x2:-0.5800871623873937\n"
          ]
        },
        {
          "output_type": "display_data",
          "data": {
            "image/png": "[encoded data removed]",
            "text/plain": [
              "<Figure size 432x288 with 1 Axes>"
            ]
          },
          "metadata": {
            "needs_background": "light"
          }
        }
      ]
    },
    {
      "cell_type": "code",
      "source": [
        "opt = Optimizers(\"constant\", 0.02)\n",
        "search_path(func, search(opt.nesterov_gradient_descent_with_momentum, func_grad))"
      ],
      "metadata": {
        "id": "t-X1zRVuH66F",
        "colab": {
          "base_uri": "https://localhost:8080/",
          "height": 317
        },
        "outputId": "ce51fed3-8e71-4c8e-be63-5afd4a730127"
      },
      "id": "t-X1zRVuH66F",
      "execution_count": null,
      "outputs": [
        {
          "output_type": "stream",
          "name": "stdout",
          "text": [
            "epoch 20, x1:-1.1226000420540831, x2:0.00764917525261577\n"
          ]
        },
        {
          "output_type": "display_data",
          "data": {
            "image/png": "[encoded data removed]",
            "text/plain": [
              "<Figure size 432x288 with 1 Axes>"
            ]
          },
          "metadata": {
            "needs_background": "light"
          }
        }
      ]
    },
    {
      "cell_type": "code",
      "source": [
        "opt = Optimizers(\"constant\", 0.5)\n",
        "search_path(func, search(opt.ada_grad, func_grad))"
      ],
      "metadata": {
        "colab": {
          "base_uri": "https://localhost:8080/",
          "height": 317
        },
        "id": "YWgI48iBCDw8",
        "outputId": "fe38fc87-180c-4dc8-9a5f-9dbea5ef31ac"
      },
      "id": "YWgI48iBCDw8",
      "execution_count": null,
      "outputs": [
        {
          "output_type": "stream",
          "name": "stdout",
          "text": [
            "epoch 20, x1:-1.8828800844526354, x2:-0.05646173745279083\n"
          ]
        },
        {
          "output_type": "display_data",
          "data": {
            "image/png": "[encoded data removed]",
            "text/plain": [
              "<Figure size 432x288 with 1 Axes>"
            ]
          },
          "metadata": {
            "needs_background": "light"
          }
        }
      ]
    },
    {
      "cell_type": "code",
      "source": [
        "opt = Optimizers(\"constant\", 0.5)\n",
        "search_path(func, search(opt.rmsprop, func_grad))"
      ],
      "metadata": {
        "colab": {
          "base_uri": "https://localhost:8080/",
          "height": 317
        },
        "id": "B_6pEbhyEO_i",
        "outputId": "3a03b473-63d0-4599-c37f-6327c3db2826"
      },
      "id": "B_6pEbhyEO_i",
      "execution_count": null,
      "outputs": [
        {
          "output_type": "stream",
          "name": "stdout",
          "text": [
            "epoch 20, x1:-0.000343174646715899, x2:4.843326533006444e-13\n"
          ]
        },
        {
          "output_type": "display_data",
          "data": {
            "image/png": "[encoded data removed]",
            "text/plain": [
              "<Figure size 432x288 with 1 Axes>"
            ]
          },
          "metadata": {
            "needs_background": "light"
          }
        }
      ]
    },
    {
      "cell_type": "code",
      "source": [
        "opt = Optimizers(\"constant\", 0.3)\n",
        "search_path(func, search_adam(opt.adam, func_grad))"
      ],
      "metadata": {
        "colab": {
          "base_uri": "https://localhost:8080/",
          "height": 317
        },
        "id": "akVOmDhYSGGt",
        "outputId": "422ccb97-d549-4c4d-dd0b-f10644f91e04"
      },
      "id": "akVOmDhYSGGt",
      "execution_count": null,
      "outputs": [
        {
          "output_type": "stream",
          "name": "stdout",
          "text": [
            "epoch 20, x1:0.09247206594414789, x2:0.27886722324803453\n"
          ]
        },
        {
          "output_type": "display_data",
          "data": {
            "image/png": "[encoded data removed]",
            "text/plain": [
              "<Figure size 432x288 with 1 Axes>"
            ]
          },
          "metadata": {
            "needs_background": "light"
          }
        }
      ]
    },
    {
      "cell_type": "markdown",
      "source": [
        "# Overfitting"
      ],
      "metadata": {
        "id": "-_qKDWCFC1Z8"
      },
      "id": "-_qKDWCFC1Z8"
    },
    {
      "cell_type": "markdown",
      "source": [
        "## L1 and L2"
      ],
      "metadata": {
        "id": "Ahz1EzOhDiMF"
      },
      "id": "Ahz1EzOhDiMF"
    },
    {
      "cell_type": "code",
      "source": [
        "model = keras.models.Sequential([\n",
        "    keras.layers.Flatten(input_shape=[28, 28]),\n",
        "    keras.layers.Dense(100, activation=\"elu\",\n",
        "                       kernel_initializer=\"he_normal\",\n",
        "                       kernel_regulizer=keras.regularizers.l2(0.01)),\n",
        "    keras.layers.Dense(100, activation=\"elu\",\n",
        "                       kernel_initializer=\"he_normal\"),\n",
        "    keras.layers.Dense(50, activation=\"elu\",\n",
        "                       kernel_initializer=\"he_normal\"),                       \n",
        "    keras.layers.Dense(10, activation=\"softmax\")\n",
        "])"
      ],
      "metadata": {
        "id": "C6N1L0WVVMFk"
      },
      "id": "C6N1L0WVVMFk",
      "execution_count": null,
      "outputs": []
    },
    {
      "cell_type": "code",
      "source": [
        "model.compile(loss=\"sparse_categorical_crossentropy\",\n",
        "              optimizer=\"sgd\",\n",
        "              metrics=[\"accuracy\"])"
      ],
      "metadata": {
        "id": "Qa3bjhdbDFMV"
      },
      "id": "Qa3bjhdbDFMV",
      "execution_count": null,
      "outputs": []
    },
    {
      "cell_type": "markdown",
      "source": [
        "## Dropout"
      ],
      "metadata": {
        "id": "kLgYXG1gJAGt"
      },
      "id": "kLgYXG1gJAGt"
    },
    {
      "cell_type": "code",
      "source": [
        "model = keras.models.Sequential([\n",
        "    keras.layers.Flatten(input_shape=[28, 28]),\n",
        "    keras.layers.Dropout(0.2),\n",
        "    keras.layers.Dense(100, activation=\"elu\",\n",
        "                       kernel_initializer=\"he_normal\",\n",
        "                       kernel_regularizer=keras.regularizers.l2(0.01)),\n",
        "    keras.layers.Dropout(0.2),\n",
        "    keras.layers.Dense(100, activation=\"elu\",\n",
        "                       kernel_initializer=\"he_normal\"),\n",
        "    keras.layers.Dropout(0.2),\n",
        "    keras.layers.Dense(50, activation=\"elu\",\n",
        "                       kernel_initializer=\"he_normal\"),\n",
        "    keras.layers.Dropout(0.2),                       \n",
        "    keras.layers.Dense(10, activation=\"softmax\")\n",
        "])"
      ],
      "metadata": {
        "id": "T1u_CuHEDfj3"
      },
      "id": "T1u_CuHEDfj3",
      "execution_count": 65,
      "outputs": []
    },
    {
      "cell_type": "code",
      "source": [
        "model.compile(loss=\"sparse_categorical_crossentropy\",\n",
        "              optimizer=\"sgd\",\n",
        "              metrics=[\"accuracy\"])"
      ],
      "metadata": {
        "id": "eNrH6DuYKiZd"
      },
      "id": "eNrH6DuYKiZd",
      "execution_count": 67,
      "outputs": []
    },
    {
      "cell_type": "code",
      "source": [
        "history = model.fit(x_train, y_train, \n",
        "                    validation_split=0.15,\n",
        "                    epochs=20)"
      ],
      "metadata": {
        "colab": {
          "base_uri": "https://localhost:8080/"
        },
        "id": "kKeNipiRKwyt",
        "outputId": "ad6c1f9b-3896-45b4-917c-301d6e3dbc0b"
      },
      "id": "kKeNipiRKwyt",
      "execution_count": 49,
      "outputs": [
        {
          "output_type": "stream",
          "name": "stdout",
          "text": [
            "Epoch 1/20\n",
            "1594/1594 [==============================] - 7s 4ms/step - loss: 2.3735 - accuracy: 0.6826 - val_loss: 1.6272 - val_accuracy: 0.7972\n",
            "Epoch 2/20\n",
            "1594/1594 [==============================] - 6s 4ms/step - loss: 1.4325 - accuracy: 0.7749 - val_loss: 1.0867 - val_accuracy: 0.8142\n",
            "Epoch 3/20\n",
            "1594/1594 [==============================] - 6s 4ms/step - loss: 1.0159 - accuracy: 0.7938 - val_loss: 0.8085 - val_accuracy: 0.8244\n",
            "Epoch 4/20\n",
            "1594/1594 [==============================] - 6s 4ms/step - loss: 0.8065 - accuracy: 0.8043 - val_loss: 0.6659 - val_accuracy: 0.8277\n",
            "Epoch 5/20\n",
            "1594/1594 [==============================] - 8s 5ms/step - loss: 0.6952 - accuracy: 0.8083 - val_loss: 0.5899 - val_accuracy: 0.8357\n",
            "Epoch 6/20\n",
            "1594/1594 [==============================] - 6s 4ms/step - loss: 0.6374 - accuracy: 0.8109 - val_loss: 0.5754 - val_accuracy: 0.8147\n",
            "Epoch 7/20\n",
            "1594/1594 [==============================] - 6s 4ms/step - loss: 0.6076 - accuracy: 0.8124 - val_loss: 0.5250 - val_accuracy: 0.8343\n",
            "Epoch 8/20\n",
            "1594/1594 [==============================] - 6s 4ms/step - loss: 0.5885 - accuracy: 0.8125 - val_loss: 0.5257 - val_accuracy: 0.8290\n",
            "Epoch 9/20\n",
            "1594/1594 [==============================] - 6s 4ms/step - loss: 0.5810 - accuracy: 0.8132 - val_loss: 0.5073 - val_accuracy: 0.8372\n",
            "Epoch 10/20\n",
            "1594/1594 [==============================] - 7s 4ms/step - loss: 0.5729 - accuracy: 0.8158 - val_loss: 0.5087 - val_accuracy: 0.8372\n",
            "Epoch 11/20\n",
            "1594/1594 [==============================] - 6s 4ms/step - loss: 0.5714 - accuracy: 0.8150 - val_loss: 0.5318 - val_accuracy: 0.8227\n",
            "Epoch 12/20\n",
            "1594/1594 [==============================] - 6s 4ms/step - loss: 0.5695 - accuracy: 0.8148 - val_loss: 0.5086 - val_accuracy: 0.8279\n",
            "Epoch 13/20\n",
            "1594/1594 [==============================] - 6s 4ms/step - loss: 0.5672 - accuracy: 0.8146 - val_loss: 0.5012 - val_accuracy: 0.8391\n",
            "Epoch 14/20\n",
            "1594/1594 [==============================] - 7s 4ms/step - loss: 0.5656 - accuracy: 0.8145 - val_loss: 0.5209 - val_accuracy: 0.8284\n",
            "Epoch 15/20\n",
            "1594/1594 [==============================] - 6s 4ms/step - loss: 0.5621 - accuracy: 0.8175 - val_loss: 0.5200 - val_accuracy: 0.8307\n",
            "Epoch 16/20\n",
            "1594/1594 [==============================] - 6s 4ms/step - loss: 0.5615 - accuracy: 0.8174 - val_loss: 0.4861 - val_accuracy: 0.8427\n",
            "Epoch 17/20\n",
            "1594/1594 [==============================] - 6s 4ms/step - loss: 0.5595 - accuracy: 0.8178 - val_loss: 0.4877 - val_accuracy: 0.8382\n",
            "Epoch 18/20\n",
            "1594/1594 [==============================] - 6s 4ms/step - loss: 0.5606 - accuracy: 0.8177 - val_loss: 0.5042 - val_accuracy: 0.8304\n",
            "Epoch 19/20\n",
            "1594/1594 [==============================] - 6s 4ms/step - loss: 0.5562 - accuracy: 0.8162 - val_loss: 0.4869 - val_accuracy: 0.8418\n",
            "Epoch 20/20\n",
            "1594/1594 [==============================] - 6s 4ms/step - loss: 0.5554 - accuracy: 0.8173 - val_loss: 0.5015 - val_accuracy: 0.8359\n"
          ]
        }
      ]
    },
    {
      "cell_type": "code",
      "source": [
        "model_mcd = np.stack([model(x_test, training=True) for _ in range(50)])"
      ],
      "metadata": {
        "id": "ubeYaDBEO1bc"
      },
      "id": "ubeYaDBEO1bc",
      "execution_count": 54,
      "outputs": []
    },
    {
      "cell_type": "code",
      "source": [
        "np.round(model.predict(x_test[:1]), 3)"
      ],
      "metadata": {
        "colab": {
          "base_uri": "https://localhost:8080/"
        },
        "id": "FmOdVBonPiYB",
        "outputId": "c5a1f3c8-7076-4283-a0eb-b9911074bf59"
      },
      "id": "FmOdVBonPiYB",
      "execution_count": 58,
      "outputs": [
        {
          "output_type": "execute_result",
          "data": {
            "text/plain": [
              "array([[0.   , 0.   , 0.   , 0.   , 0.   , 0.14 , 0.   , 0.147, 0.001,\n",
              "        0.712]], dtype=float32)"
            ]
          },
          "metadata": {},
          "execution_count": 58
        }
      ]
    },
    {
      "cell_type": "code",
      "source": [
        "np.round(model_mcd.mean(axis=0)[:1], 3)"
      ],
      "metadata": {
        "colab": {
          "base_uri": "https://localhost:8080/"
        },
        "id": "W5kKFk2lP7nI",
        "outputId": "6a1c3ce2-4079-4bab-eecb-55a5cb513142"
      },
      "id": "W5kKFk2lP7nI",
      "execution_count": 62,
      "outputs": [
        {
          "output_type": "execute_result",
          "data": {
            "text/plain": [
              "array([[0.   , 0.   , 0.   , 0.   , 0.   , 0.178, 0.   , 0.163, 0.01 ,\n",
              "        0.649]], dtype=float32)"
            ]
          },
          "metadata": {},
          "execution_count": 62
        }
      ]
    },
    {
      "cell_type": "code",
      "source": [
        "class MonteCarloDropout(keras.layers.Dropout):\n",
        "  def call(self, inputs):\n",
        "    return super().call(inputs, training=True)"
      ],
      "metadata": {
        "id": "7GZqF3fvQTFP"
      },
      "id": "7GZqF3fvQTFP",
      "execution_count": 63,
      "outputs": []
    },
    {
      "cell_type": "markdown",
      "source": [
        "## Max-Norm"
      ],
      "metadata": {
        "id": "-Ju6mUnkBQQ2"
      },
      "id": "-Ju6mUnkBQQ2"
    },
    {
      "cell_type": "code",
      "source": [
        "model = keras.models.Sequential([\n",
        "    keras.layers.Flatten(input_shape=[28, 28]),\n",
        "    keras.layers.Dropout(0.2),\n",
        "    keras.layers.Dense(100, activation=\"elu\",\n",
        "                       kernel_initializer=\"he_normal\",\n",
        "                       kernel_regularizer=keras.regularizers.l2(0.01),\n",
        "                       kernel_constraint=keras.constraints.max_norm(1.0)),\n",
        "    keras.layers.Dropout(0.2),\n",
        "    keras.layers.Dense(100, activation=\"elu\",\n",
        "                       kernel_initializer=\"he_normal\"),\n",
        "    keras.layers.Dropout(0.2),\n",
        "    keras.layers.Dense(50, activation=\"elu\",\n",
        "                       kernel_initializer=\"he_normal\"),\n",
        "    keras.layers.Dropout(0.2),                       \n",
        "    keras.layers.Dense(10, activation=\"softmax\")\n",
        "])"
      ],
      "metadata": {
        "id": "yt6Ysq-uSfqD"
      },
      "id": "yt6Ysq-uSfqD",
      "execution_count": 69,
      "outputs": []
    },
    {
      "cell_type": "code",
      "source": [
        "model.compile(loss=\"sparse_categorical_crossentropy\",\n",
        "              optimizer=\"sgd\",\n",
        "              metrics=[\"accuracy\"])"
      ],
      "metadata": {
        "id": "8Z1AuyiXBvVn"
      },
      "id": "8Z1AuyiXBvVn",
      "execution_count": 70,
      "outputs": []
    },
    {
      "cell_type": "code",
      "source": [
        ""
      ],
      "metadata": {
        "id": "AiqVUM_cB0C1"
      },
      "id": "AiqVUM_cB0C1",
      "execution_count": null,
      "outputs": []
    }
  ],
  "metadata": {
    "kernelspec": {
      "display_name": "Python 3 (ipykernel)",
      "language": "python",
      "name": "python3"
    },
    "language_info": {
      "codemirror_mode": {
        "name": "ipython",
        "version": 3
      },
      "file_extension": ".py",
      "mimetype": "text/x-python",
      "name": "python",
      "nbconvert_exporter": "python",
      "pygments_lexer": "ipython3",
      "version": "3.7.11"
    },
    "colab": {
      "name": "Ch03.ipynb",
      "provenance": [],
      "collapsed_sections": []
    }
  },
  "nbformat": 4,
  "nbformat_minor": 5
}